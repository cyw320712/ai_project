{
  "cells": [
    {
      "cell_type": "markdown",
      "metadata": {
        "id": "aNcL1ksMCaZw"
      },
      "source": [
        "# KoBERT finetuning"
      ]
    },
    {
      "cell_type": "code",
      "execution_count": null,
      "metadata": {
        "id": "MSbbb8YBCaZ0"
      },
      "outputs": [],
      "source": [
        "!pip install git+https://git@github.com/SKTBrain/KoBERT.git@master"
      ]
    },
    {
      "cell_type": "markdown",
      "metadata": {
        "id": "Bhj8cruVxAUB"
      },
      "source": [
        "# Import packages"
      ]
    },
    {
      "cell_type": "code",
      "execution_count": null,
      "metadata": {
        "colab": {
          "base_uri": "https://localhost:8080/"
        },
        "id": "KvIzeWVsCaZ2",
        "outputId": "947e0cde-df5b-4b43-deb4-5800d6b23336"
      },
      "outputs": [
        {
          "output_type": "stream",
          "name": "stdout",
          "text": [
            "Mounted at /content/drive\n"
          ]
        }
      ],
      "source": [
        "import torch\n",
        "from torch import nn\n",
        "import torch.nn.functional as F\n",
        "import torch.optim as optim\n",
        "from torch.utils.data import Dataset, DataLoader, random_split, SubsetRandomSampler, ConcatDataset\n",
        "from sklearn.model_selection import KFold\n",
        "import gluonnlp as nlp\n",
        "import numpy as np\n",
        "from tqdm.notebook import tqdm\n",
        "import tensorboard\n",
        "from google.colab import drive\n",
        "drive.mount('/content/drive')"
      ]
    },
    {
      "cell_type": "code",
      "execution_count": null,
      "metadata": {
        "id": "ClCEjIqxCaZ4"
      },
      "outputs": [],
      "source": [
        "from kobert import get_tokenizer\n",
        "from kobert import get_pytorch_kobert_model"
      ]
    },
    {
      "cell_type": "code",
      "execution_count": null,
      "metadata": {
        "id": "ztGUJSmOCaZ5"
      },
      "outputs": [],
      "source": [
        "from transformers import AdamW\n",
        "from transformers.optimization import get_cosine_schedule_with_warmup"
      ]
    },
    {
      "cell_type": "code",
      "execution_count": null,
      "metadata": {
        "id": "kAFGpjEDCaZ6"
      },
      "outputs": [],
      "source": [
        "## CPU\n",
        "#device = torch.device(\"cpu\")\n",
        "\n",
        "## GPU\n",
        "device = torch.device(\"cuda:0\")"
      ]
    },
    {
      "cell_type": "code",
      "execution_count": null,
      "metadata": {
        "colab": {
          "base_uri": "https://localhost:8080/"
        },
        "id": "RQUGxUIF6yKL",
        "outputId": "78b132fa-540c-42c3-fc67-64c97901e09a"
      },
      "outputs": [
        {
          "output_type": "stream",
          "name": "stdout",
          "text": [
            "Tue May 17 23:08:24 2022       \n",
            "+-----------------------------------------------------------------------------+\n",
            "| NVIDIA-SMI 460.32.03    Driver Version: 460.32.03    CUDA Version: 11.2     |\n",
            "|-------------------------------+----------------------+----------------------+\n",
            "| GPU  Name        Persistence-M| Bus-Id        Disp.A | Volatile Uncorr. ECC |\n",
            "| Fan  Temp  Perf  Pwr:Usage/Cap|         Memory-Usage | GPU-Util  Compute M. |\n",
            "|                               |                      |               MIG M. |\n",
            "|===============================+======================+======================|\n",
            "|   0  Tesla P100-PCIE...  Off  | 00000000:00:04.0 Off |                    0 |\n",
            "| N/A   35C    P0    26W / 250W |      0MiB / 16280MiB |      0%      Default |\n",
            "|                               |                      |                  N/A |\n",
            "+-------------------------------+----------------------+----------------------+\n",
            "                                                                               \n",
            "+-----------------------------------------------------------------------------+\n",
            "| Processes:                                                                  |\n",
            "|  GPU   GI   CI        PID   Type   Process name                  GPU Memory |\n",
            "|        ID   ID                                                   Usage      |\n",
            "|=============================================================================|\n",
            "|  No running processes found                                                 |\n",
            "+-----------------------------------------------------------------------------+\n"
          ]
        }
      ],
      "source": [
        "gpu_info = !nvidia-smi\n",
        "gpu_info = '\\n'.join(gpu_info)\n",
        "if gpu_info.find('failed') >= 0:\n",
        "  print('Not connected to a GPU')\n",
        "else:\n",
        "  print(gpu_info)"
      ]
    },
    {
      "cell_type": "markdown",
      "metadata": {
        "id": "FtznH3gBxUP6"
      },
      "source": [
        "# Fix Seed \n",
        "For reproductibility, fix seed"
      ]
    },
    {
      "cell_type": "code",
      "execution_count": null,
      "metadata": {
        "id": "x0146FVw1xSB"
      },
      "outputs": [],
      "source": [
        "# Seed everything for reproductibility\n",
        "def seed_everything(seed: int = 42):\n",
        "    import random\n",
        "    random.seed(seed)\n",
        "    np.random.seed(seed)\n",
        "    torch.manual_seed(seed)\n",
        "    torch.cuda.manual_seed(seed)  # type: ignore\n",
        "    torch.backends.cudnn.deterministic = True  # type: ignore\n",
        "    torch.backends.cudnn.benchmark = True  # type: ignore"
      ]
    },
    {
      "cell_type": "code",
      "execution_count": null,
      "metadata": {
        "id": "HaKJnaT31cbr"
      },
      "outputs": [],
      "source": [
        "SEED = 2022\n",
        "seed_everything(SEED)"
      ]
    },
    {
      "cell_type": "markdown",
      "metadata": {
        "id": "_-6CwRK9xfOi"
      },
      "source": [
        "# Dataset\n"
      ]
    },
    {
      "cell_type": "code",
      "execution_count": null,
      "metadata": {
        "colab": {
          "base_uri": "https://localhost:8080/"
        },
        "id": "6gZpfT2ax5kf",
        "outputId": "e38570d1-86eb-43b3-acb5-defe51993c63"
      },
      "outputs": [
        {
          "output_type": "stream",
          "name": "stderr",
          "text": [
            "/usr/local/lib/python3.7/dist-packages/IPython/core/interactiveshell.py:2882: DtypeWarning: Columns (2) have mixed types.Specify dtype option on import or set low_memory=False.\n",
            "  exec(code_obj, self.user_global_ns, self.user_ns)\n"
          ]
        }
      ],
      "source": [
        "import pandas as pd\n",
        "#불러올 파일의 경로를 filename 변수에 저장\n",
        "filename = '/content/drive/MyDrive/total_data.csv'\n",
        "\n",
        "#pandas read_csv로 불러오기\n",
        "data = pd.read_csv(filename, names=['ID', \"data\", \"label\"], encoding='cp949', header=None)"
      ]
    },
    {
      "cell_type": "code",
      "execution_count": null,
      "metadata": {
        "id": "VeN3vRTZzAzo"
      },
      "outputs": [],
      "source": [
        "# 불필요한 row, column 제거\n",
        "data = data.drop(['ID'], axis=1)\n",
        "data = data.drop([0], axis=0)"
      ]
    },
    {
      "cell_type": "code",
      "execution_count": null,
      "metadata": {
        "colab": {
          "base_uri": "https://localhost:8080/"
        },
        "id": "0mdGMX9R1Q8p",
        "outputId": "cbc1dec0-a3ac-4661-845e-42a72e93e468"
      },
      "outputs": [
        {
          "output_type": "stream",
          "name": "stdout",
          "text": [
            "전체 데이터 개수\n",
            "Label 0:  2415122\n",
            "Label 1:  1484108\n"
          ]
        }
      ],
      "source": [
        "print(\"전체 데이터 개수\")\n",
        "print(\"Label 0: \", data[data.label==0].shape[0])\n",
        "print(\"Label 1: \", data[data.label==1].shape[0])"
      ]
    },
    {
      "cell_type": "code",
      "source": [
        "#data = data.sample(frac=0.0001)"
      ],
      "metadata": {
        "id": "3EchS-7z1ekr"
      },
      "execution_count": null,
      "outputs": []
    },
    {
      "cell_type": "code",
      "execution_count": null,
      "metadata": {
        "id": "aA2t2R_54Pph"
      },
      "outputs": [],
      "source": [
        "from sklearn.model_selection import train_test_split\n",
        "dataset_train, dataset_test = train_test_split(data, test_size=0.2)"
      ]
    },
    {
      "cell_type": "code",
      "execution_count": null,
      "metadata": {
        "colab": {
          "base_uri": "https://localhost:8080/"
        },
        "id": "O1VAT-Zj4ZCJ",
        "outputId": "494a7478-b7ec-4a31-cc08-503c6efeb96d"
      },
      "outputs": [
        {
          "output_type": "stream",
          "name": "stdout",
          "text": [
            "Train Dataset 데이터 개수\n",
            "Train - Label 0:  1932431\n",
            "Train - Label 1:  1186894\n",
            "Test Dataset 데이터 개수\n",
            "Test - Label 0:  482691\n",
            "Test - Label 1:  297214\n"
          ]
        }
      ],
      "source": [
        "print(\"Train Dataset 데이터 개수\")\n",
        "print(\"Train - Label 0: \", dataset_train[dataset_train.label==0].shape[0])\n",
        "print(\"Train - Label 1: \", dataset_train[dataset_train.label==1].shape[0])\n",
        "print(\"Test Dataset 데이터 개수\")\n",
        "print(\"Test - Label 0: \", dataset_test[dataset_test.label==0].shape[0])\n",
        "print(\"Test - Label 1: \", dataset_test[dataset_test.label==1].shape[0])"
      ]
    },
    {
      "cell_type": "code",
      "execution_count": null,
      "metadata": {
        "colab": {
          "base_uri": "https://localhost:8080/"
        },
        "id": "hNWiDcOTxlhL",
        "outputId": "79e411e5-4f6d-42df-cac0-efc0eec3fbac"
      },
      "outputs": [
        {
          "output_type": "stream",
          "name": "stdout",
          "text": [
            "/content/.cache/kobert_v1.zip[██████████████████████████████████████████████████]\n",
            "/content/.cache/kobert_news_wiki_ko_cased-1087f8699e.spiece[██████████████████████████████████████████████████]\n"
          ]
        }
      ],
      "source": [
        "bertmodel, vocab = get_pytorch_kobert_model(cachedir=\".cache\")"
      ]
    },
    {
      "cell_type": "code",
      "execution_count": null,
      "metadata": {
        "colab": {
          "base_uri": "https://localhost:8080/"
        },
        "id": "Pt0SR8xICaaC",
        "outputId": "3b838f84-c0d5-4da8-eddc-6179ed736316"
      },
      "outputs": [
        {
          "output_type": "stream",
          "name": "stdout",
          "text": [
            "using cached model. /content/.cache/kobert_news_wiki_ko_cased-1087f8699e.spiece\n"
          ]
        }
      ],
      "source": [
        "# 토크나이저\n",
        "tokenizer = get_tokenizer()\n",
        "tok = nlp.data.BERTSPTokenizer(tokenizer, vocab, lower=False)"
      ]
    },
    {
      "cell_type": "code",
      "execution_count": null,
      "metadata": {
        "id": "pUItrNs3CaaD"
      },
      "outputs": [],
      "source": [
        "class BERTDataset(Dataset):\n",
        "    def __init__(self, dataset, sent_idx, label_idx, bert_tokenizer, max_len,\n",
        "                 pad, pair):\n",
        "        transform = nlp.data.BERTSentenceTransform(bert_tokenizer, max_seq_length=max_len, pad=pad, pair=pair)\n",
        "\n",
        "        dataset_len = dataset.shape[0]\n",
        "\n",
        "        self.sentences = [transform([str(dataset.iloc[i][0])]) for i in range(dataset_len)]\n",
        "        self.labels = [np.int32(dataset.iloc[i][1]) for i in range(dataset_len)]\n",
        "        \n",
        "        #self.sentences = [transform(dataset['data'].tolist())]\n",
        "        #self.labels = [np.int32(dataset['label'].tolist())]\n",
        "\n",
        "    def __getitem__(self, i):\n",
        "        return (self.sentences[i] + (self.labels[i], ))\n",
        "\n",
        "    def __len__(self):\n",
        "        return (len(self.labels))\n"
      ]
    },
    {
      "cell_type": "code",
      "execution_count": null,
      "metadata": {
        "id": "t1ReDCHrzDWy"
      },
      "outputs": [],
      "source": [
        "## Setting parameters\n",
        "max_len = 64\n",
        "batch_size = 128\n",
        "K = 3"
      ]
    },
    {
      "cell_type": "code",
      "execution_count": null,
      "metadata": {
        "id": "106c7UvXCaaE"
      },
      "outputs": [],
      "source": [
        "data_train = BERTDataset(dataset_train, 0, 1, tok, max_len, True, False)"
      ]
    },
    {
      "cell_type": "code",
      "execution_count": null,
      "metadata": {
        "id": "ylGnSfotRXNr"
      },
      "outputs": [],
      "source": [
        "# Cross Validation\n",
        "splits = KFold(n_splits=K, shuffle=True, random_state=SEED)"
      ]
    },
    {
      "cell_type": "markdown",
      "metadata": {
        "id": "_UMySYoj3PP2"
      },
      "source": [
        "# Model"
      ]
    },
    {
      "cell_type": "code",
      "execution_count": null,
      "metadata": {
        "id": "jG2tg9GOCaaF"
      },
      "outputs": [],
      "source": [
        "class BERTClassifier(nn.Module):\n",
        "    def __init__(self,\n",
        "                 bert,\n",
        "                 hidden_size = 768,\n",
        "                 num_classes=2,\n",
        "                 dr_rate=None,\n",
        "                 params=None):\n",
        "        super(BERTClassifier, self).__init__()\n",
        "        self.bert = bert\n",
        "        self.dr_rate = dr_rate\n",
        "                 \n",
        "        self.classifier = nn.Linear(hidden_size , num_classes)\n",
        "        if dr_rate:\n",
        "            self.dropout = nn.Dropout(p=dr_rate)\n",
        "    \n",
        "    def gen_attention_mask(self, token_ids, valid_length):\n",
        "        attention_mask = torch.zeros_like(token_ids)\n",
        "        for i, v in enumerate(valid_length):\n",
        "            attention_mask[i][:v] = 1\n",
        "        return attention_mask.float()\n",
        "\n",
        "    def forward(self, token_ids, valid_length, segment_ids):\n",
        "        attention_mask = self.gen_attention_mask(token_ids, valid_length)\n",
        "        ㅋ`\n",
        "        _, pooler = self.bert(input_ids = token_ids, token_type_ids = segment_ids.long(), attention_mask = attention_mask.float().to(token_ids.device))\n",
        "        if self.dr_rate:\n",
        "            out = self.dropout(pooler)\n",
        "        else:\n",
        "            out = pooler\n",
        "        return self.classifier(out)"
      ]
    },
    {
      "cell_type": "code",
      "execution_count": null,
      "metadata": {
        "id": "wlvlUSw8CaaG"
      },
      "outputs": [],
      "source": [
        "model = BERTClassifier(bertmodel, dr_rate=0.5).to(device)"
      ]
    },
    {
      "cell_type": "markdown",
      "metadata": {
        "id": "5xptKGDD3SE_"
      },
      "source": [
        "# Train"
      ]
    },
    {
      "cell_type": "code",
      "execution_count": null,
      "metadata": {
        "id": "OZWU5UVZCaaG"
      },
      "outputs": [],
      "source": [
        "# Prepare optimizer and schedule (linear warmup and decay)\n",
        "no_decay = ['bias', 'LayerNorm.weight']\n",
        "optimizer_grouped_parameters = [\n",
        "    {'params': [p for n, p in model.named_parameters() if not any(nd in n for nd in no_decay)], 'weight_decay': 0.01},\n",
        "    {'params': [p for n, p in model.named_parameters() if any(nd in n for nd in no_decay)], 'weight_decay': 0.0}\n",
        "]"
      ]
    },
    {
      "cell_type": "code",
      "execution_count": null,
      "metadata": {
        "id": "IdrN3qjEy9f5"
      },
      "outputs": [],
      "source": [
        "# setting hyper params\n",
        "warmup_ratio = 0.1\n",
        "num_epochs = 3\n",
        "max_grad_norm = 1\n",
        "log_interval = 100\n",
        "save_interval = 1000\n",
        "learning_rate =  5e-5"
      ]
    },
    {
      "cell_type": "code",
      "execution_count": null,
      "metadata": {
        "colab": {
          "base_uri": "https://localhost:8080/"
        },
        "id": "yhsJRJS3CaaH",
        "outputId": "bacbf2dd-224c-48a1-c5fa-dfb7dd0fc0f2"
      },
      "outputs": [
        {
          "output_type": "stream",
          "name": "stderr",
          "text": [
            "/usr/local/lib/python3.7/dist-packages/transformers/optimization.py:309: FutureWarning: This implementation of AdamW is deprecated and will be removed in a future version. Use the PyTorch implementation torch.optim.AdamW instead, or set `no_deprecation_warning=True` to disable this warning\n",
            "  FutureWarning,\n"
          ]
        }
      ],
      "source": [
        "# optimizer\n",
        "optimizer = AdamW(optimizer_grouped_parameters, lr=learning_rate)\n",
        "\n",
        "# loss function\n",
        "loss_fn = nn.CrossEntropyLoss()\n",
        "\n",
        "# cosine warmup scheduler\n",
        "t_total = len(dataset_train)\n",
        "warmup_step = int(t_total * warmup_ratio)\n",
        "scheduler = get_cosine_schedule_with_warmup(optimizer, num_warmup_steps=warmup_step, num_training_steps=t_total)"
      ]
    },
    {
      "cell_type": "code",
      "execution_count": null,
      "metadata": {
        "id": "aEJt4XPrCaaI"
      },
      "outputs": [],
      "source": [
        "from sklearn.metrics import f1_score, accuracy_score, recall_score, precision_score\n",
        "def calc_accuracy(X,Y):\n",
        "    max_vals, max_indices = torch.max(X, 1)\n",
        "    acc = accuracy_score(max_indices.numpy(),Y)\n",
        "    f1 = f1_score(max_indices.numpy(),Y)\n",
        "    recall = recall_score(max_indices.numpy(),Y)\n",
        "    precision = precision_score(max_indices.numpy(),Y)\n",
        "    return acc, f1, recall, precision"
      ]
    },
    {
      "cell_type": "code",
      "execution_count": null,
      "metadata": {
        "id": "rWk9otxmEDc4"
      },
      "outputs": [],
      "source": [
        "# directory to save .pth file\n",
        "MODEL_PATH = '/content/drive/MyDrive/model_ckpt/'"
      ]
    },
    {
      "cell_type": "code",
      "execution_count": null,
      "metadata": {
        "id": "L1CR2Qn8EC_C"
      },
      "outputs": [],
      "source": [
        "# If continue - 연속해서 학습시킬때만 사용\n",
        "model.load_state_dict(torch.load(MODEL_PATH+'fold2epoch3.pth')['model'])\n",
        "continue_fold = 2\n",
        "continue_epoch = 0\n",
        "continue_batch = 0"
      ]
    },
    {
      "cell_type": "code",
      "execution_count": null,
      "metadata": {
        "id": "RCorFboYTWn_"
      },
      "outputs": [],
      "source": [
        "def train_epoch(fold, epoch, model, device, dataloader, loss_fn, optimizer, continue_batch):\n",
        "    train_acc = 0\n",
        "    train_f1 = 0\n",
        "    train_recall = 0\n",
        "    train_precision = 0\n",
        "\n",
        "    # log file\n",
        "    #LOG_PATH = '/content/drive/MyDrive/logging.txt'\n",
        "    #f = open(LOG_PATH, 'a')\n",
        "\n",
        "    model.train()\n",
        "    for batch_id, (token_ids, valid_length, segment_ids, label) in tqdm(enumerate(dataloader), total=len(dataloader)):\n",
        "        # for continue\n",
        "        if batch_id < continue_batch:\n",
        "          continue\n",
        "        optimizer.zero_grad()\n",
        "        token_ids = token_ids.long().to(device)\n",
        "        segment_ids = segment_ids.long().to(device)\n",
        "        valid_length= valid_length\n",
        "        label = label.long().to(device)\n",
        "        out = model(token_ids, valid_length, segment_ids)\n",
        "        loss = loss_fn(out, label)\n",
        "        loss.backward()\n",
        "        torch.nn.utils.clip_grad_norm_(model.parameters(), max_grad_norm)\n",
        "        optimizer.step()\n",
        "        scheduler.step()  # Update learning rate schedule\n",
        "        acc, f1 ,recall, precision= calc_accuracy(out.cpu().detach(), label.cpu().detach())\n",
        "        train_acc += acc\n",
        "        train_f1 += f1\n",
        "        train_recall += recall\n",
        "        train_precision += precision\n",
        "        if batch_id % log_interval == 0:\n",
        "            log_line = \"Fold {} Epoch {} Batch {} Loss {} Acc {} F1 {} Recall {} Precision {}\".format(fold+1, epoch+1, batch_id+1, loss.data.cpu().numpy(), train_acc/(batch_id-continue_batch+1), train_f1/(batch_id-continue_batch+1), train_recall/(batch_id-continue_batch+1), train_precision/(batch_id-continue_batch+1))\n",
        "            print(log_line)\n",
        "            #f.write(log_line+\"\\n\")\n",
        "        if batch_id % save_interval == 0:\n",
        "            PATH = MODEL_PATH+f'latest.pth'\n",
        "            torch.save({\n",
        "              'epoch': epoch,\n",
        "              'model': model.state_dict()\n",
        "            }, PATH)\n",
        "            print(\"Saved model at \"+PATH)\n",
        "\n",
        "    size = len(dataloader)\n",
        "    print(\"epoch {} finish\".format(epoch))\n",
        "    #f.close()\n",
        "    return loss.data.cpu().numpy(), train_acc/size, train_f1/size, train_recall/size, train_precision/size"
      ]
    },
    {
      "cell_type": "code",
      "execution_count": null,
      "metadata": {
        "id": "oTtcElJQUlZM"
      },
      "outputs": [],
      "source": [
        "def valid_epoch(fold, epoch, model, device, dataloader, loss_fn):\n",
        "    valid_acc = 0.0\n",
        "    valid_f1 = 0.0\n",
        "    valid_recall = 0.0\n",
        "    valid_precision = 0.0\n",
        "\n",
        "    # log file\n",
        "    #LOG_PATH = '/content/drive/MyDrive/logging.txt'\n",
        "    #f = open(LOG_PATH, 'a')\n",
        "\n",
        "    model.eval()\n",
        "    for batch_id, (token_ids, valid_length, segment_ids, label) in tqdm(enumerate(dataloader), total=len(dataloader)):\n",
        "        token_ids = token_ids.long().to(device)\n",
        "        segment_ids = segment_ids.long().to(device)\n",
        "        valid_length= valid_length\n",
        "        label = label.long().to(device)\n",
        "        out = model(token_ids, valid_length, segment_ids)\n",
        "        loss = loss_fn(out, label)\n",
        "        acc, f1 ,recall, precision= calc_accuracy(out.cpu().detach(), label.cpu().detach())\n",
        "        valid_acc += acc\n",
        "        valid_f1 += f1\n",
        "        valid_recall += recall\n",
        "        valid_precision += precision\n",
        "    size = len(dataloader)\n",
        "    logline = \"Valid Result - Fold {} Epoch {} batch {} Loss {} Acc {} F1 {} Recall {} Precision {}\".format(fold+1, epoch+1, batch_id+1, loss.data.cpu().numpy(), valid_acc/size, valid_f1/size, valid_recall/size, valid_precision/size)\n",
        "    print(logline)\n",
        "    #f.write(logline+\"\\n\")\n",
        "    #f.close()\n",
        "    return loss.data.cpu().numpy(), valid_acc/size, valid_f1/size, valid_recall/size, valid_precision/size"
      ]
    },
    {
      "cell_type": "code",
      "execution_count": null,
      "metadata": {
        "colab": {
          "base_uri": "https://localhost:8080/",
          "height": 1000,
          "referenced_widgets": [
            "805ed92279824c8ab7de4fc7457c54b6",
            "76409dbcb19a4053aef34a7c35095a39",
            "a61dff922bcc40b7aee83930b0e20fb6",
            "cfe3a7b78dd84a2caf10ff72c89a022a",
            "c29cf4aa2d6a4957932cecb2cd34644d",
            "9dee5db6e3db4b0aaa778eb26dfb8d1c",
            "610162d5a10d44aba739a3c407a5f6f5",
            "c588b8f05e634ee59e248416da973e61",
            "5ed28bed45864ea7ad69fb2789dd76f4",
            "c587c84bcc304cce8b013cb214cce622",
            "1e832e094c7844e89b24b00723941914"
          ]
        },
        "id": "yT3bIjVAS_1-",
        "outputId": "913049c6-d69b-4e7b-c509-02e62dbcd222"
      },
      "outputs": [
        {
          "data": {
            "application/vnd.jupyter.widget-view+json": {
              "model_id": "805ed92279824c8ab7de4fc7457c54b6",
              "version_major": 2,
              "version_minor": 0
            },
            "text/plain": [
              "  0%|          | 0/17340 [00:00<?, ?it/s]"
            ]
          },
          "metadata": {},
          "output_type": "display_data"
        },
        {
          "output_type": "stream",
          "name": "stdout",
          "text": [
            "Fold 3 Epoch 1 Batch 1 Loss 0.2542818486690521 Acc 0.921875 F1 0.8979591836734694 Recall 0.88 Precision 0.9166666666666666\n",
            "Saved model at /content/drive/MyDrive/model_ckpt/latest.pth\n",
            "Fold 3 Epoch 1 Batch 101 Loss 0.20317396521568298 Acc 0.9410581683168316 F1 0.9245906596759945 Recall 0.911415245618008 Precision 0.9392768732889158\n",
            "Fold 3 Epoch 1 Batch 201 Loss 0.09940273314714432 Acc 0.9430970149253731 F1 0.9265800894566745 Recall 0.9139017596698306 Precision 0.9407635495354683\n",
            "Fold 3 Epoch 1 Batch 301 Loss 0.13319334387779236 Acc 0.9426650747508306 F1 0.9262202691386767 Recall 0.913735039237476 Precision 0.9403406252822455\n",
            "Fold 3 Epoch 1 Batch 401 Loss 0.1386096030473709 Acc 0.9424875311720698 F1 0.9258503930463751 Recall 0.9130016577897714 Precision 0.9403889158885478\n",
            "Fold 3 Epoch 1 Batch 501 Loss 0.09748255461454391 Acc 0.9420533932135728 F1 0.9251944892282817 Recall 0.9120104928863529 Precision 0.9401212470578111\n",
            "Fold 3 Epoch 1 Batch 601 Loss 0.11502792686223984 Acc 0.9422576955074875 F1 0.925234910122632 Recall 0.911444430881062 Precision 0.9408876306597235\n",
            "Fold 3 Epoch 1 Batch 701 Loss 0.10581861436367035 Acc 0.9423034058487875 F1 0.9252750188060824 Recall 0.9114213264334274 Precision 0.9409853329005021\n",
            "Fold 3 Epoch 1 Batch 801 Loss 0.11676055938005447 Acc 0.9426595661672909 F1 0.9257593610615857 Recall 0.9121385983993027 Precision 0.9412085773332681\n",
            "Fold 3 Epoch 1 Batch 901 Loss 0.09636396914720535 Acc 0.9427198945615982 F1 0.9257699414220616 Recall 0.912073738478656 Precision 0.941288181270151\n",
            "Fold 3 Epoch 1 Batch 1001 Loss 0.12753067910671234 Acc 0.943033528971029 F1 0.9261263638456294 Recall 0.9122872666257223 Precision 0.9418050240099446\n",
            "Saved model at /content/drive/MyDrive/model_ckpt/latest.pth\n",
            "Fold 3 Epoch 1 Batch 1101 Loss 0.15599583089351654 Acc 0.9431695617620345 F1 0.9262370008536446 Recall 0.9121429539075472 Precision 0.9422147884872569\n",
            "Fold 3 Epoch 1 Batch 1201 Loss 0.19735698401927948 Acc 0.9431658513738551 F1 0.9261358720670384 Recall 0.912087826671396 Precision 0.9420684395273413\n",
            "Fold 3 Epoch 1 Batch 1301 Loss 0.13224071264266968 Acc 0.9434749711760184 F1 0.9265655385017659 Recall 0.9123859044227657 Precision 0.9426441012972593\n",
            "Fold 3 Epoch 1 Batch 1401 Loss 0.0600680410861969 Acc 0.9434053800856531 F1 0.9264475524290141 Recall 0.9121639707826362 Precision 0.9426272278024905\n",
            "Fold 3 Epoch 1 Batch 1501 Loss 0.18146094679832458 Acc 0.9436677631578947 F1 0.9267998859334156 Recall 0.9126236714407493 Precision 0.9428569096397742\n",
            "Fold 3 Epoch 1 Batch 1601 Loss 0.2227642685174942 Acc 0.9437070580886946 F1 0.9269320429800678 Recall 0.9126898262243108 Precision 0.9430473123894222\n",
            "Fold 3 Epoch 1 Batch 1701 Loss 0.16792017221450806 Acc 0.9436636537330981 F1 0.9269036178305449 Recall 0.9125400135848525 Precision 0.9431534941246613\n",
            "Fold 3 Epoch 1 Batch 1801 Loss 0.1424548476934433 Acc 0.9437291782343142 F1 0.927021974922581 Recall 0.9125865454773736 Precision 0.943357467134833\n",
            "Fold 3 Epoch 1 Batch 1901 Loss 0.1482985019683838 Acc 0.9436768477117307 F1 0.9269395513297843 Recall 0.912473955313372 Precision 0.9433211999076689\n",
            "Fold 3 Epoch 1 Batch 2001 Loss 0.1095411479473114 Acc 0.9437468765617192 F1 0.9270226367233376 Recall 0.9127145957326553 Precision 0.94323004060398\n",
            "Saved model at /content/drive/MyDrive/model_ckpt/latest.pth\n",
            "Fold 3 Epoch 1 Batch 2101 Loss 0.10403882712125778 Acc 0.9436020049976201 F1 0.9268386067550723 Recall 0.912532351653533 Precision 0.9430408675395228\n",
            "Fold 3 Epoch 1 Batch 2201 Loss 0.1594420075416565 Acc 0.9435341890049977 F1 0.9267167077441978 Recall 0.9125056943681862 Precision 0.9428245173369878\n",
            "Fold 3 Epoch 1 Batch 2301 Loss 0.10660330951213837 Acc 0.9435401727509778 F1 0.9267378073982422 Recall 0.9125219822947018 Precision 0.9428565715039351\n",
            "Fold 3 Epoch 1 Batch 2401 Loss 0.09181886166334152 Acc 0.9434480424822991 F1 0.9265801951301234 Recall 0.9123176974287546 Precision 0.9427600819890025\n",
            "Fold 3 Epoch 1 Batch 2501 Loss 0.14303915202617645 Acc 0.9434726109556177 F1 0.9265621351123213 Recall 0.9123188534806581 Precision 0.9427249078027652\n",
            "Fold 3 Epoch 1 Batch 2601 Loss 0.063451386988163 Acc 0.9435823961937716 F1 0.9266452712630282 Recall 0.91247798564535 Precision 0.942724088369726\n",
            "Fold 3 Epoch 1 Batch 2701 Loss 0.13178184628486633 Acc 0.9434092697149205 F1 0.9263671289042253 Recall 0.9123757982864471 Precision 0.9422726546039889\n",
            "Fold 3 Epoch 1 Batch 2801 Loss 0.19990254938602448 Acc 0.9432708184576937 F1 0.9261414601988187 Recall 0.9122039048444487 Precision 0.9419950752496544\n",
            "Fold 3 Epoch 1 Batch 2901 Loss 0.11850853264331818 Acc 0.9431957730093071 F1 0.9260151617995218 Recall 0.9120303552214639 Precision 0.9419216561595721\n",
            "Fold 3 Epoch 1 Batch 3001 Loss 0.1163996085524559 Acc 0.9431934146951017 F1 0.9260052790150627 Recall 0.9120193151749921 Precision 0.9419241118117526\n",
            "Saved model at /content/drive/MyDrive/model_ckpt/latest.pth\n",
            "Fold 3 Epoch 1 Batch 3101 Loss 0.10612700134515762 Acc 0.943357485488552 F1 0.9261800680530111 Recall 0.9122833130220638 Precision 0.9420014528919848\n",
            "Fold 3 Epoch 1 Batch 3201 Loss 0.10786482691764832 Acc 0.9433599851608873 F1 0.9261541834360265 Recall 0.9123605298648634 Precision 0.9418680371969906\n",
            "Fold 3 Epoch 1 Batch 3301 Loss 0.10188353806734085 Acc 0.9433386663132384 F1 0.9261325148034931 Recall 0.9122326175996672 Precision 0.9419588149345132\n",
            "Fold 3 Epoch 1 Batch 3401 Loss 0.1270776391029358 Acc 0.9433599492796236 F1 0.9261247323587334 Recall 0.9122299285624809 Precision 0.941943098443675\n",
            "Fold 3 Epoch 1 Batch 3501 Loss 0.06862134486436844 Acc 0.9434603506141103 F1 0.9262229201775601 Recall 0.9122633381450557 Precision 0.9421031804935966\n",
            "Fold 3 Epoch 1 Batch 3601 Loss 0.17297819256782532 Acc 0.943457546514857 F1 0.9261949695344862 Recall 0.9121961414917045 Precision 0.9421118251444289\n",
            "Fold 3 Epoch 1 Batch 3701 Loss 0.15180334448814392 Acc 0.9434147865441772 F1 0.9261300999960832 Recall 0.9120988098193473 Precision 0.9420946754115499\n",
            "Fold 3 Epoch 1 Batch 3801 Loss 0.14858901500701904 Acc 0.9434215502499342 F1 0.9261748106238292 Recall 0.9121598897720038 Precision 0.9421152633695197\n",
            "Fold 3 Epoch 1 Batch 3901 Loss 0.18515996634960175 Acc 0.9434179537298129 F1 0.9261562660651829 Recall 0.9122223030974747 Precision 0.9420149108207736\n",
            "Fold 3 Epoch 1 Batch 4001 Loss 0.05385913699865341 Acc 0.9434223475381155 F1 0.926124384178417 Recall 0.9122653368709315 Precision 0.9418976327698508\n",
            "Saved model at /content/drive/MyDrive/model_ckpt/latest.pth\n",
            "Fold 3 Epoch 1 Batch 4101 Loss 0.13329161703586578 Acc 0.9434627225067057 F1 0.9261517773643442 Recall 0.9123598108685137 Precision 0.9418603541360678\n",
            "Fold 3 Epoch 1 Batch 4201 Loss 0.12355614453554153 Acc 0.9434323672935016 F1 0.9261176942963173 Recall 0.9122591929749418 Precision 0.9418948649821715\n",
            "Fold 3 Epoch 1 Batch 4301 Loss 0.11453591287136078 Acc 0.9434306701929783 F1 0.9260898661908227 Recall 0.9122950616676099 Precision 0.941805800418792\n",
            "Fold 3 Epoch 1 Batch 4401 Loss 0.12475115805864334 Acc 0.9433456174733015 F1 0.9259659712349094 Recall 0.9121659995022852 Precision 0.9416855564894236\n",
            "Fold 3 Epoch 1 Batch 4501 Loss 0.11274290084838867 Acc 0.9433389802266163 F1 0.9259610123994987 Recall 0.9121774624129078 Precision 0.9416603403850905\n",
            "Fold 3 Epoch 1 Batch 4601 Loss 0.1536235362291336 Acc 0.9432630134753315 F1 0.9258946039457892 Recall 0.9120758241590117 Precision 0.9416405527714733\n",
            "Fold 3 Epoch 1 Batch 4701 Loss 0.10593792796134949 Acc 0.9433082721761328 F1 0.9259434562029057 Recall 0.9121284454211207 Precision 0.941687052635394\n",
            "Fold 3 Epoch 1 Batch 4801 Loss 0.11277516931295395 Acc 0.9432914366798584 F1 0.9259011328069658 Recall 0.9120682473980637 Precision 0.9416614950411566\n",
            "Fold 3 Epoch 1 Batch 4901 Loss 0.1717163622379303 Acc 0.9433151397673945 F1 0.9259590479002314 Recall 0.9121475299414913 Precision 0.9416870660087753\n",
            "Fold 3 Epoch 1 Batch 5001 Loss 0.11583896726369858 Acc 0.9433722630473905 F1 0.9260116759166841 Recall 0.9122069036544834 Precision 0.9417312069330896\n",
            "Saved model at /content/drive/MyDrive/model_ckpt/latest.pth\n",
            "Fold 3 Epoch 1 Batch 5101 Loss 0.12044285237789154 Acc 0.943375073514997 F1 0.9260053759020866 Recall 0.9121973875712399 Precision 0.9417220872484086\n",
            "Fold 3 Epoch 1 Batch 5201 Loss 0.18150444328784943 Acc 0.9433702653335897 F1 0.9260153783908212 Recall 0.9121978555975875 Precision 0.941742858712906\n",
            "Fold 3 Epoch 1 Batch 5301 Loss 0.15719497203826904 Acc 0.9433626910016978 F1 0.9259981570816083 Recall 0.9121515398652832 Precision 0.9417537767589862\n",
            "Fold 3 Epoch 1 Batch 5401 Loss 0.20176927745342255 Acc 0.9433930059248288 F1 0.9260469004593056 Recall 0.9121555991832216 Precision 0.9418556617984669\n",
            "Fold 3 Epoch 1 Batch 5501 Loss 0.10617552697658539 Acc 0.9433796127976731 F1 0.9260403381769874 Recall 0.9121664610645904 Precision 0.9418370331633643\n",
            "Fold 3 Epoch 1 Batch 5601 Loss 0.19523482024669647 Acc 0.9433653030708802 F1 0.9260021307722485 Recall 0.9121102731015768 Precision 0.9418231433139674\n",
            "Fold 3 Epoch 1 Batch 5701 Loss 0.13523423671722412 Acc 0.9433843843185407 F1 0.9260426459002367 Recall 0.9121111495779398 Precision 0.9419029715501581\n",
            "Fold 3 Epoch 1 Batch 5801 Loss 0.06667649000883102 Acc 0.9433799129460437 F1 0.9260616034135636 Recall 0.9121782165712579 Precision 0.9418701497330269\n",
            "Fold 3 Epoch 1 Batch 5901 Loss 0.1407146006822586 Acc 0.9433544102694459 F1 0.9260269096318821 Recall 0.9120746618294895 Precision 0.9419173273315198\n",
            "Fold 3 Epoch 1 Batch 6001 Loss 0.13553111255168915 Acc 0.9433219463422763 F1 0.9259818914344493 Recall 0.9119954585995049 Precision 0.9419169132981106\n",
            "Saved model at /content/drive/MyDrive/model_ckpt/latest.pth\n",
            "Fold 3 Epoch 1 Batch 6101 Loss 0.21184924244880676 Acc 0.9433071934928701 F1 0.9259893824344385 Recall 0.9119586214873557 Precision 0.9419733859689138\n",
            "Fold 3 Epoch 1 Batch 6201 Loss 0.14861278235912323 Acc 0.9433029954845993 F1 0.92600495512732 Recall 0.9119498135308303 Precision 0.9420108201931126\n",
            "Fold 3 Epoch 1 Batch 6301 Loss 0.13375115394592285 Acc 0.9433138093159816 F1 0.9260478005963536 Recall 0.9119308726614406 Precision 0.9421156206656005\n",
            "Fold 3 Epoch 1 Batch 6401 Loss 0.19815979897975922 Acc 0.9432949929698484 F1 0.9259956051211522 Recall 0.9118694348050879 Precision 0.9420782484862837\n",
            "Fold 3 Epoch 1 Batch 6501 Loss 0.13323286175727844 Acc 0.9432695450699893 F1 0.925953448500496 Recall 0.9118033523297382 Precision 0.9420616423192167\n",
            "Fold 3 Epoch 1 Batch 6601 Loss 0.19790928065776825 Acc 0.9432981271777003 F1 0.925995641148042 Recall 0.9118698002131465 Precision 0.9420744789287788\n",
            "Fold 3 Epoch 1 Batch 6701 Loss 0.1959902048110962 Acc 0.9432617333233846 F1 0.9259532793695086 Recall 0.9118123474397999 Precision 0.9420492323518956\n",
            "Fold 3 Epoch 1 Batch 6801 Loss 0.16659368574619293 Acc 0.9432643177473901 F1 0.9259573026056084 Recall 0.9117812974969259 Precision 0.9420925392345578\n",
            "Fold 3 Epoch 1 Batch 6901 Loss 0.13886913657188416 Acc 0.9432645631067961 F1 0.9259638275825318 Recall 0.9118103990149069 Precision 0.9420784539172482\n",
            "Fold 3 Epoch 1 Batch 7001 Loss 0.08062267303466797 Acc 0.9432837719611484 F1 0.9259899536084203 Recall 0.9118504618043753 Precision 0.9420885870125439\n",
            "Saved model at /content/drive/MyDrive/model_ckpt/latest.pth\n",
            "Fold 3 Epoch 1 Batch 7101 Loss 0.09284178912639618 Acc 0.9433211431488523 F1 0.9260410612570829 Recall 0.9119161907826855 Precision 0.9421237179499943\n",
            "Fold 3 Epoch 1 Batch 7201 Loss 0.20040032267570496 Acc 0.9433195042355228 F1 0.9260546239669951 Recall 0.9119403461308645 Precision 0.9421253752534355\n",
            "Fold 3 Epoch 1 Batch 7301 Loss 0.19111992418766022 Acc 0.9433232605122586 F1 0.92602766342021 Recall 0.9119639549635284 Precision 0.942047335163441\n",
            "Fold 3 Epoch 1 Batch 7401 Loss 0.14034982025623322 Acc 0.9433321932846913 F1 0.9260300059850642 Recall 0.911977402843236 Precision 0.9420397184211204\n",
            "Fold 3 Epoch 1 Batch 7501 Loss 0.20947027206420898 Acc 0.943316932742301 F1 0.9260150608748676 Recall 0.9119392005960351 Precision 0.942049274613338\n",
            "Fold 3 Epoch 1 Batch 7601 Loss 0.09219256043434143 Acc 0.9433195467701618 F1 0.9260391450238038 Recall 0.9119806348653475 Precision 0.9420554648007101\n",
            "Fold 3 Epoch 1 Batch 7701 Loss 0.1669597029685974 Acc 0.9433251363459291 F1 0.9260239449224554 Recall 0.9119627160237621 Precision 0.9420432487716501\n",
            "Fold 3 Epoch 1 Batch 7801 Loss 0.10449343174695969 Acc 0.9433165619792334 F1 0.9260068002133215 Recall 0.9119372775629345 Precision 0.9420342735493217\n",
            "Fold 3 Epoch 1 Batch 7901 Loss 0.08274208754301071 Acc 0.9433052382609797 F1 0.9259956335077673 Recall 0.911924770736065 Precision 0.9420273545323056\n",
            "Fold 3 Epoch 1 Batch 8001 Loss 0.057689566165208817 Acc 0.9433244672540932 F1 0.9260383767271956 Recall 0.9119403171942823 Precision 0.942100420036553\n",
            "Saved model at /content/drive/MyDrive/model_ckpt/latest.pth\n",
            "Fold 3 Epoch 1 Batch 8101 Loss 0.07408392429351807 Acc 0.9433229693864955 F1 0.9260367308076323 Recall 0.911973970999048 Precision 0.9420692077387364\n",
            "Fold 3 Epoch 1 Batch 8201 Loss 0.10592085123062134 Acc 0.9433834288501403 F1 0.9261263931374495 Recall 0.9121199995939223 Precision 0.9420933965769909\n",
            "Fold 3 Epoch 1 Batch 8301 Loss 0.1715768575668335 Acc 0.9434113736296832 F1 0.926173340475536 Recall 0.9121872988259012 Precision 0.9421226463683868\n",
            "Fold 3 Epoch 1 Batch 8401 Loss 0.08749552071094513 Acc 0.9434191242114034 F1 0.9261994084129215 Recall 0.9122025645707995 Precision 0.9421624131898431\n",
            "Fold 3 Epoch 1 Batch 8501 Loss 0.1597699373960495 Acc 0.9434129073050229 F1 0.9261999373676584 Recall 0.9121604082716915 Precision 0.9422072418233568\n",
            "Fold 3 Epoch 1 Batch 8601 Loss 0.12147941440343857 Acc 0.94346769271015 F1 0.9262732375849695 Recall 0.9122403306998056 Precision 0.9422742260985693\n",
            "Fold 3 Epoch 1 Batch 8701 Loss 0.16387946903705597 Acc 0.9435023632341111 F1 0.9263186216797985 Recall 0.9123203015585196 Precision 0.9422817056130177\n",
            "Fold 3 Epoch 1 Batch 8801 Loss 0.17505961656570435 Acc 0.9435247059993183 F1 0.9263452608061992 Recall 0.9123437492194785 Precision 0.9423101038681096\n",
            "Fold 3 Epoch 1 Batch 8901 Loss 0.23081153631210327 Acc 0.9435000280867318 F1 0.926314507632786 Recall 0.9122965109207609 Precision 0.9422957867159577\n",
            "Fold 3 Epoch 1 Batch 9001 Loss 0.13600461184978485 Acc 0.9434889178980114 F1 0.9262993493864103 Recall 0.9122835970436325 Precision 0.9422773058096323\n",
            "Saved model at /content/drive/MyDrive/model_ckpt/latest.pth\n",
            "Fold 3 Epoch 1 Batch 9101 Loss 0.14640943706035614 Acc 0.9435269819250632 F1 0.9263383063516083 Recall 0.9123424388481421 Precision 0.9422888706819614\n",
            "Fold 3 Epoch 1 Batch 9201 Loss 0.1497441679239273 Acc 0.9435319530485817 F1 0.9263396440688354 Recall 0.9123687371463678 Precision 0.9422650908577119\n",
            "Fold 3 Epoch 1 Batch 9301 Loss 0.12003710865974426 Acc 0.9435552964734975 F1 0.9263670839589008 Recall 0.912390124109629 Precision 0.9422999423220462\n",
            "Fold 3 Epoch 1 Batch 9401 Loss 0.1572313904762268 Acc 0.9435424090522285 F1 0.9263487974597349 Recall 0.9123809111183102 Precision 0.9422697530155846\n",
            "Fold 3 Epoch 1 Batch 9501 Loss 0.143818661570549 Acc 0.9435454162719714 F1 0.9263457515373651 Recall 0.9123829193794603 Precision 0.9422618729784283\n",
            "Fold 3 Epoch 1 Batch 9601 Loss 0.09824558347463608 Acc 0.9435418511092595 F1 0.9263494290501328 Recall 0.9123433072182164 Precision 0.9423113403856972\n",
            "Fold 3 Epoch 1 Batch 9701 Loss 0.12674769759178162 Acc 0.9435327221420472 F1 0.9263499700725901 Recall 0.9123482205809164 Precision 0.9423098602785897\n",
            "Fold 3 Epoch 1 Batch 9801 Loss 0.07425804436206818 Acc 0.9435588524130191 F1 0.9263837673714996 Recall 0.9123995568258332 Precision 0.9423211503928215\n",
            "Fold 3 Epoch 1 Batch 9901 Loss 0.20037297904491425 Acc 0.9435592048782951 F1 0.9263881178098834 Recall 0.9123994635719964 Precision 0.9423339508881801\n",
            "Fold 3 Epoch 1 Batch 10001 Loss 0.09702562540769577 Acc 0.9435392398260174 F1 0.9263541893125652 Recall 0.9123908057026976 Precision 0.9422726314858756\n",
            "Saved model at /content/drive/MyDrive/model_ckpt/latest.pth\n",
            "Fold 3 Epoch 1 Batch 10101 Loss 0.13189885020256042 Acc 0.943515802890803 F1 0.9263322127057484 Recall 0.9123688712841629 Precision 0.9422510261833144\n",
            "Fold 3 Epoch 1 Batch 10201 Loss 0.10571394115686417 Acc 0.9435158011469463 F1 0.9263339460015547 Recall 0.9123790676473981 Precision 0.9422437071894101\n",
            "Fold 3 Epoch 1 Batch 10301 Loss 0.1954229176044464 Acc 0.9435142825939229 F1 0.92631244746816 Recall 0.9123823502660694 Precision 0.9421927216918973\n",
            "Fold 3 Epoch 1 Batch 10401 Loss 0.12430858612060547 Acc 0.9435420872992981 F1 0.926335803025563 Recall 0.9124346083839563 Precision 0.9421818489555955\n",
            "Fold 3 Epoch 1 Batch 10501 Loss 0.14472626149654388 Acc 0.9435366274640511 F1 0.9263220029283087 Recall 0.9124203841927313 Precision 0.9421680616868827\n",
            "Fold 3 Epoch 1 Batch 10601 Loss 0.19128663837909698 Acc 0.9435334815111782 F1 0.9263135278888022 Recall 0.9124198100406274 Precision 0.9421531018944707\n",
            "Fold 3 Epoch 1 Batch 10701 Loss 0.0848398357629776 Acc 0.9435727385291094 F1 0.9263617775789406 Recall 0.9124957651009425 Precision 0.9421742289366251\n",
            "Fold 3 Epoch 1 Batch 10801 Loss 0.09405914694070816 Acc 0.9435649766225349 F1 0.9263623503493386 Recall 0.9125148479511044 Precision 0.9421574081579309\n",
            "Fold 3 Epoch 1 Batch 10901 Loss 0.12586236000061035 Acc 0.9435236732868544 F1 0.9263194965081986 Recall 0.9124495567091283 Precision 0.9421375034231423\n",
            "Fold 3 Epoch 1 Batch 11001 Loss 0.09461601078510284 Acc 0.9435328322425234 F1 0.926322486496536 Recall 0.9124528579868006 Precision 0.9421413104241386\n",
            "Saved model at /content/drive/MyDrive/model_ckpt/latest.pth\n",
            "Fold 3 Epoch 1 Batch 11101 Loss 0.08116672188043594 Acc 0.9435516789028016 F1 0.9263427102168668 Recall 0.9124408581241344 Precision 0.9421969979537336\n",
            "Fold 3 Epoch 1 Batch 11201 Loss 0.09717907756567001 Acc 0.9435722814927239 F1 0.9263746525104852 Recall 0.9124656280648917 Precision 0.9422343710000175\n",
            "Fold 3 Epoch 1 Batch 11301 Loss 0.10975805670022964 Acc 0.9435980499513318 F1 0.9264078322403598 Recall 0.9124757279040254 Precision 0.9422913054827288\n",
            "Fold 3 Epoch 1 Batch 11401 Loss 0.1599336862564087 Acc 0.9435925302605035 F1 0.926398403766734 Recall 0.9124437396128345 Precision 0.9423049482726169\n",
            "Fold 3 Epoch 1 Batch 11501 Loss 0.16442424058914185 Acc 0.9435674071819842 F1 0.9263655933462313 Recall 0.9123934891008163 Precision 0.9422886865578981\n",
            "Fold 3 Epoch 1 Batch 11601 Loss 0.2478119134902954 Acc 0.9435635936557193 F1 0.9263564099985477 Recall 0.9123814994306821 Precision 0.9422851146910902\n",
            "Fold 3 Epoch 1 Batch 11701 Loss 0.17438209056854248 Acc 0.9435858847534399 F1 0.9263833510161428 Recall 0.9124359996056692 Precision 0.9422839094250579\n",
            "Fold 3 Epoch 1 Batch 11801 Loss 0.11481208354234695 Acc 0.9435912475637658 F1 0.9264008581149153 Recall 0.9124484297706476 Precision 0.9423053102361981\n",
            "Fold 3 Epoch 1 Batch 11901 Loss 0.09908083081245422 Acc 0.9435925815057559 F1 0.9263938026532124 Recall 0.9124443167756228 Precision 0.9422920648528106\n",
            "Fold 3 Epoch 1 Batch 12001 Loss 0.10782092809677124 Acc 0.9436127718523456 F1 0.9264243181218649 Recall 0.9124707439627776 Precision 0.9423267946122966\n",
            "Saved model at /content/drive/MyDrive/model_ckpt/latest.pth\n",
            "Fold 3 Epoch 1 Batch 12101 Loss 0.11420468986034393 Acc 0.9436126146599455 F1 0.9264326414143257 Recall 0.9124808923623732 Precision 0.9423320520574074\n",
            "Fold 3 Epoch 1 Batch 12201 Loss 0.11172931641340256 Acc 0.9436227051061389 F1 0.9264345412992256 Recall 0.9125243433602774 Precision 0.942289075037635\n",
            "Fold 3 Epoch 1 Batch 12301 Loss 0.1519661843776703 Acc 0.9436199292740428 F1 0.9264328550243032 Recall 0.912523356490456 Precision 0.9422843957172913\n",
            "Fold 3 Epoch 1 Batch 12401 Loss 0.10788383334875107 Acc 0.9436134182727199 F1 0.9264210572718428 Recall 0.9125083531374024 Precision 0.9422745623025345\n",
            "Fold 3 Epoch 1 Batch 12501 Loss 0.17800086736679077 Acc 0.9436220102391809 F1 0.9264335323457437 Recall 0.9125319395688497 Precision 0.9422749928530549\n",
            "Fold 3 Epoch 1 Batch 12601 Loss 0.1757270097732544 Acc 0.9436193060074597 F1 0.9264237980259385 Recall 0.9125381157928206 Precision 0.9422476336010293\n",
            "Fold 3 Epoch 1 Batch 12701 Loss 0.1018848717212677 Acc 0.9436203350129911 F1 0.9264197374886765 Recall 0.9125621698772273 Precision 0.9422130115914895\n",
            "Fold 3 Epoch 1 Batch 12801 Loss 0.13137029111385345 Acc 0.943614024294977 F1 0.9264138566336497 Recall 0.912536926117194 Precision 0.9422262219362764\n",
            "Fold 3 Epoch 1 Batch 12901 Loss 0.17037956416606903 Acc 0.9436181061545617 F1 0.926412080565842 Recall 0.9125580468105627 Precision 0.94220148882392\n",
            "Fold 3 Epoch 1 Batch 13001 Loss 0.06665989756584167 Acc 0.9436407535958773 F1 0.9264432599666658 Recall 0.9126157264821072 Precision 0.942202811979029\n",
            "Saved model at /content/drive/MyDrive/model_ckpt/latest.pth\n",
            "Fold 3 Epoch 1 Batch 13101 Loss 0.12450867891311646 Acc 0.9436302572322723 F1 0.9264269075259386 Recall 0.9125999045876072 Precision 0.9421860505430042\n",
            "Fold 3 Epoch 1 Batch 13201 Loss 0.10435651987791061 Acc 0.943645959586395 F1 0.9264549169213712 Recall 0.9126092555081227 Precision 0.9422360051080515\n",
            "Fold 3 Epoch 1 Batch 13301 Loss 0.11422055959701538 Acc 0.9436567269378242 F1 0.9264808500091001 Recall 0.912629195552142 Precision 0.9422681231505893\n",
            "Fold 3 Epoch 1 Batch 13401 Loss 0.14914685487747192 Acc 0.9436370186926348 F1 0.9264576021004742 Recall 0.9125983309087907 Precision 0.9422537372210754\n",
            "Fold 3 Epoch 1 Batch 13501 Loss 0.23822100460529327 Acc 0.9436534793718984 F1 0.9264808298208524 Recall 0.9125837055468484 Precision 0.9423188811657102\n",
            "Fold 3 Epoch 1 Batch 13601 Loss 0.2475569248199463 Acc 0.9436438497169326 F1 0.9264589564445068 Recall 0.9125641697557649 Precision 0.942294916402221\n",
            "Fold 3 Epoch 1 Batch 13701 Loss 0.12435324490070343 Acc 0.9436349308444639 F1 0.9264456771272107 Recall 0.9125665568672507 Precision 0.9422675094827728\n",
            "Fold 3 Epoch 1 Batch 13801 Loss 0.08617883920669556 Acc 0.9436187821534672 F1 0.9264214218532403 Recall 0.912554277622491 Precision 0.942234160432836\n",
            "Fold 3 Epoch 1 Batch 13901 Loss 0.08273985236883163 Acc 0.9436416444860082 F1 0.9264426962331683 Recall 0.9125838150270277 Precision 0.9422453350635672\n",
            "Fold 3 Epoch 1 Batch 14001 Loss 0.1838780641555786 Acc 0.9436145186058139 F1 0.9263876151905459 Recall 0.912538884968134 Precision 0.9421779218544494\n",
            "Saved model at /content/drive/MyDrive/model_ckpt/latest.pth\n",
            "Fold 3 Epoch 1 Batch 14101 Loss 0.18412566184997559 Acc 0.9436248980568754 F1 0.9264025560551211 Recall 0.9125490741425086 Precision 0.942196968101664\n",
            "Fold 3 Epoch 1 Batch 14201 Loss 0.16870622336864471 Acc 0.9436070743257517 F1 0.9263726805238116 Recall 0.9125403199631725 Precision 0.9421476063669182\n",
            "Fold 3 Epoch 1 Batch 14301 Loss 0.0751381665468216 Acc 0.9436195458359555 F1 0.926383802656542 Recall 0.912559876318127 Precision 0.9421487608670085\n",
            "Fold 3 Epoch 1 Batch 14401 Loss 0.10934266448020935 Acc 0.9436117717519616 F1 0.92637718633714 Recall 0.9125568547020061 Precision 0.9421387086976871\n",
            "Fold 3 Epoch 1 Batch 14501 Loss 0.2033044844865799 Acc 0.9435976398179436 F1 0.926343353939325 Recall 0.9125233492965912 Precision 0.9421055763801953\n",
            "Fold 3 Epoch 1 Batch 14601 Loss 0.12867417931556702 Acc 0.9435890521197178 F1 0.9263417360952978 Recall 0.9125262305688182 Precision 0.9420998806385472\n",
            "Fold 3 Epoch 1 Batch 14701 Loss 0.1467074453830719 Acc 0.9435832383851439 F1 0.9263293622249916 Recall 0.9125230023860091 Precision 0.9420776071685314\n",
            "Fold 3 Epoch 1 Batch 14801 Loss 0.12456012517213821 Acc 0.9435637794743599 F1 0.9263128475599608 Recall 0.9124984620508461 Precision 0.9420686153881792\n",
            "Fold 3 Epoch 1 Batch 14901 Loss 0.1190527006983757 Acc 0.9435430088584659 F1 0.9262908680211128 Recall 0.9124695064413499 Precision 0.9420555841352647\n",
            "Fold 3 Epoch 1 Batch 15001 Loss 0.19066093862056732 Acc 0.9435407431171255 F1 0.9262831444147692 Recall 0.9124628269054239 Precision 0.9420489988806727\n",
            "Saved model at /content/drive/MyDrive/model_ckpt/latest.pth\n",
            "Fold 3 Epoch 1 Batch 15101 Loss 0.09964962303638458 Acc 0.9435524758294153 F1 0.926306181506588 Recall 0.9124957080675639 Precision 0.9420592898244133\n",
            "Fold 3 Epoch 1 Batch 15201 Loss 0.14000822603702545 Acc 0.9435558310308533 F1 0.926313093515755 Recall 0.9124962364765978 Precision 0.942073195447081\n",
            "Fold 3 Epoch 1 Batch 15301 Loss 0.12302792817354202 Acc 0.943533102411607 F1 0.9262934858171525 Recall 0.9124683625959349 Precision 0.9420620386876626\n",
            "Fold 3 Epoch 1 Batch 15401 Loss 0.15821720659732819 Acc 0.9435345107460554 F1 0.9262994336130906 Recall 0.9124691835481136 Precision 0.9420736872602746\n",
            "Fold 3 Epoch 1 Batch 15501 Loss 0.12155253440141678 Acc 0.9435374129088446 F1 0.9262980995313544 Recall 0.9124796800078837 Precision 0.9420605281388337\n"
          ]
        }
      ],
      "source": [
        "# log file\n",
        "\"\"\"WARNING!!!\"\"\"\n",
        "\"\"\"\n",
        "You should make empty file 'logging.txt' at google drive before training. (첫 실행시에만)\n",
        "\"\"\"\n",
        "\n",
        "for fold, (train_idx,val_idx) in enumerate(splits.split(np.arange(len(data_train)))):# log file\n",
        " \n",
        "    if fold < continue_fold:\n",
        "      continue\n",
        "    # Get sampler and DataLoader\n",
        "    train_sampler = SubsetRandomSampler(train_idx)\n",
        "    valid_sampler = SubsetRandomSampler(val_idx)\n",
        "    train_loader = DataLoader(data_train, batch_size=batch_size, sampler=train_sampler)\n",
        "    valid_loader = DataLoader(data_train, batch_size=batch_size, sampler=valid_sampler)\n",
        "    \n",
        "    device = torch.device(\"cuda:0\" if torch.cuda.is_available() else \"cpu\")\n",
        "    model.to(device)\n",
        "\n",
        "    for epoch in range(continue_epoch, num_epochs):\n",
        "        \n",
        "        train_loss, train_acc, train_f1, train_recall, train_precision = train_epoch(fold, epoch, model, device, train_loader,loss_fn, optimizer, continue_batch)\n",
        "        valid_loss, valid_acc, valid_f1, valid_recall, valid_precision = valid_epoch(fold, epoch, model, device, valid_loader,loss_fn)\n",
        "\n",
        "        continue_batch = 0 # reset continue batch\n",
        "\n",
        "        PATH = MODEL_PATH+f'fold{fold+1}epoch{epoch+1}.pth'\n",
        "        torch.save({\n",
        "              'epoch': epoch+1,\n",
        "              'model': model.state_dict(),\n",
        "              'Fold': fold+1\n",
        "            }, PATH)\n",
        "        print(\"Saved model at \"+PATH)"
      ]
    },
    {
      "cell_type": "markdown",
      "source": [
        "# Test"
      ],
      "metadata": {
        "id": "MGRZP_VaGaGK"
      }
    },
    {
      "cell_type": "code",
      "source": [
        "def model_eval(model, device, dataloader, loss_fn):\n",
        "    valid_acc = 0.0\n",
        "    valid_f1 = 0.0\n",
        "    valid_recall = 0.0\n",
        "    valid_precision = 0.0\n",
        "    model.eval()\n",
        "    for batch_id, (token_ids, valid_length, segment_ids, label) in tqdm(enumerate(dataloader), total=len(dataloader)):\n",
        "        token_ids = token_ids.long().to(device)\n",
        "        segment_ids = segment_ids.long().to(device)\n",
        "        valid_length= valid_length\n",
        "        label = label.long().to(device)\n",
        "        out = model(token_ids, valid_length, segment_ids)\n",
        "        loss = loss_fn(out, label)\n",
        "        acc, f1 ,recall, precision = calc_accuracy(out.cpu().detach(), label.cpu().detach())\n",
        "        valid_acc += acc\n",
        "        valid_f1 += f1\n",
        "        valid_recall += recall\n",
        "        valid_precision += precision\n",
        "    size = len(dataloader)\n",
        "    print(\"Test Result\")\n",
        "    print(\"Loss {} Accuracy {} F1 {} Recall {} Precision {}\".format(loss.data.cpu().numpy(), valid_acc/size, valid_f1/size, valid_recall/size, valid_precision/size))\n",
        "    return loss.data.cpu().numpy(), valid_acc/size, valid_f1/size, valid_recall/size, valid_precision/size"
      ],
      "metadata": {
        "id": "iQxzj7Ux2s3C"
      },
      "execution_count": null,
      "outputs": []
    },
    {
      "cell_type": "code",
      "source": [
        "data_test = BERTDataset(dataset_test, 0, 1, tok, max_len, True, False)"
      ],
      "metadata": {
        "id": "iZYh54iAEls_"
      },
      "execution_count": null,
      "outputs": []
    },
    {
      "cell_type": "code",
      "source": [
        "test_loader = DataLoader(data_test, batch_size=batch_size)\n",
        "model.load_state_dict(torch.load(MODEL_PATH+'latest.pth')['model'])\n",
        "test_loss, test_acc, test_f1, test_recall, test_precision = model_eval(model, device, test_loader, loss_fn)"
      ],
      "metadata": {
        "id": "HtRkvvanGbyl"
      },
      "execution_count": null,
      "outputs": []
    },
    {
      "cell_type": "markdown",
      "metadata": {
        "id": "YEpgY2BHMuFi"
      },
      "source": [
        "## Visualize result (수정필요)\n",
        "\n"
      ]
    },
    {
      "cell_type": "code",
      "execution_count": null,
      "metadata": {
        "id": "rz0HcgnVDqEb"
      },
      "outputs": [],
      "source": [
        "train_acc = []\n",
        "test_acc = []\n",
        "train_f1 = []\n",
        "test_f1 = []\n",
        "train_loss = []\n",
        "test_loss = []\n",
        "for f in range(1, 1+K):\n",
        "     train_loss.extend(foldperf['fold{}'.format(f)]['train_loss'])\n",
        "     test_loss.extend(foldperf['fold{}'.format(f)]['test_loss'])\n",
        "\n",
        "     train_acc.extend(foldperf['fold{}'.format(f)]['train_acc'])\n",
        "     test_acc.extend(foldperf['fold{}'.format(f)]['test_acc'])\n",
        "\n",
        "     train_f1.extend(foldperf['fold{}'.format(f)]['train_f1'])\n",
        "     test_f1.extend(foldperf['fold{}'.format(f)]['test_f1'])"
      ]
    },
    {
      "cell_type": "code",
      "execution_count": null,
      "metadata": {
        "id": "siZj35pKLJBW"
      },
      "outputs": [],
      "source": [
        "def convert_np_to_float(np):\n",
        "  return np.item(0)\n",
        "  \n",
        "train_loss = list(map(convert_np_to_float, train_loss))\n",
        "test_loss = list(map(convert_np_to_float, test_loss))"
      ]
    },
    {
      "cell_type": "code",
      "execution_count": null,
      "metadata": {
        "id": "PMnd1mMcJlm5"
      },
      "outputs": [],
      "source": [
        "def convert_tensor_to_float(t):\n",
        "  return t.item()\n",
        "\n",
        "train_f1 = list(map(convert_tensor_to_float, train_f1))\n",
        "test_f1 = list(map(convert_tensor_to_float, test_f1))"
      ]
    },
    {
      "cell_type": "code",
      "execution_count": null,
      "metadata": {
        "id": "0iLNOh5-IXu5"
      },
      "outputs": [],
      "source": [
        "from matplotlib import pyplot as plt\n",
        "X = [1, 2, 3, 4, 5, 6,7,8,9]\n",
        "plt.plot(X, train_loss)\n",
        "plt.plot(X, test_loss)\n",
        "plt.xlabel(\"Epoch\")\n",
        "plt.ylabel(\"Loss\")\n",
        "plt.title(\"Loss\")\n",
        "plt.legend(['Train', 'Test'])\n",
        "plt.show()"
      ]
    },
    {
      "cell_type": "code",
      "execution_count": null,
      "metadata": {
        "id": "MB_-BwnwMVXB"
      },
      "outputs": [],
      "source": [
        "plt.plot(X, train_acc)\n",
        "plt.plot(X, test_acc)\n",
        "plt.xlabel(\"Epoch\")\n",
        "plt.ylabel(\"Acc\")\n",
        "plt.title(\"Acc\")\n",
        "plt.legend(['Train', 'Test'])\n",
        "plt.show()"
      ]
    },
    {
      "cell_type": "code",
      "execution_count": null,
      "metadata": {
        "id": "Dm87EBTHMiif"
      },
      "outputs": [],
      "source": [
        "plt.plot(X, train_f1)\n",
        "plt.plot(X, test_f1)\n",
        "plt.xlabel(\"Epoch\")\n",
        "plt.ylabel(\"F1\")\n",
        "plt.title(\"F1-Score\")\n",
        "plt.legend(['Train', 'Test'])\n",
        "plt.show()"
      ]
    }
  ],
  "metadata": {
    "accelerator": "GPU",
    "colab": {
      "collapsed_sections": [],
      "machine_shape": "hm",
      "name": "[AI_Project]_Meeting_Daily_Classifier_CrossValidation_전체데이터_final",
      "provenance": []
    },
    "kernelspec": {
      "display_name": "Python 3",
      "language": "python",
      "name": "python3"
    },
    "language_info": {
      "codemirror_mode": {
        "name": "ipython",
        "version": 3
      },
      "file_extension": ".py",
      "mimetype": "text/x-python",
      "name": "python",
      "nbconvert_exporter": "python",
      "pygments_lexer": "ipython3",
      "version": "3.7.0"
    },
    "widgets": {
      "application/vnd.jupyter.widget-state+json": {
        "805ed92279824c8ab7de4fc7457c54b6": {
          "model_module": "@jupyter-widgets/controls",
          "model_name": "HBoxModel",
          "model_module_version": "1.5.0",
          "state": {
            "_dom_classes": [],
            "_model_module": "@jupyter-widgets/controls",
            "_model_module_version": "1.5.0",
            "_model_name": "HBoxModel",
            "_view_count": null,
            "_view_module": "@jupyter-widgets/controls",
            "_view_module_version": "1.5.0",
            "_view_name": "HBoxView",
            "box_style": "",
            "children": [
              "IPY_MODEL_76409dbcb19a4053aef34a7c35095a39",
              "IPY_MODEL_a61dff922bcc40b7aee83930b0e20fb6",
              "IPY_MODEL_cfe3a7b78dd84a2caf10ff72c89a022a"
            ],
            "layout": "IPY_MODEL_c29cf4aa2d6a4957932cecb2cd34644d"
          }
        },
        "76409dbcb19a4053aef34a7c35095a39": {
          "model_module": "@jupyter-widgets/controls",
          "model_name": "HTMLModel",
          "model_module_version": "1.5.0",
          "state": {
            "_dom_classes": [],
            "_model_module": "@jupyter-widgets/controls",
            "_model_module_version": "1.5.0",
            "_model_name": "HTMLModel",
            "_view_count": null,
            "_view_module": "@jupyter-widgets/controls",
            "_view_module_version": "1.5.0",
            "_view_name": "HTMLView",
            "description": "",
            "description_tooltip": null,
            "layout": "IPY_MODEL_9dee5db6e3db4b0aaa778eb26dfb8d1c",
            "placeholder": "​",
            "style": "IPY_MODEL_610162d5a10d44aba739a3c407a5f6f5",
            "value": " 90%"
          }
        },
        "a61dff922bcc40b7aee83930b0e20fb6": {
          "model_module": "@jupyter-widgets/controls",
          "model_name": "FloatProgressModel",
          "model_module_version": "1.5.0",
          "state": {
            "_dom_classes": [],
            "_model_module": "@jupyter-widgets/controls",
            "_model_module_version": "1.5.0",
            "_model_name": "FloatProgressModel",
            "_view_count": null,
            "_view_module": "@jupyter-widgets/controls",
            "_view_module_version": "1.5.0",
            "_view_name": "ProgressView",
            "bar_style": "",
            "description": "",
            "description_tooltip": null,
            "layout": "IPY_MODEL_c588b8f05e634ee59e248416da973e61",
            "max": 17340,
            "min": 0,
            "orientation": "horizontal",
            "style": "IPY_MODEL_5ed28bed45864ea7ad69fb2789dd76f4",
            "value": 15575
          }
        },
        "cfe3a7b78dd84a2caf10ff72c89a022a": {
          "model_module": "@jupyter-widgets/controls",
          "model_name": "HTMLModel",
          "model_module_version": "1.5.0",
          "state": {
            "_dom_classes": [],
            "_model_module": "@jupyter-widgets/controls",
            "_model_module_version": "1.5.0",
            "_model_name": "HTMLModel",
            "_view_count": null,
            "_view_module": "@jupyter-widgets/controls",
            "_view_module_version": "1.5.0",
            "_view_name": "HTMLView",
            "description": "",
            "description_tooltip": null,
            "layout": "IPY_MODEL_c587c84bcc304cce8b013cb214cce622",
            "placeholder": "​",
            "style": "IPY_MODEL_1e832e094c7844e89b24b00723941914",
            "value": " 15574/17340 [2:56:57&lt;19:57,  1.47it/s]"
          }
        },
        "c29cf4aa2d6a4957932cecb2cd34644d": {
          "model_module": "@jupyter-widgets/base",
          "model_name": "LayoutModel",
          "model_module_version": "1.2.0",
          "state": {
            "_model_module": "@jupyter-widgets/base",
            "_model_module_version": "1.2.0",
            "_model_name": "LayoutModel",
            "_view_count": null,
            "_view_module": "@jupyter-widgets/base",
            "_view_module_version": "1.2.0",
            "_view_name": "LayoutView",
            "align_content": null,
            "align_items": null,
            "align_self": null,
            "border": null,
            "bottom": null,
            "display": null,
            "flex": null,
            "flex_flow": null,
            "grid_area": null,
            "grid_auto_columns": null,
            "grid_auto_flow": null,
            "grid_auto_rows": null,
            "grid_column": null,
            "grid_gap": null,
            "grid_row": null,
            "grid_template_areas": null,
            "grid_template_columns": null,
            "grid_template_rows": null,
            "height": null,
            "justify_content": null,
            "justify_items": null,
            "left": null,
            "margin": null,
            "max_height": null,
            "max_width": null,
            "min_height": null,
            "min_width": null,
            "object_fit": null,
            "object_position": null,
            "order": null,
            "overflow": null,
            "overflow_x": null,
            "overflow_y": null,
            "padding": null,
            "right": null,
            "top": null,
            "visibility": null,
            "width": null
          }
        },
        "9dee5db6e3db4b0aaa778eb26dfb8d1c": {
          "model_module": "@jupyter-widgets/base",
          "model_name": "LayoutModel",
          "model_module_version": "1.2.0",
          "state": {
            "_model_module": "@jupyter-widgets/base",
            "_model_module_version": "1.2.0",
            "_model_name": "LayoutModel",
            "_view_count": null,
            "_view_module": "@jupyter-widgets/base",
            "_view_module_version": "1.2.0",
            "_view_name": "LayoutView",
            "align_content": null,
            "align_items": null,
            "align_self": null,
            "border": null,
            "bottom": null,
            "display": null,
            "flex": null,
            "flex_flow": null,
            "grid_area": null,
            "grid_auto_columns": null,
            "grid_auto_flow": null,
            "grid_auto_rows": null,
            "grid_column": null,
            "grid_gap": null,
            "grid_row": null,
            "grid_template_areas": null,
            "grid_template_columns": null,
            "grid_template_rows": null,
            "height": null,
            "justify_content": null,
            "justify_items": null,
            "left": null,
            "margin": null,
            "max_height": null,
            "max_width": null,
            "min_height": null,
            "min_width": null,
            "object_fit": null,
            "object_position": null,
            "order": null,
            "overflow": null,
            "overflow_x": null,
            "overflow_y": null,
            "padding": null,
            "right": null,
            "top": null,
            "visibility": null,
            "width": null
          }
        },
        "610162d5a10d44aba739a3c407a5f6f5": {
          "model_module": "@jupyter-widgets/controls",
          "model_name": "DescriptionStyleModel",
          "model_module_version": "1.5.0",
          "state": {
            "_model_module": "@jupyter-widgets/controls",
            "_model_module_version": "1.5.0",
            "_model_name": "DescriptionStyleModel",
            "_view_count": null,
            "_view_module": "@jupyter-widgets/base",
            "_view_module_version": "1.2.0",
            "_view_name": "StyleView",
            "description_width": ""
          }
        },
        "c588b8f05e634ee59e248416da973e61": {
          "model_module": "@jupyter-widgets/base",
          "model_name": "LayoutModel",
          "model_module_version": "1.2.0",
          "state": {
            "_model_module": "@jupyter-widgets/base",
            "_model_module_version": "1.2.0",
            "_model_name": "LayoutModel",
            "_view_count": null,
            "_view_module": "@jupyter-widgets/base",
            "_view_module_version": "1.2.0",
            "_view_name": "LayoutView",
            "align_content": null,
            "align_items": null,
            "align_self": null,
            "border": null,
            "bottom": null,
            "display": null,
            "flex": null,
            "flex_flow": null,
            "grid_area": null,
            "grid_auto_columns": null,
            "grid_auto_flow": null,
            "grid_auto_rows": null,
            "grid_column": null,
            "grid_gap": null,
            "grid_row": null,
            "grid_template_areas": null,
            "grid_template_columns": null,
            "grid_template_rows": null,
            "height": null,
            "justify_content": null,
            "justify_items": null,
            "left": null,
            "margin": null,
            "max_height": null,
            "max_width": null,
            "min_height": null,
            "min_width": null,
            "object_fit": null,
            "object_position": null,
            "order": null,
            "overflow": null,
            "overflow_x": null,
            "overflow_y": null,
            "padding": null,
            "right": null,
            "top": null,
            "visibility": null,
            "width": null
          }
        },
        "5ed28bed45864ea7ad69fb2789dd76f4": {
          "model_module": "@jupyter-widgets/controls",
          "model_name": "ProgressStyleModel",
          "model_module_version": "1.5.0",
          "state": {
            "_model_module": "@jupyter-widgets/controls",
            "_model_module_version": "1.5.0",
            "_model_name": "ProgressStyleModel",
            "_view_count": null,
            "_view_module": "@jupyter-widgets/base",
            "_view_module_version": "1.2.0",
            "_view_name": "StyleView",
            "bar_color": null,
            "description_width": ""
          }
        },
        "c587c84bcc304cce8b013cb214cce622": {
          "model_module": "@jupyter-widgets/base",
          "model_name": "LayoutModel",
          "model_module_version": "1.2.0",
          "state": {
            "_model_module": "@jupyter-widgets/base",
            "_model_module_version": "1.2.0",
            "_model_name": "LayoutModel",
            "_view_count": null,
            "_view_module": "@jupyter-widgets/base",
            "_view_module_version": "1.2.0",
            "_view_name": "LayoutView",
            "align_content": null,
            "align_items": null,
            "align_self": null,
            "border": null,
            "bottom": null,
            "display": null,
            "flex": null,
            "flex_flow": null,
            "grid_area": null,
            "grid_auto_columns": null,
            "grid_auto_flow": null,
            "grid_auto_rows": null,
            "grid_column": null,
            "grid_gap": null,
            "grid_row": null,
            "grid_template_areas": null,
            "grid_template_columns": null,
            "grid_template_rows": null,
            "height": null,
            "justify_content": null,
            "justify_items": null,
            "left": null,
            "margin": null,
            "max_height": null,
            "max_width": null,
            "min_height": null,
            "min_width": null,
            "object_fit": null,
            "object_position": null,
            "order": null,
            "overflow": null,
            "overflow_x": null,
            "overflow_y": null,
            "padding": null,
            "right": null,
            "top": null,
            "visibility": null,
            "width": null
          }
        },
        "1e832e094c7844e89b24b00723941914": {
          "model_module": "@jupyter-widgets/controls",
          "model_name": "DescriptionStyleModel",
          "model_module_version": "1.5.0",
          "state": {
            "_model_module": "@jupyter-widgets/controls",
            "_model_module_version": "1.5.0",
            "_model_name": "DescriptionStyleModel",
            "_view_count": null,
            "_view_module": "@jupyter-widgets/base",
            "_view_module_version": "1.2.0",
            "_view_name": "StyleView",
            "description_width": ""
          }
        }
      }
    }
  },
  "nbformat": 4,
  "nbformat_minor": 0
}