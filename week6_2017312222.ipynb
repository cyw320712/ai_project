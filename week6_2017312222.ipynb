{
  "nbformat": 4,
  "nbformat_minor": 0,
  "metadata": {
    "colab": {
      "name": "\bswe3032_week6.ipynb의 사본",
      "provenance": [],
      "collapsed_sections": []
    },
    "kernelspec": {
      "name": "python3",
      "display_name": "Python 3"
    },
    "language_info": {
      "name": "python"
    },
    "widgets": {
      "application/vnd.jupyter.widget-state+json": {
        "76c9d867f41245aa90b4aa27fdf7fc3f": {
          "model_module": "@jupyter-widgets/controls",
          "model_name": "HBoxModel",
          "model_module_version": "1.5.0",
          "state": {
            "_dom_classes": [],
            "_model_module": "@jupyter-widgets/controls",
            "_model_module_version": "1.5.0",
            "_model_name": "HBoxModel",
            "_view_count": null,
            "_view_module": "@jupyter-widgets/controls",
            "_view_module_version": "1.5.0",
            "_view_name": "HBoxView",
            "box_style": "",
            "children": [
              "IPY_MODEL_58c8ca3f4f4e41409f33d69466d725e4",
              "IPY_MODEL_6685b16c2e934b8c9c508aa0ba0e9149",
              "IPY_MODEL_704ef6b105174e13be79719cece3eac0"
            ],
            "layout": "IPY_MODEL_62331c7d294f4e3b88761323ddc37d2f"
          }
        },
        "58c8ca3f4f4e41409f33d69466d725e4": {
          "model_module": "@jupyter-widgets/controls",
          "model_name": "HTMLModel",
          "model_module_version": "1.5.0",
          "state": {
            "_dom_classes": [],
            "_model_module": "@jupyter-widgets/controls",
            "_model_module_version": "1.5.0",
            "_model_name": "HTMLModel",
            "_view_count": null,
            "_view_module": "@jupyter-widgets/controls",
            "_view_module_version": "1.5.0",
            "_view_name": "HTMLView",
            "description": "",
            "description_tooltip": null,
            "layout": "IPY_MODEL_ad2048f82d69473caf432d86389f05e8",
            "placeholder": "​",
            "style": "IPY_MODEL_89abe11f27174ba0bf237305478258a4",
            "value": ""
          }
        },
        "6685b16c2e934b8c9c508aa0ba0e9149": {
          "model_module": "@jupyter-widgets/controls",
          "model_name": "FloatProgressModel",
          "model_module_version": "1.5.0",
          "state": {
            "_dom_classes": [],
            "_model_module": "@jupyter-widgets/controls",
            "_model_module_version": "1.5.0",
            "_model_name": "FloatProgressModel",
            "_view_count": null,
            "_view_module": "@jupyter-widgets/controls",
            "_view_module_version": "1.5.0",
            "_view_name": "ProgressView",
            "bar_style": "success",
            "description": "",
            "description_tooltip": null,
            "layout": "IPY_MODEL_a1a49474dccd417f941abf0d9121eae9",
            "max": 9912422,
            "min": 0,
            "orientation": "horizontal",
            "style": "IPY_MODEL_ccd5784c4c73459b85145ce5d35abd27",
            "value": 9912422
          }
        },
        "704ef6b105174e13be79719cece3eac0": {
          "model_module": "@jupyter-widgets/controls",
          "model_name": "HTMLModel",
          "model_module_version": "1.5.0",
          "state": {
            "_dom_classes": [],
            "_model_module": "@jupyter-widgets/controls",
            "_model_module_version": "1.5.0",
            "_model_name": "HTMLModel",
            "_view_count": null,
            "_view_module": "@jupyter-widgets/controls",
            "_view_module_version": "1.5.0",
            "_view_name": "HTMLView",
            "description": "",
            "description_tooltip": null,
            "layout": "IPY_MODEL_66a3a75b2c5041aba92030eff4981c24",
            "placeholder": "​",
            "style": "IPY_MODEL_b8454e903b5d49c886e4a808da559f71",
            "value": " 9913344/? [00:00&lt;00:00, 19026321.41it/s]"
          }
        },
        "62331c7d294f4e3b88761323ddc37d2f": {
          "model_module": "@jupyter-widgets/base",
          "model_name": "LayoutModel",
          "model_module_version": "1.2.0",
          "state": {
            "_model_module": "@jupyter-widgets/base",
            "_model_module_version": "1.2.0",
            "_model_name": "LayoutModel",
            "_view_count": null,
            "_view_module": "@jupyter-widgets/base",
            "_view_module_version": "1.2.0",
            "_view_name": "LayoutView",
            "align_content": null,
            "align_items": null,
            "align_self": null,
            "border": null,
            "bottom": null,
            "display": null,
            "flex": null,
            "flex_flow": null,
            "grid_area": null,
            "grid_auto_columns": null,
            "grid_auto_flow": null,
            "grid_auto_rows": null,
            "grid_column": null,
            "grid_gap": null,
            "grid_row": null,
            "grid_template_areas": null,
            "grid_template_columns": null,
            "grid_template_rows": null,
            "height": null,
            "justify_content": null,
            "justify_items": null,
            "left": null,
            "margin": null,
            "max_height": null,
            "max_width": null,
            "min_height": null,
            "min_width": null,
            "object_fit": null,
            "object_position": null,
            "order": null,
            "overflow": null,
            "overflow_x": null,
            "overflow_y": null,
            "padding": null,
            "right": null,
            "top": null,
            "visibility": null,
            "width": null
          }
        },
        "ad2048f82d69473caf432d86389f05e8": {
          "model_module": "@jupyter-widgets/base",
          "model_name": "LayoutModel",
          "model_module_version": "1.2.0",
          "state": {
            "_model_module": "@jupyter-widgets/base",
            "_model_module_version": "1.2.0",
            "_model_name": "LayoutModel",
            "_view_count": null,
            "_view_module": "@jupyter-widgets/base",
            "_view_module_version": "1.2.0",
            "_view_name": "LayoutView",
            "align_content": null,
            "align_items": null,
            "align_self": null,
            "border": null,
            "bottom": null,
            "display": null,
            "flex": null,
            "flex_flow": null,
            "grid_area": null,
            "grid_auto_columns": null,
            "grid_auto_flow": null,
            "grid_auto_rows": null,
            "grid_column": null,
            "grid_gap": null,
            "grid_row": null,
            "grid_template_areas": null,
            "grid_template_columns": null,
            "grid_template_rows": null,
            "height": null,
            "justify_content": null,
            "justify_items": null,
            "left": null,
            "margin": null,
            "max_height": null,
            "max_width": null,
            "min_height": null,
            "min_width": null,
            "object_fit": null,
            "object_position": null,
            "order": null,
            "overflow": null,
            "overflow_x": null,
            "overflow_y": null,
            "padding": null,
            "right": null,
            "top": null,
            "visibility": null,
            "width": null
          }
        },
        "89abe11f27174ba0bf237305478258a4": {
          "model_module": "@jupyter-widgets/controls",
          "model_name": "DescriptionStyleModel",
          "model_module_version": "1.5.0",
          "state": {
            "_model_module": "@jupyter-widgets/controls",
            "_model_module_version": "1.5.0",
            "_model_name": "DescriptionStyleModel",
            "_view_count": null,
            "_view_module": "@jupyter-widgets/base",
            "_view_module_version": "1.2.0",
            "_view_name": "StyleView",
            "description_width": ""
          }
        },
        "a1a49474dccd417f941abf0d9121eae9": {
          "model_module": "@jupyter-widgets/base",
          "model_name": "LayoutModel",
          "model_module_version": "1.2.0",
          "state": {
            "_model_module": "@jupyter-widgets/base",
            "_model_module_version": "1.2.0",
            "_model_name": "LayoutModel",
            "_view_count": null,
            "_view_module": "@jupyter-widgets/base",
            "_view_module_version": "1.2.0",
            "_view_name": "LayoutView",
            "align_content": null,
            "align_items": null,
            "align_self": null,
            "border": null,
            "bottom": null,
            "display": null,
            "flex": null,
            "flex_flow": null,
            "grid_area": null,
            "grid_auto_columns": null,
            "grid_auto_flow": null,
            "grid_auto_rows": null,
            "grid_column": null,
            "grid_gap": null,
            "grid_row": null,
            "grid_template_areas": null,
            "grid_template_columns": null,
            "grid_template_rows": null,
            "height": null,
            "justify_content": null,
            "justify_items": null,
            "left": null,
            "margin": null,
            "max_height": null,
            "max_width": null,
            "min_height": null,
            "min_width": null,
            "object_fit": null,
            "object_position": null,
            "order": null,
            "overflow": null,
            "overflow_x": null,
            "overflow_y": null,
            "padding": null,
            "right": null,
            "top": null,
            "visibility": null,
            "width": null
          }
        },
        "ccd5784c4c73459b85145ce5d35abd27": {
          "model_module": "@jupyter-widgets/controls",
          "model_name": "ProgressStyleModel",
          "model_module_version": "1.5.0",
          "state": {
            "_model_module": "@jupyter-widgets/controls",
            "_model_module_version": "1.5.0",
            "_model_name": "ProgressStyleModel",
            "_view_count": null,
            "_view_module": "@jupyter-widgets/base",
            "_view_module_version": "1.2.0",
            "_view_name": "StyleView",
            "bar_color": null,
            "description_width": ""
          }
        },
        "66a3a75b2c5041aba92030eff4981c24": {
          "model_module": "@jupyter-widgets/base",
          "model_name": "LayoutModel",
          "model_module_version": "1.2.0",
          "state": {
            "_model_module": "@jupyter-widgets/base",
            "_model_module_version": "1.2.0",
            "_model_name": "LayoutModel",
            "_view_count": null,
            "_view_module": "@jupyter-widgets/base",
            "_view_module_version": "1.2.0",
            "_view_name": "LayoutView",
            "align_content": null,
            "align_items": null,
            "align_self": null,
            "border": null,
            "bottom": null,
            "display": null,
            "flex": null,
            "flex_flow": null,
            "grid_area": null,
            "grid_auto_columns": null,
            "grid_auto_flow": null,
            "grid_auto_rows": null,
            "grid_column": null,
            "grid_gap": null,
            "grid_row": null,
            "grid_template_areas": null,
            "grid_template_columns": null,
            "grid_template_rows": null,
            "height": null,
            "justify_content": null,
            "justify_items": null,
            "left": null,
            "margin": null,
            "max_height": null,
            "max_width": null,
            "min_height": null,
            "min_width": null,
            "object_fit": null,
            "object_position": null,
            "order": null,
            "overflow": null,
            "overflow_x": null,
            "overflow_y": null,
            "padding": null,
            "right": null,
            "top": null,
            "visibility": null,
            "width": null
          }
        },
        "b8454e903b5d49c886e4a808da559f71": {
          "model_module": "@jupyter-widgets/controls",
          "model_name": "DescriptionStyleModel",
          "model_module_version": "1.5.0",
          "state": {
            "_model_module": "@jupyter-widgets/controls",
            "_model_module_version": "1.5.0",
            "_model_name": "DescriptionStyleModel",
            "_view_count": null,
            "_view_module": "@jupyter-widgets/base",
            "_view_module_version": "1.2.0",
            "_view_name": "StyleView",
            "description_width": ""
          }
        },
        "fee53ccb4e1943dc910ba7b31bfebbf5": {
          "model_module": "@jupyter-widgets/controls",
          "model_name": "HBoxModel",
          "model_module_version": "1.5.0",
          "state": {
            "_dom_classes": [],
            "_model_module": "@jupyter-widgets/controls",
            "_model_module_version": "1.5.0",
            "_model_name": "HBoxModel",
            "_view_count": null,
            "_view_module": "@jupyter-widgets/controls",
            "_view_module_version": "1.5.0",
            "_view_name": "HBoxView",
            "box_style": "",
            "children": [
              "IPY_MODEL_688e8ec6dfe54803b7fcf66e3ad4fe08",
              "IPY_MODEL_242f9a9d8324433fada103221e8b2d50",
              "IPY_MODEL_cd0b752f92b64f2e94dfc5e2483ef451"
            ],
            "layout": "IPY_MODEL_03dd588300124253bbce8dbb49ae0915"
          }
        },
        "688e8ec6dfe54803b7fcf66e3ad4fe08": {
          "model_module": "@jupyter-widgets/controls",
          "model_name": "HTMLModel",
          "model_module_version": "1.5.0",
          "state": {
            "_dom_classes": [],
            "_model_module": "@jupyter-widgets/controls",
            "_model_module_version": "1.5.0",
            "_model_name": "HTMLModel",
            "_view_count": null,
            "_view_module": "@jupyter-widgets/controls",
            "_view_module_version": "1.5.0",
            "_view_name": "HTMLView",
            "description": "",
            "description_tooltip": null,
            "layout": "IPY_MODEL_c04ec783aa5a4139a83cd173b0b4c2f5",
            "placeholder": "​",
            "style": "IPY_MODEL_cd55b79338734811a87fe3fcacbbbc7b",
            "value": ""
          }
        },
        "242f9a9d8324433fada103221e8b2d50": {
          "model_module": "@jupyter-widgets/controls",
          "model_name": "FloatProgressModel",
          "model_module_version": "1.5.0",
          "state": {
            "_dom_classes": [],
            "_model_module": "@jupyter-widgets/controls",
            "_model_module_version": "1.5.0",
            "_model_name": "FloatProgressModel",
            "_view_count": null,
            "_view_module": "@jupyter-widgets/controls",
            "_view_module_version": "1.5.0",
            "_view_name": "ProgressView",
            "bar_style": "success",
            "description": "",
            "description_tooltip": null,
            "layout": "IPY_MODEL_840ec264e87b4b45b42fecaf6f673002",
            "max": 28881,
            "min": 0,
            "orientation": "horizontal",
            "style": "IPY_MODEL_e929654a4fb8404b9022cd989d80ab83",
            "value": 28881
          }
        },
        "cd0b752f92b64f2e94dfc5e2483ef451": {
          "model_module": "@jupyter-widgets/controls",
          "model_name": "HTMLModel",
          "model_module_version": "1.5.0",
          "state": {
            "_dom_classes": [],
            "_model_module": "@jupyter-widgets/controls",
            "_model_module_version": "1.5.0",
            "_model_name": "HTMLModel",
            "_view_count": null,
            "_view_module": "@jupyter-widgets/controls",
            "_view_module_version": "1.5.0",
            "_view_name": "HTMLView",
            "description": "",
            "description_tooltip": null,
            "layout": "IPY_MODEL_b875f630faf04442af5f0b13ca08c30f",
            "placeholder": "​",
            "style": "IPY_MODEL_ed11087f1c3d410995e19e78075a7a70",
            "value": " 29696/? [00:00&lt;00:00, 8116.74it/s]"
          }
        },
        "03dd588300124253bbce8dbb49ae0915": {
          "model_module": "@jupyter-widgets/base",
          "model_name": "LayoutModel",
          "model_module_version": "1.2.0",
          "state": {
            "_model_module": "@jupyter-widgets/base",
            "_model_module_version": "1.2.0",
            "_model_name": "LayoutModel",
            "_view_count": null,
            "_view_module": "@jupyter-widgets/base",
            "_view_module_version": "1.2.0",
            "_view_name": "LayoutView",
            "align_content": null,
            "align_items": null,
            "align_self": null,
            "border": null,
            "bottom": null,
            "display": null,
            "flex": null,
            "flex_flow": null,
            "grid_area": null,
            "grid_auto_columns": null,
            "grid_auto_flow": null,
            "grid_auto_rows": null,
            "grid_column": null,
            "grid_gap": null,
            "grid_row": null,
            "grid_template_areas": null,
            "grid_template_columns": null,
            "grid_template_rows": null,
            "height": null,
            "justify_content": null,
            "justify_items": null,
            "left": null,
            "margin": null,
            "max_height": null,
            "max_width": null,
            "min_height": null,
            "min_width": null,
            "object_fit": null,
            "object_position": null,
            "order": null,
            "overflow": null,
            "overflow_x": null,
            "overflow_y": null,
            "padding": null,
            "right": null,
            "top": null,
            "visibility": null,
            "width": null
          }
        },
        "c04ec783aa5a4139a83cd173b0b4c2f5": {
          "model_module": "@jupyter-widgets/base",
          "model_name": "LayoutModel",
          "model_module_version": "1.2.0",
          "state": {
            "_model_module": "@jupyter-widgets/base",
            "_model_module_version": "1.2.0",
            "_model_name": "LayoutModel",
            "_view_count": null,
            "_view_module": "@jupyter-widgets/base",
            "_view_module_version": "1.2.0",
            "_view_name": "LayoutView",
            "align_content": null,
            "align_items": null,
            "align_self": null,
            "border": null,
            "bottom": null,
            "display": null,
            "flex": null,
            "flex_flow": null,
            "grid_area": null,
            "grid_auto_columns": null,
            "grid_auto_flow": null,
            "grid_auto_rows": null,
            "grid_column": null,
            "grid_gap": null,
            "grid_row": null,
            "grid_template_areas": null,
            "grid_template_columns": null,
            "grid_template_rows": null,
            "height": null,
            "justify_content": null,
            "justify_items": null,
            "left": null,
            "margin": null,
            "max_height": null,
            "max_width": null,
            "min_height": null,
            "min_width": null,
            "object_fit": null,
            "object_position": null,
            "order": null,
            "overflow": null,
            "overflow_x": null,
            "overflow_y": null,
            "padding": null,
            "right": null,
            "top": null,
            "visibility": null,
            "width": null
          }
        },
        "cd55b79338734811a87fe3fcacbbbc7b": {
          "model_module": "@jupyter-widgets/controls",
          "model_name": "DescriptionStyleModel",
          "model_module_version": "1.5.0",
          "state": {
            "_model_module": "@jupyter-widgets/controls",
            "_model_module_version": "1.5.0",
            "_model_name": "DescriptionStyleModel",
            "_view_count": null,
            "_view_module": "@jupyter-widgets/base",
            "_view_module_version": "1.2.0",
            "_view_name": "StyleView",
            "description_width": ""
          }
        },
        "840ec264e87b4b45b42fecaf6f673002": {
          "model_module": "@jupyter-widgets/base",
          "model_name": "LayoutModel",
          "model_module_version": "1.2.0",
          "state": {
            "_model_module": "@jupyter-widgets/base",
            "_model_module_version": "1.2.0",
            "_model_name": "LayoutModel",
            "_view_count": null,
            "_view_module": "@jupyter-widgets/base",
            "_view_module_version": "1.2.0",
            "_view_name": "LayoutView",
            "align_content": null,
            "align_items": null,
            "align_self": null,
            "border": null,
            "bottom": null,
            "display": null,
            "flex": null,
            "flex_flow": null,
            "grid_area": null,
            "grid_auto_columns": null,
            "grid_auto_flow": null,
            "grid_auto_rows": null,
            "grid_column": null,
            "grid_gap": null,
            "grid_row": null,
            "grid_template_areas": null,
            "grid_template_columns": null,
            "grid_template_rows": null,
            "height": null,
            "justify_content": null,
            "justify_items": null,
            "left": null,
            "margin": null,
            "max_height": null,
            "max_width": null,
            "min_height": null,
            "min_width": null,
            "object_fit": null,
            "object_position": null,
            "order": null,
            "overflow": null,
            "overflow_x": null,
            "overflow_y": null,
            "padding": null,
            "right": null,
            "top": null,
            "visibility": null,
            "width": null
          }
        },
        "e929654a4fb8404b9022cd989d80ab83": {
          "model_module": "@jupyter-widgets/controls",
          "model_name": "ProgressStyleModel",
          "model_module_version": "1.5.0",
          "state": {
            "_model_module": "@jupyter-widgets/controls",
            "_model_module_version": "1.5.0",
            "_model_name": "ProgressStyleModel",
            "_view_count": null,
            "_view_module": "@jupyter-widgets/base",
            "_view_module_version": "1.2.0",
            "_view_name": "StyleView",
            "bar_color": null,
            "description_width": ""
          }
        },
        "b875f630faf04442af5f0b13ca08c30f": {
          "model_module": "@jupyter-widgets/base",
          "model_name": "LayoutModel",
          "model_module_version": "1.2.0",
          "state": {
            "_model_module": "@jupyter-widgets/base",
            "_model_module_version": "1.2.0",
            "_model_name": "LayoutModel",
            "_view_count": null,
            "_view_module": "@jupyter-widgets/base",
            "_view_module_version": "1.2.0",
            "_view_name": "LayoutView",
            "align_content": null,
            "align_items": null,
            "align_self": null,
            "border": null,
            "bottom": null,
            "display": null,
            "flex": null,
            "flex_flow": null,
            "grid_area": null,
            "grid_auto_columns": null,
            "grid_auto_flow": null,
            "grid_auto_rows": null,
            "grid_column": null,
            "grid_gap": null,
            "grid_row": null,
            "grid_template_areas": null,
            "grid_template_columns": null,
            "grid_template_rows": null,
            "height": null,
            "justify_content": null,
            "justify_items": null,
            "left": null,
            "margin": null,
            "max_height": null,
            "max_width": null,
            "min_height": null,
            "min_width": null,
            "object_fit": null,
            "object_position": null,
            "order": null,
            "overflow": null,
            "overflow_x": null,
            "overflow_y": null,
            "padding": null,
            "right": null,
            "top": null,
            "visibility": null,
            "width": null
          }
        },
        "ed11087f1c3d410995e19e78075a7a70": {
          "model_module": "@jupyter-widgets/controls",
          "model_name": "DescriptionStyleModel",
          "model_module_version": "1.5.0",
          "state": {
            "_model_module": "@jupyter-widgets/controls",
            "_model_module_version": "1.5.0",
            "_model_name": "DescriptionStyleModel",
            "_view_count": null,
            "_view_module": "@jupyter-widgets/base",
            "_view_module_version": "1.2.0",
            "_view_name": "StyleView",
            "description_width": ""
          }
        },
        "ce79b1c8aaf3493daa9219013736b6a7": {
          "model_module": "@jupyter-widgets/controls",
          "model_name": "HBoxModel",
          "model_module_version": "1.5.0",
          "state": {
            "_dom_classes": [],
            "_model_module": "@jupyter-widgets/controls",
            "_model_module_version": "1.5.0",
            "_model_name": "HBoxModel",
            "_view_count": null,
            "_view_module": "@jupyter-widgets/controls",
            "_view_module_version": "1.5.0",
            "_view_name": "HBoxView",
            "box_style": "",
            "children": [
              "IPY_MODEL_606e8774755a4d5ea5665e68663a2065",
              "IPY_MODEL_ecc266d806a94b8cafcada357407c021",
              "IPY_MODEL_710a08b0a58346f0a7817ed8acc676ab"
            ],
            "layout": "IPY_MODEL_37c89738e0224ac09fea06861873ec23"
          }
        },
        "606e8774755a4d5ea5665e68663a2065": {
          "model_module": "@jupyter-widgets/controls",
          "model_name": "HTMLModel",
          "model_module_version": "1.5.0",
          "state": {
            "_dom_classes": [],
            "_model_module": "@jupyter-widgets/controls",
            "_model_module_version": "1.5.0",
            "_model_name": "HTMLModel",
            "_view_count": null,
            "_view_module": "@jupyter-widgets/controls",
            "_view_module_version": "1.5.0",
            "_view_name": "HTMLView",
            "description": "",
            "description_tooltip": null,
            "layout": "IPY_MODEL_74db70dc8c6d4d49a5aa7f53361056eb",
            "placeholder": "​",
            "style": "IPY_MODEL_894d083cc03c4bf7b682774b73690184",
            "value": ""
          }
        },
        "ecc266d806a94b8cafcada357407c021": {
          "model_module": "@jupyter-widgets/controls",
          "model_name": "FloatProgressModel",
          "model_module_version": "1.5.0",
          "state": {
            "_dom_classes": [],
            "_model_module": "@jupyter-widgets/controls",
            "_model_module_version": "1.5.0",
            "_model_name": "FloatProgressModel",
            "_view_count": null,
            "_view_module": "@jupyter-widgets/controls",
            "_view_module_version": "1.5.0",
            "_view_name": "ProgressView",
            "bar_style": "success",
            "description": "",
            "description_tooltip": null,
            "layout": "IPY_MODEL_e55bb164518f4e39b71e84bd98e82679",
            "max": 1648877,
            "min": 0,
            "orientation": "horizontal",
            "style": "IPY_MODEL_d14589fc661a447dbd11be58a685474f",
            "value": 1648877
          }
        },
        "710a08b0a58346f0a7817ed8acc676ab": {
          "model_module": "@jupyter-widgets/controls",
          "model_name": "HTMLModel",
          "model_module_version": "1.5.0",
          "state": {
            "_dom_classes": [],
            "_model_module": "@jupyter-widgets/controls",
            "_model_module_version": "1.5.0",
            "_model_name": "HTMLModel",
            "_view_count": null,
            "_view_module": "@jupyter-widgets/controls",
            "_view_module_version": "1.5.0",
            "_view_name": "HTMLView",
            "description": "",
            "description_tooltip": null,
            "layout": "IPY_MODEL_1fa06f80b48040b4af45623587e88375",
            "placeholder": "​",
            "style": "IPY_MODEL_3613a9a9ab394e33bc36ee9bae598f80",
            "value": " 1649664/? [00:00&lt;00:00, 2915907.97it/s]"
          }
        },
        "37c89738e0224ac09fea06861873ec23": {
          "model_module": "@jupyter-widgets/base",
          "model_name": "LayoutModel",
          "model_module_version": "1.2.0",
          "state": {
            "_model_module": "@jupyter-widgets/base",
            "_model_module_version": "1.2.0",
            "_model_name": "LayoutModel",
            "_view_count": null,
            "_view_module": "@jupyter-widgets/base",
            "_view_module_version": "1.2.0",
            "_view_name": "LayoutView",
            "align_content": null,
            "align_items": null,
            "align_self": null,
            "border": null,
            "bottom": null,
            "display": null,
            "flex": null,
            "flex_flow": null,
            "grid_area": null,
            "grid_auto_columns": null,
            "grid_auto_flow": null,
            "grid_auto_rows": null,
            "grid_column": null,
            "grid_gap": null,
            "grid_row": null,
            "grid_template_areas": null,
            "grid_template_columns": null,
            "grid_template_rows": null,
            "height": null,
            "justify_content": null,
            "justify_items": null,
            "left": null,
            "margin": null,
            "max_height": null,
            "max_width": null,
            "min_height": null,
            "min_width": null,
            "object_fit": null,
            "object_position": null,
            "order": null,
            "overflow": null,
            "overflow_x": null,
            "overflow_y": null,
            "padding": null,
            "right": null,
            "top": null,
            "visibility": null,
            "width": null
          }
        },
        "74db70dc8c6d4d49a5aa7f53361056eb": {
          "model_module": "@jupyter-widgets/base",
          "model_name": "LayoutModel",
          "model_module_version": "1.2.0",
          "state": {
            "_model_module": "@jupyter-widgets/base",
            "_model_module_version": "1.2.0",
            "_model_name": "LayoutModel",
            "_view_count": null,
            "_view_module": "@jupyter-widgets/base",
            "_view_module_version": "1.2.0",
            "_view_name": "LayoutView",
            "align_content": null,
            "align_items": null,
            "align_self": null,
            "border": null,
            "bottom": null,
            "display": null,
            "flex": null,
            "flex_flow": null,
            "grid_area": null,
            "grid_auto_columns": null,
            "grid_auto_flow": null,
            "grid_auto_rows": null,
            "grid_column": null,
            "grid_gap": null,
            "grid_row": null,
            "grid_template_areas": null,
            "grid_template_columns": null,
            "grid_template_rows": null,
            "height": null,
            "justify_content": null,
            "justify_items": null,
            "left": null,
            "margin": null,
            "max_height": null,
            "max_width": null,
            "min_height": null,
            "min_width": null,
            "object_fit": null,
            "object_position": null,
            "order": null,
            "overflow": null,
            "overflow_x": null,
            "overflow_y": null,
            "padding": null,
            "right": null,
            "top": null,
            "visibility": null,
            "width": null
          }
        },
        "894d083cc03c4bf7b682774b73690184": {
          "model_module": "@jupyter-widgets/controls",
          "model_name": "DescriptionStyleModel",
          "model_module_version": "1.5.0",
          "state": {
            "_model_module": "@jupyter-widgets/controls",
            "_model_module_version": "1.5.0",
            "_model_name": "DescriptionStyleModel",
            "_view_count": null,
            "_view_module": "@jupyter-widgets/base",
            "_view_module_version": "1.2.0",
            "_view_name": "StyleView",
            "description_width": ""
          }
        },
        "e55bb164518f4e39b71e84bd98e82679": {
          "model_module": "@jupyter-widgets/base",
          "model_name": "LayoutModel",
          "model_module_version": "1.2.0",
          "state": {
            "_model_module": "@jupyter-widgets/base",
            "_model_module_version": "1.2.0",
            "_model_name": "LayoutModel",
            "_view_count": null,
            "_view_module": "@jupyter-widgets/base",
            "_view_module_version": "1.2.0",
            "_view_name": "LayoutView",
            "align_content": null,
            "align_items": null,
            "align_self": null,
            "border": null,
            "bottom": null,
            "display": null,
            "flex": null,
            "flex_flow": null,
            "grid_area": null,
            "grid_auto_columns": null,
            "grid_auto_flow": null,
            "grid_auto_rows": null,
            "grid_column": null,
            "grid_gap": null,
            "grid_row": null,
            "grid_template_areas": null,
            "grid_template_columns": null,
            "grid_template_rows": null,
            "height": null,
            "justify_content": null,
            "justify_items": null,
            "left": null,
            "margin": null,
            "max_height": null,
            "max_width": null,
            "min_height": null,
            "min_width": null,
            "object_fit": null,
            "object_position": null,
            "order": null,
            "overflow": null,
            "overflow_x": null,
            "overflow_y": null,
            "padding": null,
            "right": null,
            "top": null,
            "visibility": null,
            "width": null
          }
        },
        "d14589fc661a447dbd11be58a685474f": {
          "model_module": "@jupyter-widgets/controls",
          "model_name": "ProgressStyleModel",
          "model_module_version": "1.5.0",
          "state": {
            "_model_module": "@jupyter-widgets/controls",
            "_model_module_version": "1.5.0",
            "_model_name": "ProgressStyleModel",
            "_view_count": null,
            "_view_module": "@jupyter-widgets/base",
            "_view_module_version": "1.2.0",
            "_view_name": "StyleView",
            "bar_color": null,
            "description_width": ""
          }
        },
        "1fa06f80b48040b4af45623587e88375": {
          "model_module": "@jupyter-widgets/base",
          "model_name": "LayoutModel",
          "model_module_version": "1.2.0",
          "state": {
            "_model_module": "@jupyter-widgets/base",
            "_model_module_version": "1.2.0",
            "_model_name": "LayoutModel",
            "_view_count": null,
            "_view_module": "@jupyter-widgets/base",
            "_view_module_version": "1.2.0",
            "_view_name": "LayoutView",
            "align_content": null,
            "align_items": null,
            "align_self": null,
            "border": null,
            "bottom": null,
            "display": null,
            "flex": null,
            "flex_flow": null,
            "grid_area": null,
            "grid_auto_columns": null,
            "grid_auto_flow": null,
            "grid_auto_rows": null,
            "grid_column": null,
            "grid_gap": null,
            "grid_row": null,
            "grid_template_areas": null,
            "grid_template_columns": null,
            "grid_template_rows": null,
            "height": null,
            "justify_content": null,
            "justify_items": null,
            "left": null,
            "margin": null,
            "max_height": null,
            "max_width": null,
            "min_height": null,
            "min_width": null,
            "object_fit": null,
            "object_position": null,
            "order": null,
            "overflow": null,
            "overflow_x": null,
            "overflow_y": null,
            "padding": null,
            "right": null,
            "top": null,
            "visibility": null,
            "width": null
          }
        },
        "3613a9a9ab394e33bc36ee9bae598f80": {
          "model_module": "@jupyter-widgets/controls",
          "model_name": "DescriptionStyleModel",
          "model_module_version": "1.5.0",
          "state": {
            "_model_module": "@jupyter-widgets/controls",
            "_model_module_version": "1.5.0",
            "_model_name": "DescriptionStyleModel",
            "_view_count": null,
            "_view_module": "@jupyter-widgets/base",
            "_view_module_version": "1.2.0",
            "_view_name": "StyleView",
            "description_width": ""
          }
        },
        "de181ac3416044faa60449a4e4b39b4c": {
          "model_module": "@jupyter-widgets/controls",
          "model_name": "HBoxModel",
          "model_module_version": "1.5.0",
          "state": {
            "_dom_classes": [],
            "_model_module": "@jupyter-widgets/controls",
            "_model_module_version": "1.5.0",
            "_model_name": "HBoxModel",
            "_view_count": null,
            "_view_module": "@jupyter-widgets/controls",
            "_view_module_version": "1.5.0",
            "_view_name": "HBoxView",
            "box_style": "",
            "children": [
              "IPY_MODEL_66135b3511114e3a9ad787b871f1d885",
              "IPY_MODEL_9ce5ad8c4c37415f907deb8c73e60663",
              "IPY_MODEL_46557efd62f34560a1c8b8e3c15e5020"
            ],
            "layout": "IPY_MODEL_638edfe7a44e4c62b687eb79e632a1c3"
          }
        },
        "66135b3511114e3a9ad787b871f1d885": {
          "model_module": "@jupyter-widgets/controls",
          "model_name": "HTMLModel",
          "model_module_version": "1.5.0",
          "state": {
            "_dom_classes": [],
            "_model_module": "@jupyter-widgets/controls",
            "_model_module_version": "1.5.0",
            "_model_name": "HTMLModel",
            "_view_count": null,
            "_view_module": "@jupyter-widgets/controls",
            "_view_module_version": "1.5.0",
            "_view_name": "HTMLView",
            "description": "",
            "description_tooltip": null,
            "layout": "IPY_MODEL_62134b25807948b0af084763803e5b37",
            "placeholder": "​",
            "style": "IPY_MODEL_73c896e561394461b699e689e1d919d7",
            "value": ""
          }
        },
        "9ce5ad8c4c37415f907deb8c73e60663": {
          "model_module": "@jupyter-widgets/controls",
          "model_name": "FloatProgressModel",
          "model_module_version": "1.5.0",
          "state": {
            "_dom_classes": [],
            "_model_module": "@jupyter-widgets/controls",
            "_model_module_version": "1.5.0",
            "_model_name": "FloatProgressModel",
            "_view_count": null,
            "_view_module": "@jupyter-widgets/controls",
            "_view_module_version": "1.5.0",
            "_view_name": "ProgressView",
            "bar_style": "success",
            "description": "",
            "description_tooltip": null,
            "layout": "IPY_MODEL_a47b457768994f8ba5b6353615a66816",
            "max": 4542,
            "min": 0,
            "orientation": "horizontal",
            "style": "IPY_MODEL_2382b25811e34b25a567013c61faf2de",
            "value": 4542
          }
        },
        "46557efd62f34560a1c8b8e3c15e5020": {
          "model_module": "@jupyter-widgets/controls",
          "model_name": "HTMLModel",
          "model_module_version": "1.5.0",
          "state": {
            "_dom_classes": [],
            "_model_module": "@jupyter-widgets/controls",
            "_model_module_version": "1.5.0",
            "_model_name": "HTMLModel",
            "_view_count": null,
            "_view_module": "@jupyter-widgets/controls",
            "_view_module_version": "1.5.0",
            "_view_name": "HTMLView",
            "description": "",
            "description_tooltip": null,
            "layout": "IPY_MODEL_7df41ad5e1464189b981e92306d855b1",
            "placeholder": "​",
            "style": "IPY_MODEL_e076fa2ff266428f90183756cb513853",
            "value": " 5120/? [00:00&lt;00:00, 5899.37it/s]"
          }
        },
        "638edfe7a44e4c62b687eb79e632a1c3": {
          "model_module": "@jupyter-widgets/base",
          "model_name": "LayoutModel",
          "model_module_version": "1.2.0",
          "state": {
            "_model_module": "@jupyter-widgets/base",
            "_model_module_version": "1.2.0",
            "_model_name": "LayoutModel",
            "_view_count": null,
            "_view_module": "@jupyter-widgets/base",
            "_view_module_version": "1.2.0",
            "_view_name": "LayoutView",
            "align_content": null,
            "align_items": null,
            "align_self": null,
            "border": null,
            "bottom": null,
            "display": null,
            "flex": null,
            "flex_flow": null,
            "grid_area": null,
            "grid_auto_columns": null,
            "grid_auto_flow": null,
            "grid_auto_rows": null,
            "grid_column": null,
            "grid_gap": null,
            "grid_row": null,
            "grid_template_areas": null,
            "grid_template_columns": null,
            "grid_template_rows": null,
            "height": null,
            "justify_content": null,
            "justify_items": null,
            "left": null,
            "margin": null,
            "max_height": null,
            "max_width": null,
            "min_height": null,
            "min_width": null,
            "object_fit": null,
            "object_position": null,
            "order": null,
            "overflow": null,
            "overflow_x": null,
            "overflow_y": null,
            "padding": null,
            "right": null,
            "top": null,
            "visibility": null,
            "width": null
          }
        },
        "62134b25807948b0af084763803e5b37": {
          "model_module": "@jupyter-widgets/base",
          "model_name": "LayoutModel",
          "model_module_version": "1.2.0",
          "state": {
            "_model_module": "@jupyter-widgets/base",
            "_model_module_version": "1.2.0",
            "_model_name": "LayoutModel",
            "_view_count": null,
            "_view_module": "@jupyter-widgets/base",
            "_view_module_version": "1.2.0",
            "_view_name": "LayoutView",
            "align_content": null,
            "align_items": null,
            "align_self": null,
            "border": null,
            "bottom": null,
            "display": null,
            "flex": null,
            "flex_flow": null,
            "grid_area": null,
            "grid_auto_columns": null,
            "grid_auto_flow": null,
            "grid_auto_rows": null,
            "grid_column": null,
            "grid_gap": null,
            "grid_row": null,
            "grid_template_areas": null,
            "grid_template_columns": null,
            "grid_template_rows": null,
            "height": null,
            "justify_content": null,
            "justify_items": null,
            "left": null,
            "margin": null,
            "max_height": null,
            "max_width": null,
            "min_height": null,
            "min_width": null,
            "object_fit": null,
            "object_position": null,
            "order": null,
            "overflow": null,
            "overflow_x": null,
            "overflow_y": null,
            "padding": null,
            "right": null,
            "top": null,
            "visibility": null,
            "width": null
          }
        },
        "73c896e561394461b699e689e1d919d7": {
          "model_module": "@jupyter-widgets/controls",
          "model_name": "DescriptionStyleModel",
          "model_module_version": "1.5.0",
          "state": {
            "_model_module": "@jupyter-widgets/controls",
            "_model_module_version": "1.5.0",
            "_model_name": "DescriptionStyleModel",
            "_view_count": null,
            "_view_module": "@jupyter-widgets/base",
            "_view_module_version": "1.2.0",
            "_view_name": "StyleView",
            "description_width": ""
          }
        },
        "a47b457768994f8ba5b6353615a66816": {
          "model_module": "@jupyter-widgets/base",
          "model_name": "LayoutModel",
          "model_module_version": "1.2.0",
          "state": {
            "_model_module": "@jupyter-widgets/base",
            "_model_module_version": "1.2.0",
            "_model_name": "LayoutModel",
            "_view_count": null,
            "_view_module": "@jupyter-widgets/base",
            "_view_module_version": "1.2.0",
            "_view_name": "LayoutView",
            "align_content": null,
            "align_items": null,
            "align_self": null,
            "border": null,
            "bottom": null,
            "display": null,
            "flex": null,
            "flex_flow": null,
            "grid_area": null,
            "grid_auto_columns": null,
            "grid_auto_flow": null,
            "grid_auto_rows": null,
            "grid_column": null,
            "grid_gap": null,
            "grid_row": null,
            "grid_template_areas": null,
            "grid_template_columns": null,
            "grid_template_rows": null,
            "height": null,
            "justify_content": null,
            "justify_items": null,
            "left": null,
            "margin": null,
            "max_height": null,
            "max_width": null,
            "min_height": null,
            "min_width": null,
            "object_fit": null,
            "object_position": null,
            "order": null,
            "overflow": null,
            "overflow_x": null,
            "overflow_y": null,
            "padding": null,
            "right": null,
            "top": null,
            "visibility": null,
            "width": null
          }
        },
        "2382b25811e34b25a567013c61faf2de": {
          "model_module": "@jupyter-widgets/controls",
          "model_name": "ProgressStyleModel",
          "model_module_version": "1.5.0",
          "state": {
            "_model_module": "@jupyter-widgets/controls",
            "_model_module_version": "1.5.0",
            "_model_name": "ProgressStyleModel",
            "_view_count": null,
            "_view_module": "@jupyter-widgets/base",
            "_view_module_version": "1.2.0",
            "_view_name": "StyleView",
            "bar_color": null,
            "description_width": ""
          }
        },
        "7df41ad5e1464189b981e92306d855b1": {
          "model_module": "@jupyter-widgets/base",
          "model_name": "LayoutModel",
          "model_module_version": "1.2.0",
          "state": {
            "_model_module": "@jupyter-widgets/base",
            "_model_module_version": "1.2.0",
            "_model_name": "LayoutModel",
            "_view_count": null,
            "_view_module": "@jupyter-widgets/base",
            "_view_module_version": "1.2.0",
            "_view_name": "LayoutView",
            "align_content": null,
            "align_items": null,
            "align_self": null,
            "border": null,
            "bottom": null,
            "display": null,
            "flex": null,
            "flex_flow": null,
            "grid_area": null,
            "grid_auto_columns": null,
            "grid_auto_flow": null,
            "grid_auto_rows": null,
            "grid_column": null,
            "grid_gap": null,
            "grid_row": null,
            "grid_template_areas": null,
            "grid_template_columns": null,
            "grid_template_rows": null,
            "height": null,
            "justify_content": null,
            "justify_items": null,
            "left": null,
            "margin": null,
            "max_height": null,
            "max_width": null,
            "min_height": null,
            "min_width": null,
            "object_fit": null,
            "object_position": null,
            "order": null,
            "overflow": null,
            "overflow_x": null,
            "overflow_y": null,
            "padding": null,
            "right": null,
            "top": null,
            "visibility": null,
            "width": null
          }
        },
        "e076fa2ff266428f90183756cb513853": {
          "model_module": "@jupyter-widgets/controls",
          "model_name": "DescriptionStyleModel",
          "model_module_version": "1.5.0",
          "state": {
            "_model_module": "@jupyter-widgets/controls",
            "_model_module_version": "1.5.0",
            "_model_name": "DescriptionStyleModel",
            "_view_count": null,
            "_view_module": "@jupyter-widgets/base",
            "_view_module_version": "1.2.0",
            "_view_name": "StyleView",
            "description_width": ""
          }
        }
      }
    }
  },
  "cells": [
    {
      "cell_type": "code",
      "execution_count": 2,
      "metadata": {
        "id": "t5E07D-FCgLS"
      },
      "outputs": [],
      "source": [
        "# import packages\n",
        "import torch\n",
        "import matplotlib.pyplot as plt\n",
        "import numpy as np\n",
        "from torchsummary import summary as summary_"
      ]
    },
    {
      "cell_type": "markdown",
      "source": [
        "### Today's Topic: Modeling the CNN(Convolutional Neural Network)\n",
        "We will model the cnn structure using the MNIST data set."
      ],
      "metadata": {
        "id": "G8MwUj1AEVkA"
      }
    },
    {
      "cell_type": "markdown",
      "source": [
        "##1. MNIST data load\n",
        "\n",
        "The MNIST data set is the handwriting image data from 1 to 9.\n",
        "\n",
        "![image.png](data:image/png;base64,iVBORw0KGgoAAAANSUhEUgAAAgAAAAFTCAYAAABPirQ+AAAgAElEQVR4AezdL6w1S1Y28GswI0gQGJIRGJIRGATJCAyCBIFAIDAkGBIMCQYxCWIEBkEyAjGGBIFAYEgwJAgMggSBIcEgEAgEAoHAvF9+hzz3W2/d7t79p6r73PdUJZXqvU/vrlXrz7OeWr1P768+nWx/93d/9+k3fuM3Pv3qr/7qp5/4iZ/49P3vf//TX/7lX5682vWP/fd///env/mbv/n0x3/8x2/ykOnHP/7x9QsfuML//M//fFrqBy7R7dR/+Zd/+fRLv/RLn37yJ3/y08///M9/+vu///tP//Ef//GJnu5q//u///tJX9JJfW+UPO38o+Y5c926fsd3NT7wb//2b59+8IMffB0n3/3udx+J3VYH7eu7dNLO0/pN5GrPG/k6c74ae8sAH/S//du//fRzP/dzX/vIL/7iL3769V//9TeM7T3n3uv913/916e//uu//vTDH/7wa7ngvNcjWnQvZuQ7/T//8z9HTPXYNb86M/O//uu/fmYARkhnpCeaxP/TP/3Tbz2ySH5/+Id/eIs4nOSXf/mXv9ZDZPiFX/iFT//8z/98iwx1EjZCACKHURALoDsawvEnf/Inn37zN3/zMxmqPI6dM6JJcgjgj370o7f5EVQy/fu///uI6XZfU3y08QNYRxMz/omgt/oXM94jw1/8xV/cqh+EvZUnr//gD/7g0z/90z/dKg8jsg096JHFyI/97a5m/p/6qZ/6TIYqj2OxI0n1bOLFhqGdq76+Uw91bYhqlaMe1/N6HYuXn/mZn/nMDjBVLL23FrJyVK5TBOCv/uqvVg3xhHNgZb//+7//iYNUJwFuv/3bv/22Cx0NsJL8GgGgLzLewR7NQRbOWwMZm6cLSXB04wOSL5v82q/92qqvCODf+73fe9uR9pIp66dzSUQ3D/Lzp3/6p28E6B/+4R8+pd9JWLOTQMJ+9md/9mu98Bs2G0VOJFL6+KM/+qM3MJNY+ILXqeIBNjspSfmOJh7XcETc/tZv/danP/uzP3uz1+jYzXr5gp0vPej09J3vfOetq3SSt3fCzdx1tF7zi9kQtJrscixZ92z8U8yKlcyB+PzKr/zK16+9D1uce2ciFK/0EXtEPqONXm95xKL4EKc1Vm3oxG/mE1vpqq5sd5e/sj2fNS+/1R0fwbTdBMBFLfrP//zP3xQeAwgSCuIo3/ve994APQrp6ZzttcijJMMZf/d3f/frQOEMWJseGWOs9ho9Xkt2kSHztSNZBCvdjW7mYId29yB4gL2/jwQxO5fcFmr1sPYa2PWQyTUQj0oC1+bM+wgC+/3jP/7jENMAA/6HePHTlqRGDjvwnrtMutCBVYggosH+knzIKP8FHJFDLPPVkTGM7KjMWW/m3RqB/+gGOJFRlaI1WcQUfY70Fb5oZ78kA2yryQih7RE3fJSOJbzMy2fEElnoJe8b+TAs8f4o0hp7w3g+u0WEyMSX+FSP5CteEVDXlfARoN/5nd956+bhB4iS9/ydTXQkmgz0OMpH6EXugycIqflqpZesMI3O+HRwIPpsx90EgFIsiuGrM0hulMBRstsD6JxnVLMoJd4YqcoTQlIDZSQBYIQlVlplcswoblOMbPTCDnSgtzJ4LWgD/iNkaf1jSYb2PbvRHoHrGvXedjvP2muEZZS/0rVkuuSrS/II3B6NLnTEzzzilO2XdgdiqZVFDEswI5qYCVFv51167fzRDaAuzd2+B/jpZkTjK3ArhK2dW0wj93m/VwWAT7iWOMy1xQTclPCC6/lbRrJK0CMbzFzTR+TISE4yX23IUDaQkqtELy5DiGpuWdtsIAGjGtIln8i7WXs7khuZZNulmI9sLwmAD3N44EHBawsGvAH/lBczSc8RAzcXo1RDRAFk5Mx6HOc9EAAyS86jG8fbIiQSgtJqj51D1iLB8Q92X7JJbLM2smUPAgCMzswv2AFd79tXdEzXfDKJeE0Hed+5fNwu+UqTvFUVXNcuYSsGAIqyr86GkjN5vVYd6NnIoRKx5aPRhZE+Ru8yra9WQer87bHqiZ3ViBbyukTe7YAlZcmJfcjVi6DxewkjeOnaEq+EZ16dLyCxfKnqRFULQeuReFudIkSwYUkfkYFcOZabrpDFfPkzdjB34iaJ1EhPCIE4ZQ86gX/5Hhp5VJIk6SvytPqAb6k8kGGrKgLTxBmbWQe/FUctzr4kAEuBYWKkIIo3Sm4mAcCIAKX0bsC0zrl0bO58iSflPI6k926U2d4fi0ycgfIZwXucYRQBkPTtDDDCMNfIsTQK2i1WuFdP1k/XnHJpnqX3ELP2fUmndcy9MjhPohWo7XXb15LaViLmXz2bgDt6O4TMZLwiC9DJ2sXjnobEid8AOUALgQCywK5HW9tARN6lcVR1JusRC3vt1Jsk8nsdqVhae95TochtmRAAsdSDyMOPzAOzJEDXFZfeh3HmTuPXknK1ZS9ZModR7lmKV/gl8UqIrd2ukCJrtI6QijXdthWgEAcj4k626NO1rpB5fsH2NihbCT/zGatd8r7P0qXrqPilbRKApbKYRMNhAQJFKDNURSXhGS28B3s3V5v8OWB6FmnkwCEAMWRYXBZ9deR4dc4cU24anXCmBJGgQgpGNOQiMtRR4JJBj138nTPUgD4rk2tIMEu7bqDCDnxEIrHjA+R6ldHx1QoAHyNLe936mixpAlSyawOFbAnmnHt2RIr4YpXhyDF/OUqKnG9t/IHvs/nVhghEbnhwtbF14jLXrSMCr4e852+9bo0syd9uZjJnS6bhTQXPpWsdfU+Sy44z89aRj4asw5SQMudcSXaR0zXrbQXkMZulYC4faH2R3GxSZfVej0bHcLP1AbjlfflAnJKpJQBXyCL5xSw7w8wrTV6MblwzxPrINa0zZC/XWhvpoW66+Yx8s/R5OoxPbRIAArQTAhUfBgYcRDKszpFEw3j+1oMxm8fuucpiwYIh8/kbRwZ+5OacAZreBMB3IaosOTZ3yBAdkRng+bu/jaoAYMSRoY7e54h6DRQO3uNLKvSMVbYs3Wv6F1BsxzGBOjniU5XNcsjqQ0eCxLmSv7nq2uuxyoiEn+SOmIZVV/Ii6AN+R2Voz7cmhLDKceQYgUiQttdee+18AM7uQEdiudqASOTuAfCut3bvUlmTr4jr+sUm848kAGIza6wjn62vgWlvAiAOJa1WJ+IDntFF/AC2VJ/ir8Gbs3Z27Rq/YjTJSszQwdI8SyS6kuyz8vgcHfPf1gfgOf+RV0IAxFm10RVSxL/pm52vXMca6A62sCObHdkIsykd8PmKT3WdrutvNnm6uIG18Qd2ZQ+43+qRTYNzqwSAkjkgBkrJAMkkAHyrZTICSs4c6kyTECjNIlwri3dNjF1pBPD7OxkpGahTHAd2nKTXmwAwTOSpYyU7DGAXzJGd05sAWDtbVICW2NlKwOpk4BCMXYkSea6COZ3WtefYOpeunQRPJj4SP/G5qxUAa2sBNGSQPHx5qVlDJTH8hZ9fvcdrjdHHq1EQW7+gdL8753v/6P1DxCaf5x89GrtJUPwKsbC2Kw0w1niOvOwkGfJVttPzN2MPwlrlti76SrkW6Nvx62SBMWSpCZccPtOzwStra+MTeQuehbiSJ5hGlqtJyjrMHT2zC30caZJOPl+rFUeu0Z4LP1yz3b0uxXGLxVcqAHJJ1nKVcMJd65AzXZPf1/zQrrm+Frs+A8+XYsHf+Ad5k+/q5+uxv7teNsNZn/e1VQKQxAWoKR4oWhTQ3GpxZMIDZUKeaZTFuarDE145yt8EsAAJS1oyGDD3GYGj92oVqKNQYwUH8zFSAASo9KoAWPtS2VLSaJMvXcWhqqxLwXREP3Rfr5djsm01pE51qJb3JJdXn1u7pvXxtcyfUUJ95au5ZivPki/l3D3jGjmKbHUUL0BYsjdv/RvwOKIXMZrPHwXyV+tC5N3GCXC8On/t75EvY0A+hEXc5G91XLve2ff5TYiXeSQ/IAlwKwFsK4/8fq9f7ZEtSaLuwvlzS/7ohcyVGC3tzPfMWc+p2ECG2KGes3XMz3wOcTL2wNm6qXnlA/yynnOFFFUCIPf0aKl4shUSsKfFJvAcjiUXZ5181XWPkHH5J5838iXtGwSAc+tJ5JRiIj1ll61FZGd3lQAARYuvDi/5C86AokUISMpYKrHk/mXWtCX3kb+FWFSFtgmHY0os+WYtMtCLAFjrWtm/BQ52c37kiMx0c6W1DsXuyNorpxQEEkm9v3qlAtAmzaxPwMVPttaJ1CKqtYJAnrPNnGH9kcXomvFHr8UHfQEan5EIWjDjM6/0WeUMAQAQR4G8XmfpWJzx5wDH0jl73mt1o0rm2lknewDxqiv6khR6NnqX8BMXdC2Z6ZHFfIhytaMdJrzp1aydDioBEEt1M2EueidblaUHATBPrqn8fZTg8TOfS/zwwSskgO7bhEc+frPUxE1IpPPeSwUgssI7cvHntTXk3Ix0AAvkC3k4Puo6cFP+OUpCI0d0lTj+BgEwsR2ZyTji0RbiYCKCn60ACFAy6IKQwK1jpTS2JmOSVG8CwOEjGyAXvO06a4JzLgewa+/RBG2IVuRYAq/MxaGqzD7Typtz9451fnbmYEskrL0e0IrMGa9UAFoiJFGQY0/yj2zs0l7nyOddR+LSJZKsy0jvAD7E1fp1RA3YZh6JIEHqc5K4WDzSQgB8HoHu2cQfwmKOM83nJQv3K6t+2koUfSwRAEmhVxM/tQIFmGOHdg42lfBjV5jSk4zwA/6vfA5LzCWW28aekl10J+H2sHHdbVvjmh5aefIatrBh4odMR0lErmWshMRa7YLlEvOstZogr1QA2CK4LUZ7NH6vYqzbJO5pbEAPcCP2Nvp8cuGe69Rz2s1FbPQZAQCclX2dUWYSA8NxbKB2tAkCAJjFH2U7IQbZRfQkAG0CkzwyX11nZDdyKga92jiGIK02cv0tYsHQKSlFJnYFbGca2/h8rmUU/HttZN58cSXXuFIBCFl1LUBxtnzfJoWjQOjzAKTu5MjENgk2+l7yFe+3BMBntxLTku2ATQBsKYksfWbve9bAbmcIgM8Ar+iGjF7brbV+iOTHlsb0o/ZYWpe5XJ9Ncl0ybSUXn6HXJEo26VXJE5eViPDltebcSgDYovrV2udevV9vZ9LLUT07n31TFb1KAKLn2AfevFpnxbcrFQCyS7rIFTLWo8FF+KaSLSfuafRp/WSIHoxnYpruYFO9DptnM/0ZAXBy7ln7wJn7IKkAWCyn4LRHm91pFXjPzrLOEZANK+1JACp4kNHrpVblpwsgcrUJNiDR7ua3diStA3CqK7t/TLIGqeuxcxxqzxrDiKMjazoKPJlHcOU6ZDlLANin7k6PygM8zF1vWcU/2KBNdJE/o+CuFQCftdvcSk75bEZryPwIRc9mDfRzhsj6jOpByo8IAJxZstVIAsCmsEQSp1/yuA2wZZsQgHwXAAHvRQDYKKSIPOJorbUEAM72wJSKJUcJJ1nplH1Tbb1KAFp8FROvsIUe6E8/s2mNzunY5/OFubx/ZQwBkAPg057WJuysjW6PNmTC53INo9iLTr9BAKpDHJlMoKRkAdAdn2kBgCrw3t1l5hNY5g8YumYWnHOOjgCQM1bGTMZ2nZJrrRIwutdbILNXFslA4MdBoyNJMKSnXktwcmplI+cCPPIeTW71mpUAcGpzHyV5dn9Vj65xVqZKAOymzgSJ9QmUVK/oaq887GrOSh5iFyNbWe8r9q56UG97+SyitVcOa+AfkqoKESC9QvSqzR0DWfqhp6ONjlTjkuxU9/jxUlxYL7lTco8u6fdqgwt5AqGRTV4RGrJbc0iv5L9EXI7Ixk4wsvoMnWw1MVzLuBLuVUwznx1zdAz74dyRBpvFf+IQ3hzdsNX5IktG6361zmDJlQogGfheErb56WYJV6u8r475T/XlV+f7Ox1m/RnPVDbiZ8h3rqO6UWP4GwQAWOXkPcLmHMlRQvBZDvEK8PK5diR0ypiudTQ5ULgklzUYXVO/0hgFYNWSnWu3FQAsvlZRHF8JiCqztQGiVDayRnr3t7pGxxIK5yMTIiJQAPHRIK8ySFTZDeVfRNn+SAM0lWhKWEcSXZ0rwBNdnAVnQZHqlWvtkcc5ACo7ysiwNAL7JSLLbgCuzu3zAvVMDLlW7OM6vRpZJKkKHnuvbY2VAIghPrN0LeeyYXaU1sB3gdjVxlZIiHW8SriZizwIXjAFiXiVkPLZtVFsiuEaA/x4qyEMsDkE5mjMrV277jbpBs4daXQamYyI4p7YWZuDrRM/jvkdG6w1WJa8Y8NHnqsttzhd13qu4LfPs1v8bo9s1SYw9mwcVxyITuWCmic+IwCEjVMCoFfNhRhAwpcICStJUthZpbmm4KwC73Uo51FeJTGAhANtOdGrdfq76y4RgFpyAmj0V0mC5HZWF61c1mdtdedAT0tMVbKR/CV93RdlgJhdxF59tvPToWuE4AgQwHQEjACMXbEe4DhzqymymT++Yqz2yDmvRusCNAk219mjI5/j+y0BEOyCT7Blrey2lPDYyY63fpHJTpvtlgjD1lrIo9ddnXuoPZp10svSGl5d32f4YMBd8oMbS4lU/EuGddciho/42Jo8fCMy0O+eBhNhWzCF/+7xja1rWze/tUZJi70R661GfxVXetnVehI/ZwgAOfJ5G7ejPtuuOfZxzT0VJ7GTzyDR7HW10Qm7WA/MZxsYLraONnkjGGDc06pNshne87l6jnkrNrqO3ARr6zo+IwCCMo7OGbYaQBDIEpyEDTwll6sNAMShjIjInoAT3AA3BMZnAbPr9WiMwhk4ZeRzTGeakS7yNyOdSJhV4VdksRb60Os8jGp+Rncs+QDNOI9zAZ7PX5XFtbPrPkoA6LDd6dLRmaQSPbJ51QVyxO7m2tvYtV6HP+/xOedITJUA0IldiNIhoGeT9KWEV8u61sGHnH+FNPKFGgc9koVdOb87I1fsHqCGG3SxpOM2/umkR/JP0o2v7LmmtQYPfQ6gLtlwr5/lPP4hNnXXF6tLusj5YjpyB8h77HRd33oqTtDLliyRyTmtfs6UqXO9jHXzV+9V5+9GJENS1iVVuoFLr0hUvcarY/qNzuVCsljf3nxCP+QJNqjc7r0lBw/hoh4ZrG9PMyc8QxjzWaMKHHLU+u83CEAFDkHPyD5EKOWvJNrsWCgH6B69X7m2GAkqSssCgDMWriMeAIVszkvPuRyCoTjyXmOtyVLfB8oUW1l4mDudtMmfwumupwycSvJtjSvp2E1UchJ9uC+GzR5JiHXd7TEHy/3QIwRg7T4527ZO2c659ZqOrb3axdr5JODUt5pAV4kAgvTkOnuSg2vyVeciV9G3+NlqAU7rBioBMLElxq7uoDI3f1XVEJ86PZjjaKOfyHmF4NMR/dITv6EncVoJqeuHXEafxr322FqbOKzX3rqmv8GXioU+22N3SUaJIOszB0IU27O/znYhpknQkqP3/J0f9Wj0XzcUsOzV92gQTGSokiN4dyWOs5aQRPqRAOmKPPRjDt288WvnZWddfSnXuzLyfTgSbGEHc8M/vqqTjS10MZf3xUzsJjfQ2d7mWmIVMYyfGGGGOGIjeK6bLzmQbhJj+Ry/dZ21PPQZAeDg1ag+mCRmcXYSnNXCUr4VzHZ1hOrllNhOFmDkoJIboBeYggMZ8F56zucM5LSWng5B2S0BCNmgkzhJ5KC73o1+zVVtlPm2RsAhgHo0Dhf7sD0HEyivmnOc38q55Zyvrpm/L5EfxEew6FsNoYlMgodN95Il9mgJgMDfanxSTLWB2ivxZ25grNOD9QGPM5UAn4l+kO+zTbzWREMu1bHaAOuSj7DR1UYXlaRv+SyMIW90F/2tgehR2SoBQOZDAPhFOr8SWxVXyEO2no0/Vl9MctmaA7aGNMc3xFkP/K8EwLXJw1Zi0ms6qHbxHr8a0cQkAtBurJA2GKhL1PmioBzJh7NBim7Y94jvsAnCID5yDSM78QfX4x/0IifJv3Sgt7pxbhtnVVefEQCTLiWX1iiE4bguTJDejQIoV+KqJaGqjPZYcEtOe8H7qMyMyxlrQLYyeM0AmOsRg++VxTUlKH1p7voemwFTZKlX8icnHbcObl6OiA0LGp0vtcnReeyJvQM35/fYNZAruqk6yDHfYL8EakbBm3OMe0t0sdcSAaBzQZc52rG1n6CVbHqAZ+RqR7rOOskHMNjQnGJNj5zsIenXuPMZvn+20bO4acEpMm2NCCL5erSQ0Lo2scpPyai31UeEDqb0JGj8vu5gt9afv0lCdt0jGttmnozIXnzCyC+QE3Gec4z0AxN6YUy1TZ1n63gU5tO1dcNQMS1u9vqwdeg+d9Z36FQ+TrV9Swf5Wzbmxj149hkBsGBJvTLCXLiOGNAdDUBxrpRSqgz1mGFGN8bAvs1V526P6e8KWL5aBzAUnGuOCKyRM0A2ogHJuits1//q9UjdIB3W/0qGpb9LwkcbW9CHzy5dc+s9iUdgn9mVH5XT+eKIb27JtPQ3RBy5upqEc+uoltWX5mvfU9bsRY4AOSx5hSeRAYDzqd7NeiSGI7pAXhCHEU1iR5JbbBOrfLt+mSy64btwBrHu2Vwzc2yNchQyPcI+W+sRR0h7ZIPD8SmjaqTulluPuMmGaq+v0J9qH1/f075BACxQ8mjLHhaKtXKUHl/22CMcBVoIlqkUE6UbOSBZdKx0dBMkZAFIVY56LKgB+pVS6at1AGJA0Oojjsf4QJsdewFnlUn5T9AvVYWqLpaO2QyQjWqCxY6Rv7T+S57Kjh1HRro7S0wQQ0y73dFVUKjHmdOuPFWTUfqo1+W7fFOplg9bc3Yp7Uh3ua9od9wDyPis+fnmGnmNbuqItFwlH9EDW1l/m+jqfI5TpZH8zu7eMufSSJ/kgF3t3Euv2UvMib0RzRrZRdzU+cUSGVuscQ6s4yNwsWdbqi5WmRyLJzjHPr3nX1sLH9TFEV2JX50OyJwOR3QbA9WDqxjsGrqca774JgJUO1vpzoNHfH1P+wYByIeUVfIlKiMGD7xHBETmXBuxPAFQ5Yksd8vD4WqgMIIAxZLvlAWgVn0wuM5Z7miCoA3Mtdd25YBkZPLPmgUcHfCXBKVktyaboKG3K7Yzp0Qp8CTTtbmUwflK5ozMd4+AzJol5KU+sqRqrQBySU+Ih8Sop5LGjr1aQFzsAG5+GSKLFIhhsc2WgH5ko39JwjoBe0sGkKT4C7lHNz7cYopkolecyTEcHIE11po51kb2GTH3ER3Tl35noxt+qcPS2nO75qg8qwTg6IU+0vkIiV2+Diwx+isJ5NuoO84fHbwaAcsT+gng2zkB2yU52a5Hy1xLc+Q9yQxwPQ1ePdZ75Rp0xR6tTSTFAOtocGX3CqbmltTu2lFGf9aZeeMnRrLxl7vliVxz/BgamATgY9h5rnJqYGpgamBqYGrgMw1MAvCZOuaLqYGpgamBqYGpgY+hgUkAPoad5yqnBqYGpgamBqYGPtPAJACfqWO+mBqYGpgamBqYGvgYGpgE4GPYea5yamBqYGpgamBq4DMNTALwmTrmi6mBqYGpgamBqYGPoYFJAD6GnecqpwamBqYGpgamBj7TwCQAn6ljvvhSNeB/7z0YyANgPEBj1FPVvlT9fenr8mwCPuFx3/yj5wOIvnTdzfV9ezXwrSMAHowBxD21yyMq9bufB/3tNffHlZyP5JG8Hkmsj37YzLdR2x4hncdKeyreR2iSv6cTepyzJxQaPSHwCRKAqHpAkqdFGns9qOpLsiOdeIKiJ0fqH7khqzY2Z9u3jgAAcsmf4fM40bmbO2v+Zz539rGVV6TlNx79qsdvngDXJ9Z+RG8e/epRxh5F60dPRrfoox1Hz1uvjwBIKO0jnD3B8u7miZmeBJhHEr/Hp0ZWW92tH/OJW4/Ujr2ekOG9zOlR3nRxtl0mAIJHt3OIQfIoy7NCbX3OtQNQmc/cTzWJxTPg/VrT6Geob60xyc2PdCBE73V3S77Yz09dsucdLX5j7jz//Qlw9WMesZVn3j/pM1XvSTzINR0hSZ5FP6LZ2fJRNvGbEuniyN/Es52Nx/OKr1FNjOgVu4IpxiceX50KQOR4goRs6ZvdVNIi35XkszXP1t/IUH+2XrUEKXiC0PNPP+plQ0qmu2XIryfGl7f0tvS3ywRASV75rP5coSAeBWzKcsr+SrhxQizoqWbuyGHdT7XIwA7sMRI4r6wxcmb0Iyh3AK0fs8qcKR0+QZIkVT2yPEleqx0lGj+Io/xNNgQAWXmysQ+SNMo/kIy15E8HTzXEJ/7xJKYsrT8VosjnduzdDbZVAkAWOtPvbuLGL4umqijv3fn7DdGDH07yI0lHWxcCgAFFEMYQWKOYa9gfEI8TAvenWt1ZPklE6IITYoTscacT7tU928VmGcPe917j7Hm1xIt0mFfl6u6Wn/PM+u16n270AECU/L/73e++2Qiw86M7W/3xGzJJ/H72dQQBsFPjEwhGbNGOd669zkUPkeUMqNdr9TpGxvL9q8hmFEd3tyUCQGdPbHokfDGTuHmKAPjy6plq6iUCQOEmrTsH5TwBOyJoORqWJ8kBqzjik4lXgEaOJ8EckCnHSTDK7E+w4S0gALgpL9OXXbAkc8cOR3DU36AH/E/tvNnHLltHms8E7Zaez/xNrLotET8mo1L0nQSJH/jyId+lE7+GB1+QtRFktt3J1rK2zcUd339Ys5XYjS3EyJ12WJIpBJG/xk9UGv2MMVJ/d1siAOR4Qha+6pZibisiAKNy35Kes/GWe85gyWkCYKESvx5n5RCj74EACsquAQvQnyjnMkglAHZRTzWgEVkkuzPOMEJ24MEn7CbjJ27fALbRvpLfza7JnwzmfoIASKoBCwlGvIyqlO21pfnr7RH6eUI3dpLmlmAkZ6Re4h9FAKo/qjLo8U8k5ImdbWwmLvIlNzvLJ76rElmMsAUpjH6M9HV3hSgy2e3XvEMe791NAOScfKeJDDUk7ZsAACAASURBVHx1NKZFBxlDAG6vACjzW3QFV7vQ0WxVYjNv7Xckkyi8HZN0ycMITzWsMzYhC7neQxMQegVYYPLDH/7wU75NPEpOOmCT6iuOzf1EtUZCiyxIkG96IylPNokWcY1cRn50d0OGzP29733vzTbiPDu9ERUAlcqsGX7oec1XvX6qSSz1ltWdO8qlNUuudcNFT6p5V/79bGmeve8hJPV7NOR5ggDAtXwJjwxP3FYMAbi9ApCJEzQc5A4GBgwAeP3SIRmeSr6VkGDtownQWpDQSyUAmOndbHRJNkkYSQxRtANWxRGwI5s5cpvI3DnmK/zniV1uJQAS3XsgAIhIBVOgfqcPwwy2yg7Tzo5v6AgAYBvlx66va20c28w81ST8ervsSQJAP0hicD7jU7pRsarVm8iDNN1dBVaZqd9FQyrvbsnDt1cAoviMGOudwNHuWp7Y0TF2rQC4h3m3E8bhJJcKYu+FALTl5d47Kz6XUj8fTCKJXxr5hiST956qANQvnL2HCkDK7vSi9E53d9+SAFyVnNXqA9vehSnVP1QAniQACE9uAbDNkwRATNUyN3me0g1spZd282cXfnfjl/W7GnwYBt/dQgBurQC4/x8w9c1zi5eQ7wpWSm4JwFMVAMDh30B0jvgkAagVgDu+j/HK2e0e2i9b9SZq9M0X/OsjcEgyset3T05nowrwSMgTFYBaZn4PFYCaZOiNz4yuzLQ+wx9UIPIlKiQ27U4CgEQG0+jlqSRn7QhAJYtPE4B6+853EnrHcOz9ahTrfLQlAKoldzc2QZbjMwh9qkl3yhICcFsFQMkOeFm4oKV8QXu3k45OLHuNCDA9l8C3uicB+P9aUzZUHhMYCRK7id4NKCgJ6hKsbh4BwSdDyGp15KkKQCUAqkVkvOO2WdW5pCrBmDtJ10h/ACz6qp8ZeSyO881yfnJ3BSJrqwQRAXj6S4A16d6NrdGJEnf7RW/VgDs3epHFaOOZ/6AJphj58t0NCaq3Ithr1K2qrbVVAnDme1+7/wuAMyh5BMTsGEz4VMC+lwoAAiBIOKbxbgCNc7TfAXiyAiCRtF8aQo5GBwjdr+m/ArygAWR3t3pfl30qQblLFvEKuFIpUcGzo3oiyZizLS/fXYGI3qt/0M+TzxYRy+JFclPJesI29OL7IEm0SKL+RLKNjZLsIlPGu0vvsQ8b2QyLH/5zZ5OPbR5sJOjB8ZnNxG4CANQlfLtdE+Z+9xrgjlbGe6oAhADY8T6lDyBRd7lPEoBaTk2Q2lU9tXPgi1Um97r1u+VJsNKJxAdI7vYXt4n4RnbdiJrbJHfrgk1sKKpO6MV7T7TqH24PPbWxsXaxnDI3ggbsn2hwLfGbalH9jsbdMkWWdrxbjtwCpxOYr1p0N3EVJ6qs+QIvHDmDJbsIQEqGdrkckgGe/qWwtgLw1H0phmcEuqGXp4JVMqnfAbDbHL3jXgu8+uWyBOsT99yrfNixZKdLgG4D3Jn0zFUB9al/oUKc7Sp1tmEr7z3R7JoiB1mQkica29QNxd1g3q7ZZisVGjj7RBybM7Fr9A13790ZM1UvSFGVJ8dP5KF6ewaR5y932wgJUY3Jl56rro4cvyQAFG+HUMGL8jnpk60GLHkY5YlGD8A8Jbu7HSFrbisAyphPBCunTHAa3Y9/ihRFN0Z2QtIQgCe+A8AWYev0wj53N7uGKgOffaLRheTPN6qvLJH4O3xHzNYvRC6VUslxhyzsIaFEL3aZd81bfUGMRAZl7id3/uTKrefI5MuINqNw7+5WZZF3nqjkWTcSkLwM387k5JcEwOLce8lEMYD3n2xtBcCu7olGD8A8JbsnHNK6yVErAE8RgJaYZefwhG3qnIIDaABUiefue7ySXv2f4ScIgLJ2dgziGLF/otEFX20JgJJm2/i180c2BKDu6loC4O/I0123J8wTnFUVeYIA1P9CUI24+x53a+9qH7rhx24f3Y23fLHqRgWNDGfK7+0aj7zmE/w0t9Acn8nJLwmAIM2/ucUpn/wXmSip3Wna3bkHfleQRg7Gl0yAKf1gZWcMkeudHclRvwOwBKZnr73nc3Yt5k+C4ZhsRB93N0HadjZxW8QOWPKVgPIkQj6DIIxMNK79JAGwxpY0P1XqBpZ8o4J6W/53DpuoCoyuqrm+UnLwjW8khn03IP/lA2PO7LKO+r+YiSx336pCEt2uQ5Yjg7i5O9FGZ/QPyyJLxjv8IjLUEcblVqJN8VPfFREfeirP8OVMnGwSABeNwjOa0MRPN46R+2RkUw5SBbh7Z0cXwDWsEMjenXzZAmDVCsBSOXWUzbDRWkJljzP/knJVPiBlXlUH3a2ZdJUJpTuVGmCPudOR5wdIPqpcIxNiSwDMe1eLfyKp4kR/6jsI1gyoJJWAF39pNxXiyq5GLI3Gm1pyJ4uEr/OlVPa8D29CDEbZToKpVbS748jciGo2fWz0RLWq+gndpyMmYrWt0oyyR70u8kcfvrcifp/8XhOSCL+y4apyHjneJAAuFMVnVBF4Dw3zqvczOYYdxRPJlz44BB0BjCdKq20F4E7nBIqpgMRPJJ27G1LY3qqKPK9GuzsEamRLBSAAMnKuem1AkfW7nws0RpKdOvfSMV8lT75Z7rhNdCEA3h9NAPhN9FNHO736mv1GEwBfKmurEUs6HPVee1uGPHduJuq6+Gj+64wdxI3niiDyZ3a79dpHj/mg3CJ+bBj4wWhf2JIRAbDZzCZ469ytv20SALuoGgCOn3KGdhF2VBI+pwhbZZyndjYqD/TjXtkT7JQz1gqAHdVo4IxNMOMKWoL0rrnJkB0/8iU4W5/1mkzYe+3OT1cRGBnQACuElZ/eeWukkqLcOx251vjF2qhixCYIgN2c6lErj/jWRwI9HyVL9d3qO5WguKUlvsg0svERnR/rd/qJdcHP6MCa2YWOnmgwtd6KQNIRwrt1wgfNGd24fRX/fEIv5kSOagUgtzOPyrNKABg+jmDEfu3ynkhua4uy664MkZyA/M7kE9mwQ/OPBKzMtTRySE4am7kdcpcsgjLzGu8kieauQA00+apg5at2mzqfeNWX9NrrPWCWHSWAv+NeMtnbOEY+7BqerABUf2EnO/DRiXXJjsrd7Y63+rFjmwx+dFcStJnhw3ANlt3lJ/RjnQhxdPAU1vNZ331A1iOLUTXiiaaaKfel3H43Adlac+wl/5z5ouYqAWD8qnwOianf6ZBbC/c3BKB1EgH7BJiEAEg2TzWOGpvdSQCy9sx95/cw3OrIvEa7BL4K3J/wgzXb2zW4905GQHIXuIrXqh/J5e4KRKuT6i+qN099kQr5kGSrftpj5WZ+dJcvhQDYfZv7TrxFCs0bHTyFZdYMv2rlikyw/YlGL/KMuCHHU/66tHYVNDLBF98fOdpWCYBFprRuvPOe8t5FSHh2D24DxGmfIgC5BeC+zJ0JsOqqkja7TUx6ZAOK/KTuopDEO5tdvS+UKeMCzLsS69E1CtBUKu64lxz5VIESG0bkA5g9qSckjSziFhm4q1IVnWSEHaoR7GEnxY/03FJ64nssblXldhWCcicBoIuKpU8QAPFcv1Ccb9yL77v9BL7Bc9UI5F3l7Mm4id/WMd+96k4AajLhFHeWdesCt45T0pWAOI1OEXex9SpbvgQoId4ZtFUGZUoABlyVmUcHMP0DDYk3SYYtZvumBpBCIJJK2jfPGPeO0mniQxwrYT4RI1khXwHsyPpdpfXM/d5HhIiN+Mvo+G11IZZTpWKj0RuIdv68lntsOBEguiDXEy0VVb6qMsI27635XorYNp65NbFaAQDu2bFwBol1tnUN0A89McJTgUM6gaNiwynuYsypflj/mTLUula/nL/km+aSMWD7yI2fANT3WFX8yHapt2bY6G4C8t50r/RPDypmiMiTuD5KN6sEwITAnFPo7630MUohZ69r109PqUqcvc7Vz7ETxnznfSprRwL0LzFIrtrE54EpuwAV/SM3cWLH8lSl7CPrfmvtYjd4j5zBso/cbKDoIf/Z9SXqY5MAfGTjz7VPDUwNTA1MDUwNfMkamATgS7buXNvUwNTA1MDUwNTAigYmAVhRzHx7amBqYGpgamBq4EvWwCQAX7J159qmBqYGpgamBqYGVjQwCcCKYubbUwNTA1MDUwNTA1+yBiYB+JKtO9c2NTA18FID+Q8N/6Whe/0lfuP7pSLmCR9OA5MAfDiTzwVPDUwNVA34d2f/753uXxTnv7NWDc3jL1UDkwB8qZb94Ouyi/MYzzzK0zMKnn5Gwwc3ybtcvici1uffIwEeO+uBTXc+S+NdKmcK9a3WgIePeTKrDgeX2iQAS1o58J7dg+5JUZ7LnEeuUr4HnXzEUqLHu3p4Ru1nHlN5wAxvp3pwx49+9KM3h/cjGR7hmadZ+llRQK+z13yw1VHtfrnne4qn5//zC899TyXAs989GGe296cB+OohPfoTv9nw/jTyfxIhtB40Bgfz40X82dMMvW9jVNtpAiCxAXoX9ctrHm96R9lMoEq0gLwCvPcs/o5nnEsenumuByza0e8n+OU1v2ilpHi1uTfph1wktKUu4dm1mIuRBcVdjwK2U8oPqZDB7xC0+vBasI5s7LI0b/tennd+l35GrnnvtcWmLl73dOS155P68nvlRv4JL5BlY56guXcto8/jR/Elvky+mWRGa337+mJVnsmPJdUfLRLPsDFd4vPbLHf8zgRfFk89Y2VbE+t/JYOcCO/kQ0k/2EdvfrMFcartFAGQZE0mKOzyBLGLj97lUbZ5JP82yfg1L38fBeohF64v4Zm/lSHKzmjXySl7lJ9VGCqjyxwZ6UTp0lwcMo+vJG96NXyvY0TQzgkBSV+TUwCPbPwx+tgaAx53BG1uO2Qcuf6la8f2dCM+a1Vm69i5V+M5MWMExgiIkSw/+MEP3kBKPNuBs8VTOmr1FrIENMWv2BNTH6m1tmO32mMr4x2Nf8gzNlV6jW8bIr8wmQ53VXLY8WqrenBc1+2YL9t0iRX6eaIlxskQHYgvP7aFEOhyFVLUxvQuApAAZgQMAtBXA+QY8EvCvZs5dUzPQuwyLTA/25lfwCOH3/cmb89GwZRHoe1vVEsmSz06yahaIEED3SPN+XbOuc7Z0U+eAtqr9zWzk0M0BCR75OddBaLXOj0hZekJ2pEkILu2Vkfkonu/Md5WbXoDe0CBzZThUiky8tkk3SM+cPRc/p9drHW3a271s/UauTvTAKNY1MUnG5hHQl0jiGTV+YhdN9uIvacaW5GZTCpwoxp76TW5xH5GcwNu3TkjWkiPZCa2YR2c5TuIUPURWJJbnRJtbNVbLmuFV3orQ+TJjjev6wjvrjQ+nLW6Fp3YaNVe5+fb7rWPrnTWNbEbO/FRNmE/cicHypFiUM6On9XP7yIAnDD3uFM+jaIFNsaVXdXRBFeFWTtWzjCvvvRlBkqIPJLP1STXyuH6ElnmaEe/vld7+/f6WlI40hjUmus1rhwL2DjHETlyboCplQEJEAC+cGKNuuSRnnKUQB7VOH4rl9cSjmSCwEouSUb+JkB6trDwJTnynnvLfGpUs1a2yHxXRn5/pgGdK/OKdb4iuTzVbDqyBvg3ooVQs1m6hF+TDBlgLGyDB/lML3kkWhsc1RjzZM1HRsmn9w6YPsTKlhx0svb3qwRgbaO7Nl99H9bc0SR/+MZX4V/bbNLEIruyUZufNwmARIHNAHW7J2wI40myo2CAasRAKKA3U7YDkDwQDGBEsW0AcOAAHvkESc9mTiQku1jrxIy9B6CWehJedQrHAu1Ic350217rzGtysdnZYGXr+kUpMtAFkpLbDwEySS6Ega6cy06jmrmqTqxVECMh1stPJOhqG7r1t7P6aNciVhIfEtjSzkUc9Zqvnd9r/r+2y6762XPM1meaNe65/to5CIB4u0pYz8iez1QCIGZ6NrGh802xI/mmA+qUclNdow/HAJ2f96qMiFkkGLaKY/NUm/AjXSLWxW+wtp7H3r02XmKDTti+9WO6UUljD12+qbvwyERXV+W5grtkW9px9/IhGIuU0juMW8OwEACE0mfaCv0mAZDYotB25LgaUHVRRnEOh+rZCB0n2CqtUEZk3DrvjGzWyJl019aRglaZ9doSZeSpI8c+0jhSZaIYLzKGGOgCol5/7/FZkiTBAQvdMftssV2sFMAkIbDlqCYIzKXzw4BsOx8WzF8Ah2qA8+PP7blHX8dPjNau572QATqQXEa1Ggv8wS6BnfietUaeOipvVt8hI5udTTT1WlvH9F8rMu25ks5ZGa7ql34iDx1uxfveuWCHRC+m9ST4zJNR8kkljd2SeNnFjo5sPZr5XJtc8ERcm8Mx/Oc3eoh8RvFFrshrPIsp7TrM4bZRJRpk4tewWBfrzmtx1k4XkemRh+g/ZD4bPhsZctTYccymVRdugcIfco5o5iQfeehgrckVNjz0udQ2CYBFZ1F24ACTUSpYWqDXAsS5PRRfBcWi4nRbpWsKiaySYpylXuuOY0HBMEl4kYl+OAnnPdKsGQACn3SvUwVxvSQ6u1tELD0JJzLUkY7ONHOnb9nD3yQ5DDRBZOztH+0azLsll/Oju3yfA7hIjKNbYoQdkKdRDRBnRyexx+eMOTa3YyAPQOig+gfA4EdnW70WAOIHegi0ERGDH8EQic059bOOR5KlrfVVcs12PcC83WEjOLXcz3bWW/0YiUQU4G8wuFellX4RETGRuDa+ajYmYia2QuLgdK/GN0PUYUZLvrxHb7lloVoEc/nzHvn3yMkG2eC80o18wzbRB2yxMerhM0uyxj8yLp3jveSAUwSgZadIAALAIdMskNJNYPGOe7Ys0LjVOEuUj/VIwr0cYWve9m8ArN1NkQuYjk4ybBGgNbagHv0YMceRjb2AVHu74Ckwr2uNL4WkCVz6Gt1qQkEGRzWxANQB5FYJH8ja6bU24h9iqBcBsJtFjHX2T6+VI0CLFJGn+qlj63mi0WFkYbseYJ7rZVTRS0XNCFurXqzbe3w01RJxPYIAIAF7m3jhH1kH+XoSAHLwCbZfsr+Em+RPBseSbm98Sf55pReEtpK70RWAV/Lk78nh4nmpbVYAODymxwHtMgOc9ULel2w5L0OM3uHVueuxZG+HyRFVLiy4R8DWOZaO4yB230v3jJAmRlCheIKQkA97rtWcBMySPZfWeOY9YGDO+iUdQTFyzqNyqlwFwNiu3WUcvd7S+dk5SH4VwGsVbelzo96Lv4prsZL1Z+SvYueqncReKlNHroWUqATUWELU7myxGf3oiFSvhCtpigs7f6RizediJ4k2tjGyjcTYC9usdU2GqvPIY176iEySnt23HHDEzvXae4/Jyg5IYt3c0Kcq1p0xlSpiqm3ZaUcvNljxo73r631evT1yqgKwRyDkAFPm0Bb/FAEAHAAWE+SgSnZ7HHvPGrfOMQcwrV8sixMYOWcv8NiS49Xf2ntUo3e8S/rgK++txVYCtre/AAB6r18eFStXdtZX9YeIsn0F0OhA/AAKcj/ZJLi2EnCnTCp1/IFeEFi7u56+K1Faz1bCtJOFHXWXi4z03uHutTNCL6Eg8fEXIz3ZjSN7Ixtd1YRWZWgrJiPlyLVhOr9oE3/k4sNPNz4bkr9WcdysACwtAEi6cLqSP7CPIp5yUAFl9yJgyLPFrpfWdfQ98+lYp5J/GxgcAaBi7KoDTzbkKBWaOKhgGtX4RsrrmY9/PBGor9YY+XoSAGDF5nYHrpsyHEAHGk8RwoAon4xMWT/Z3AoA5luJ6ZU+e/yd7loC0GvH+0o+sYKghcCKayXonr5Lv1sEwN+tXwyFALCZykjvMvsrfeTvcJ5eEtewzaaPv7DXaPuIJeuPvyKwNnrI7Oi5o4OMcqDbVZJqS6QRfLbqtZlArODp0m2QyLM2wproa+07R7sIAAUzMiews6b4dA4RlgFAngIPgZHFchSVCLKkVGOMIq8Gs+sKBj3EJ3NnREAYzZxPNk7Qgimwv6qDrTXl3inwMpeA6P3dkK35/U0A8omlXj8beyFIvcCVvoFjdv6OgcVTvkAX4kGZNgkl62Yrvkq2p2K32sOx3RNZIyOZJeaRzfVDPKqOAGcwZOT8uTYZKnDTAX/KhiPn3TFGFvPXb+SLFf4kKY9uNpSwQyzly8RINR+5e5ctGSM8+b5b/NPoVog4giG9kr+YhJ3ZXB7FULFNZ2y3hvebBIAAFkXhhMD6LDYssCrAsWB5AkQQlFoeknTsypXmMUSJ2musHhhf+UYvh6xf8lN1QAIo287O3/VeTnA2wNgugB+7sZH1j7hXFoAKcAtYegIUdzB0fmdd7rXzQ0HK3ksdQXSOHh9mv7UgOWIDIJFruo/NDvqrBEZHPhtgsxbAS0bkgS75MQDa03ItnxG//FSPbN7np867wz57ZHYOPblNUb9hvnb/cu8195xHrzY1tTIC8/j1XQ3AA+t0OHUU9K/KKo50+kji4TP0Avf5Y4842ZKTzpELmF6/QyQeeldjtuTwN2s1J8wQz/WLfo7FEcImlnrFkRhAJJa+nAsL9Ffkx9/lJToj31rbJAAWHsCoY3WM+j6y8Aro1gS58j7FV8BQkeCwDNaWaMjr74DvTJPQ6polV3Ngar0c4Ixc7WeAKECrsjoWxL12unVOQYv0IF/RMUe9Y5cQORA+dgAaNVBbHSy9lmR62M+uKde3/r2N7oANIKEza7HTQthSYXNdMbanIR3it5K/yGVElN5ro8Maz8B3dKvzRU/i585WAd/cXp/FqbNyp9qBfEQPRhgH97eSydk528/BEv4plqsM4iIEpf3MqNewEhmqctRjCdY5PfOea8GButGsczp+has2o87LpnRNP6sEgAAuIJFiOQDJroRxGKGWyapwzuvdgKMu+QJAjqgDep0sa0BHNgCiEiApAkZrONokB4ZunRLIk62nAxyVrZ4PMDBnO9pqF8d25XQ4onFIOmYLNrkDKLIOawIYKRG2697z2q6Lz19ttaogebOFRBz/EEO6SomduQoFUsY2OuKS3srt2nv0iki0u5VcC6jYVe6NAbHOtuQl96jm2uwo0YjlNp7FnThm5ySpq7IkmdTqIT0F28T1XU3sxEZ8kc9sNfYjH+ICnyVsJPZKfAff+CP9J54Q0Vc7TrLy8VS8Mp4h1XSRuaOTK+va0uPW38QQ8l0JOHnYR4zpexq9smf6q8/QHQxlA5gUf1fBgyl1c2OXz/5p9C3P8QWyBnfy93b8BgEAMJX91Yvnw7UCQFBMVYBGMEJxmiyYQK8EybUzWrhrulacYM/ofIxtj8NmrlcjQwPqOr91792Nvbp+j78Dx2q3KiunARh7Qf+oPEhHJRySxZ1N0qjl7br2I8f8pkcDEEfmXTqXf4m9Vwy+ysu+Eim/rNcEJGJJsmh9QFymB2hcIySb79RrAadeTVwhQfX6e4+vJgTJn89Kdu2cMHApAftMz+Z6dpA1dthOAmwTJzzU6QtRbGWOjfcQxHYNsJIexFG9Lp+pjbxsluSeRKPqpwf/6zWs70irRMh1EL4lWxy55tFzVaBqjqvrQRaXWmIoIz2xq8429RpLn6/v1SoiHb9qNqFi1rl6COwePPuMAMQhGZ7AgIwBtIADNhPlKFNxWE4H9DEmkwMNCZMA6a1Dby2KHK7J2ckQNqgaYU6dYs0t8VXH44h2LOTs1VzLnNWIwHkr0UVfANfnl3oP+ehKArazi92qnAKbXcihO793AwiVIN193xLpi9Nbu4ALCUVE6UV3zD/8Ta96cixBWstVHWHffLXK1M5VX5Mlfs2ndUENbIDzXjLLvuKtJYLiSByzi12jWNSBVEDDyEfN5dzIg4hUWXsRALKak2+2iafO1x7nuwxnfIxdrV8HsjAElgVf4Ag/lnCWdE5fPgvkezRxq6rDL7PLpA+xLNlXzEB42JbMdReYHSr/Vn31uaONLsVFJXvs7ppVBsewFSnVYTR5fVavxIRNrWsvUQs+wdXYwzXItmSLrTUmCWfcOnfpb+xvPfE9ctA7fYjJ+FAdyVhjSUK2fh0W5Fpi81UTY8EO13zV2CF2cpx42qP7NwIgMDi3xSWZElyQcFJCMAQ2xzFMgKn5W03sFMIxfLYmTMp07t5GmVEYxZNLp1TX0Rk3xwAUMKS8uXeeV+dZj6DilJHHCDTisLkGPTBcOhDVyVQ/6xgg059rXG1shCQFGDMXp5NE4hhX59n6PEfLvEa+dFcDSHVuuqBfdqMbXeMrgiNEFdCnasB/AsCuRWdXmvXzVfMhA4BVFzfp5ieLDrTjy1fmJXcSQtWJ2Ak48UmkGZi1u9+aAOrn41uISY33s7KKXXFRSWOd79UxeY4SABgHv8RuNjB1HnpjGySQPfT4D0zj4+QVt/R5tbE3eaoMjuOTjhHZdvcIn8lJFpVXetDp9Ezjp60MXrM1HI/vSu6tLPmcc+gUmYlPuy5820OmnWMtIa5yDD27hnVlM7U1xr+RJLiXzs+Othaz6RqewBprhC/p8pOehB2dtCMcoNM9jW+QX3xGj1ufoyPrt/bMaw17fOKNAJjQIivbJyywsNBqeGBJEVstSTBM8SighgCYd63845oVxAQuR9rjcFuy179Zh0RaGRwFSzIcVqd0ncIDLksAE8MYBQnd9GiuVa8dcBBAexyghwz0VAkfn2FDiTAysBdC1Ta+l+DN2J6z9Zp/VNC0fsAlyen8GGALQAHFf6u+HPs7MBZ0zl+Sc0uGrb+5VhJKHY/GxNYc+ZtrbgF1u+49r5FfIKT30otr7ZnbOfyKXdjUyK/F21H9OX/vnHCHHvlLS4rgDGJ3tUmOEjfM1a1NAjSvLqnAF/PpsUHGo+tfkxeGvtKL+LLT1+kfGUqHY/xavJ9trpWNJ1ngq0QrJnVzvuoScIvTrgkDjjafeaWTV3+XD6IjIyzcS55hIhnkEfbhG96rzWvYZ6wbVMf8au/m8o0AEM6CaqLPAu3eOSYDcPzsqKowvY9DAMggCOIIvHn6eQAAIABJREFUIRTeEyAMrGNnPRN/XQ9ZrLvuEKObIyMAY0yOIXhbg9Y5jxzTQ5UjwGU+NkslIiMA2escR+RgA2Adm/Abslkv+wEPSTiAZgybBoCc3UhHRxp/XPLbqpOtY8kfSUnfG6RHZLzrXDHAX3X2ECf0vrT+JBk2Qv6BDEDRQ8SMvX3F9dqk2srHh/iBuEMu2Ua8xEbGow15ScWDrwHKSshsagC1983fyiTB+FsltUdlaM+nC1igWxPfi/3MU3e87Wd7vTZ37A1f+QwSrEtC8IKe6F8fgbP02ur76GsYwEYwxhqSq874inVad70NUOVBUOCrvFh9qB5fiRt+QH76jy+KYzGa7rU4Er96bHh03jcCwAnqAutxLTVxyhEO0DozUI8MkgplG8MC87eMFD+ykadll5l772hXzNHt2Hu2NYAnF6Dz99ol4zNB8UpmidQa626cDBKNxB5iIHjS7dbb8zn1kQYw99pg6bzRvnNkLT3PBQhAJGXVdu30DizTEcQknJ5ytNeSiFtZll5n19MLb8wLR8wF2K23NvMAfvGxJI/3fKaXPHXu93IseaiuBGeN1jt6zTYJazo/8j6fljT5vZx2pdGFxLo0P/wSNzYwI5q5EdK9xEiMn21vBMCHsQ5gSIHYt1HQ3AEKS8KThWNQdjWCpIEMUD75RjtndMMYEtmr3WaYKACm03RJt6cu7YwwdjJV/dRjAbHUMWWJNux+Sf9H35OIlZ4441KZvcrlGDFALnWfC9Ccsaddq91bO8er12z0EVp2B3Vsd5h8847GZ7fsIt6dw797t/jYVhzmnLWxt0zv9XpbOuots83DK1zlM3BfbkLkcmsWlvEXm7SrSb9dFx+oMZNjmH6XfhAyuTg4b0RM5KMetyu/JgAWK+iUZrFv49FyQqvAK6/JgoFarEWncwJJRonzLvnMQx8pu6QsU4GMI+rKjDpnlPTTr+hi6bOuL4HTR5Vj77GAw5QFT4/GXlir8pukLsFvdTpiR10Cv9KQD9dADlNdiL+sjUhKb8C4soaRn5Xs2ad25PmJhuxt+Si/ALRknu1jaAB5F7v5AuvS6O+wIrcokIBUhvmLWB7h066r19gZUUFdszR8lntUV2GZHGRj7D2b4Ks58GsCsCbAfP9zDXAEIIaJplKibOg9SQhw3QlemC/Clt10Eh4y0gJtqidIFfaoCqAc2rtxSnJt9Y+SfHvr9tt+PTHCL1v/5JPKqkjtbB9LA/CC3bc6kj9bfw1MAtBfp49cEftFPFKmQkjqvTwkxQ4dgVHCUvFJgn5E4Dnph9WAsib/dE+dj9rV3bmr+rCKnwufGmg0MAlAo5D5cmpgamBqYGpgauAjaGASgI9g5bnGqYGpgamBqYGpgUYDkwA0CpkvpwamBqYGpgamBj6CBiYB+AhWnmucGpgamBqYGpgaaDQwCUCjkPlyamBqYGpgamBq4CNoYBKAj2DlucapgamBqYGpgamBRgOTADQKmS+nBqYGpgamBqYGPoIGJgH4CFaea5wamBqYGpgamBpoNDAJQKOQ+XJqYGpgamBqYGrgI2jgW0cAPMnOM+w9QcwPIngesieL9Xqm/Ucw+lzjx9SApz963KqnQvoBFrHjkdCexDcfzfwxfeLVqv0om2f1e+y559HXDn89VXS25zTg6a7yYX7VUyx7nS6u/crlWttFAFwgXaL1gx1+TGWpeyb9qAawvvOd77z19jn3nmvv0bZbiz0iF6fX8/vLnlXuF6j8AIUfY9D9SlPtV3/U5oh89Vzz+g0AP//ref/pnreOHFlHnrPtUcESwWz3aoBfsgU/1Wvs+GEmgXr1hz2WVuSafJcvtM/frzHkh1b4xmhAhx/Ayg9F5Qdd+CvfFb8fuSFldME/EsN+7Athu6vxlzxS3E+X52e8q6/UY78lgkR+ibbz+wNyHYz36OpeuaWHLeVCPpJfe602yXtGOcsa1n4oaZMAAAQJvV58z7HPUJpE0zPZcMxX8wO7K4bCnIDhq3le/V3wkKMnoGLjAi7AmfGVLO3fAc2X0vgZe9mN5HcQ1kbg1tMfX+lQ0Pn1rlb/r14jl2zU4/n4Eqse0uq6dg0Ih05GBBI5QCLpbkRzXcn/1dpHzC+m/e4AIFybnw9JtHRyZ4MPcGJLNjKL/dE/iCM2xNOajpbe98t9yKwNxtnGB9lHRyT4qK7Ku/TLq0ty5D16hL30dbVJnrluRu+JJ2ReX0usV+duPw8L6EOMSvyRZ+8oBpbaJgHAeiSZsMC9xvAZgEPoHiAWwQXKq9+NRgCu/Bofoypz7VVsK09+ApexgElPAsCISfp13CtrzvNTkld0FHtIqAJgTx+VeAEWe/G3VG2WRskHgOo9fTK6aEdzuF3FH8PIo/+lkR/pgtuOCoj18B0lQV1y0+lBkmV/3RxeIwB+SrkHcLa68FqCAPBLa6/vXUkk7bzWxwb8XQeeda4c07sSt12V+e/6rXfy8kcETFIhD/zgAxKZLsF6n91GVxiXCECtVNXj6C4EQMydbewUG1lnjlVfzZm59owqJuzoOlfbkr+oztiEic8QDXlJh4ejmmvb5PATMlRdBF+MYhjmVL3J22v22SQAS7v/OGYdgUebCCkPmDBuzwZEchvAvC0b4gCC/mxDempSyc6JUwVEM4YF/vjHP35zBjqJYTBF7/fc0TBwrl9HDhknqO9vHdObxL0nGQIGDk6vdo86hwKa5t7TEaIRAYIUsbkOPLfWnL8JJDuMq81uZU1/fJ9/rMlE/+JLwEauOqoc9IidNfmydjaxDnMDip4JuM4hjqw1CSPJBKDRQzYXfIlMPXwl+GUOPUleLOvxG2Pd7YnvNcDMmnqMNgiIfOxOPvhTKzR81d+zqeox79o1xLm1SyC6Y6Sj7WSMzBkl67M2g5O5zt5RvlmLLdfgR1cJtPh1uyoJ1TXZoSbXyCsXZdO7pt8r78MCc5lH59uqVnJVKiZG+UbMw9vIRldr/rxJABg1F8nISTllutcJ7JxjHEUABI3rA4yASJ2XXFd2m5xGssMgw+yMexoHiCyMxHEES6/merl+HWPsNYJQz63HnGUPWbJ+zmUniX1mV1Kvted4z1xndIUUYuOSZgJkaeQzyGOSzRU/ISfgWiNRdCaxJgm1+mFLctvtL+lT7F2Vb48u+QBwABIAridhzfzAC1BZM9Bmp3TxSg8h8nCDn9Dr1Zbkmh1lW93I+8acy06IPD8f3ez+66ZB4m8b3ZCJ7uhwdCNTNjZrc0n0rT/z11dks70e/9Yl2fZ6r16LmXYn3H6mB4FGfuiDfyCNcHANh80vPx3VQ6uXpdfwROxYs46csdXaGvl09AHvTt0CEIhxBiOgSNLwt3SBVZMfQsCoFNFbGRTB2RKwAfMsVpBcAc44ZYB97xqcXx3DjoLSGalXQyYq28sxpzOXJIgVOq6yRDftiOTsAXxrkBz0pUoP0GZvyax2Mvhb5pUwRzRBoJPTepa6QKYX+uGf+hU/sQ6+uFYudm1kko2QZCSNbrymB8RAJ0clbkgtOdtkNUJvrkm2JGM6urprWpKTLthGl+RybLROPX5CH3CFbq82BMyaxIferi1+Y76QaL6qWkCe0Q22iFlxxS9a+cyPdJMJrgH10U1yp/st/dcdOzzQ5YezjQ6CEe1o3f6us0mOzQe/JELd52oceb2WHI/IySZ0wZf4UI5VynRzy0HJQ/HvI3PsOVcMVVyztqXcxN/5crvxWNuIblYA9ghGCAEM3GI892Q57qhGGRKuOdsyEHZ0F3haH4cQmIC0OiBDrCWHs3pZM2Kul/mMLSGJbTKmXMV+r5q11M+xbcDTPDrgqF3AIAXALZ/lmE81gUwWxMzaAckdja/qwAPII656ACO6sRMk3x0gn3Xb0ZgfsEqCTzQ+XfXBZ+LHd8lDD3U3mRL8HfOLP/HTNu9JcNnoJLba8+5+jZzWipVEo0pxJdlaW/BEXLolA0tdm18mhugkx+26+XGVy+srMrXXb1/HbrAkt6SNezdV7fWuvqZDumoTP8xlH3pbapcIgODFBhksJTyKH+msFmJeYIqpm692YCb5jG7YGKBod9qS413Jpa5RgrNuDpDeBkT0hKws7Tbq9dpjDr+HLPicawPUGhhkkQSfaqlQ2WHaed7VBKXKmV12m/RjD4QZuN2R+JBjMVu/6KrqwGcBxV02As7ipxJE+li7VznCXnZv2WHHFsZUs5YS8wg56jXNyQZujUQmFc+nG2whB3yNXPz5ys5/bU3ww6Zjqwrhs0nCfDcy1XEUAeA38l3NeeZFJNcS7dpae7wvpuFr/R4Lefb4zSkCIEirotvjUUAGMNq52tcCZ3STQNp58xpDJuedLbuEyLA1qpogaL1bbK4stjT/q+pFb3nq9SRfMqkWjQCsOlc9lvzbWybksLsRnPxoFEhVORyzSy1zL9ko740mAS1pzrxGIMZX7iBpysuSvXnXyDJSdFdb00sSyxPJRZJdw13fsxkRT+bkr0uxIdmZM9W86jv1WB7Yu2E5Yt+WMPJXdrsL34Kz2VTUypX155bMXnleEgCMlCF0jEwXFEu7GYxIMoqQRxS759w1R6yGd4/36O52z9z1HLv/Omc9VsKlH3oaWQmp8qwBR5WLvbB3YDKCANC5NSNAdd4cY83xn+hllJ9EN5mHfiR/vqFEd1dDANpdAn0gAIDkTgJgR8UGQNuOXyUk9/6Nqkbe4ycjb6EB5eqvZFFBTAKmL9U9MTa6iVPxav2IADncigm20ZW/w77RmMJXQ1QTMxmRdr4ymphVfbOTNZtXwl0ismwm3ns3OQcB4APJPcZU03KbgL+2cvEnvszXRxAm+Bm7iGN+4z3xdUeLPqyPv7RVcK/h3F55NgkAh1MuFpS1RwHtiHUB+VFtrdRT5SDn3sWfldPurc65dMw5nQfMRjDRyO7aHHFJhvoexxCso0AE46zfA6lzO2YX4KrzE2VogT5SNwA+thIsowlHbJIReC7ZRoKx/pFrjwwZgSlfVPqnE7EEINOBK1CRBOlqBHiSpa0QAU/lZfPyE/riK/RzV+OH1pvdJaJc7WaXRXcj2xpxrnEkdu5qMDSxU2Wox6MIADvoKjR1vj3HiDXiMiq2Ksaxx8h819oaSUSezbumi6MVmVUCQIHYr8Csyd/x0uSYmCRAyFENiEmsS/PnPSWZ0QRA+SWllszbjvTEWBzG+aP0ArjaL0K2snhNL5jh3tLQURtyvLUdjPklvfiRKhG9+AxGO6IBdff92cDcowF8aQ1kAKLWq9fYkYgl3JG77SoToJLkJWAJV0/yN2a3B3QlPO+NaCow8U9AJlbpqd6e4M9Ior+Nipu6NnNYb3SEOOr5foLYGb25QRajF+TDxot/8OFgDewbReCjj+hAIq2VmshWRwTgaMLJPGsjPYgZ3U6eLmqv87fHdv/8O369NseV9yspyi1FNhlFOKqs5oAbIcvt+r1mN/Lsjd9VAuAiSxNsvTcquVQlAEzBqAOr9MilbDf6HjxDhKWmjIgscdjIUUcBzDD6iIZgRA8Za7KpsnCgEaxVQrGLAeS6Haae18CUbLnnSiYAAugkgN6t7qgAJ58ALrpkp9/RJJeU7SRgRKAGMNmA6B0Asme9ki7AHSUPW5tDr8mMnvJFTb6BHCCsowjiHl2wl5jOl1mRVvKMIiXRi41OYsJcyGtimI5GygBLqh3MK9EhI+TS47+wVpz1bO3cWferEbEcjfvWSfcwP/Igh2JaPqr+3FMnuZaYhKdwVEU3PbIYkXf22WuXVQJgUkrl9C6mc47aWwEId0ejiLZLbFGEgLkL4FNWNgpWSa+yxMiUca9hjuqx1QcAWQumEbvh6CHs24gUmCsOST+6hMdXECN6GXFf3tzIheA0BxDTEyBkUrFACO5s/BIBs37gER1INnTzdCOHnRQZ+dSdDalOnCCH+ghfPbImgM9f4SDZkBJxdWfjF5ItIuL2hGQ8ym+RELdfxA0c4wfthoEO6GJEBcAOXoLjg+YQr0iYeJFk4x/tSCd3bEBjd7LEJyKLDd7enXeuc3TM5gW+p7NXZMjIdnvid5MAEG5rQRyT0jOpXfBTLTIYKSQM+il5ACmA16tsktJdDUgAjjq/Y3basmsP+QRyvnSImbfJDai4/5vdxAjCZo3pgA155Ru1jKbM+UQjFx/Nl4oErP50s8PjM6297pBrqepIlqdj2drFkg1PYukOfdQ5VIpgiZiSDBHcUS0xY1xqIdUIwIgNTZ3fcTYX2WTxzWx4+AwSjdyrLt7pt2RQDTB3iDzCOmJDs2SH+h6/rFiPjHQhAHWS9piyAX2C4ikCwEkig5FRRiSUdv1br4EWFhsmG/nuJACCg3Mq6WZ+Y74AtiX/1b8BBoAlwUkqrTMiAOTIfcbRIA/AEZGUOFMxQkCeauJHzLCJXZVdxdPNLhywt/a6Qy4+Uf00x6N9Y8/axFJ8lVx3N4m/EoBRFYBX6+IXownAKxnq3/kGf9VV9O7GfXjidlVwHqb1/l5EXe/aMZ+E9YkZm4k1Alev8bICUE9uj7EdTCOTWvwTrZa6sfSngqOuHbgrEbXfC7iTJAlWjlkJACC5Qz/ASrfjXmpks4tR7uM/d4I8MFcRABq+m/BUowMxY/30NGI3dXRtqUiQ7YkWfQRT+NDdoL62bjaKXErOdzZx63s9d1QAttYlsUQH4ueJZNfKZ1MVmfhvKgbteaNeixWV8JAAstzZxIc58++rjk9XACxmT8C5N8YZqvJ7Jjcy2Dma51WrMmCnez7z6pprf3ftPddHADDSfJM4Dqo6cVezm1MWeoIACAYAYVcr2db7iJK9WyQSXr4UeCcBoBfA5Z4qAvJEw87pIASanpR2ezdz7GniHjEKmX6KAISAJF6Uvvfg0Z41Xj2HvwZk7yYAiacnCQCf4KexjfhWAX66pZpHricIAKwPAcgXRu+MH5VNa89tCMdy8x4Zvq4AAGA7QyAkoW4BMjCv5bA4RC8CIODjaHbQQMx7KWlQOPkoXRUiCU5wjKpC0I0dgKS+5fRhn0pDAkSPfow1Ee4JHOv2GddLl8DogIH1zGl0roQrwfkCTZ3bsXLV3qSwR761cwBWggFo8ikyWYNjQUs+TgvkreeOZh7BwVfoY8vPj8jDThKoJKHHJrkGO/GhdAmEL8VGXvtcrxa/UREDEGIn8VPn8J5zxX12MGtVm/q5s8d8D7FfamSp99nZ5+5EuyRX3hN3sdedXwSs37OyoeAnfO1K4/c2MmtYED/NyCfETXwEcYb3e5LMmpzBrzqunbv2Pt+FH8E5hLqNvbXPXnkfzupiy6aOPuQhtxTlRnKdaWwNJ8WI66+1xLPvG7Q5hi72xvAbAeAM7kHWcrVE6uJtTxKMwo1A3M6bs/RolEeeLIxC7RQZFyD4m9fKg5FDecz8e3bnR2VkCGCdudbWqaSNgSIv7b/hAYwzOzyOwAaZ2wiEXC9dIApOXWI1d0hRPsdGkh7dbTnWUd2snU9mctYvpkSWOpJzi1CtXf/s++SKTMhQjwbAxEuNHyQsHUnlE8BbN2/Vgc/1JkBiWqdf9wbNL3ZTwSIbMsaHagWND/WWpepYDFuvBCbOA9aOzR29OEe83OGrVb6tYwQgyYbOejbrX0qmsCb33OmGHZfOOyKLdZAfptEz3217fNUYshzb8Kck7SPz1nN9XlzAI8kznV++avwTZuj0EbmMsDA+9eo6R//OF8UMjJd/9IrzyJEccNZnXdsasimC5chFNhUZxbF1i906v3wpP7Kv2N/T3ggAUDBxyluOGTn3ceuYxGIyjkkZPr93wj1COYcjUABQqF9uINtSF0CjmvUJlMyL5SX5ki+93b3k/CTdpR3YK5kRgLoDyDWPjmzFMa7uHF7JW/9Ob9nxAXP2TKcTwYpB39H4J5ChBwlYJ1+vJij5iOBlm8yRHVNrLyQEsPKdnnK060l50PxiNsCOnIVg+xt78LOz4NXOu/Y6/zpFDgnIvHqSHL14DQxHAXkrm2QEuGHIVoySKeTRcY+WREovNjohja4P5OmJfeAuf+mBs2Kx9cel19ZaOxkQuB4YAhfqBi7zI1h0UTuyArt0vsFvkpPyuWByzzxgJx454Jb4jv0zL3nlAvF/VS9iNQQz14cn4rT25OCcgwQgimsb0y0//YwA5IJ7R0Fr4SOaxMfQnHXJUVoZR8iQawJFstQ5KR2IBuiNrWFy/hXW3osAICcSTc8AiX7WxpSpjNi+QE6nE+9dDZq1udv3AScwlZABqb4F9u3nX73G1AF4JdGx/9pIlqtl1Fdy0e/a/PV95EgSHLn7JyuwzLzAlA5agk8WlZq7miQsuRi3mqQc0oQs9Wj0rWfzYA5rt5OTDDIfncGbHs2mLTY4OvLXHk2yWptbDNXuPPax43e8hLNiG5nu2eipJRqtzPzXvD38AdbDpXaOV6+RBGT5lf8u6eaNAABCBgHIa8mW0gWqLhmO3LW0gpKLMXSJtlUIxY1u2CDC0zLAVpa8pidgJzFcAVV6Zhvlplx7zyggJCRz90x0o/U84vrWL1DpjV3W7ntemdsc+loAB7T48p3Ex5okdoSrkljJBXmP3FfWfuSz5tzy3x5AekQe56ZKAkgRVJuOtoulKvfROdbObwlAnSPHdr2Iey/yDi/hQ7DM2tgF6dAleT0VmIxrazjzvrVYV9Z4ZayynpFl6TMhG61cSBgMkYvo6gq2L83rPYRCrJqrnT+v/V015ur8XxMAOwXMU5ILWJoME/OawyiDCBCLH10qrMoBCgHOABkF6OQ9U/qo199zTDe5f0knKgAcIQaJrhhNT1Bh9GeYWWSyc0UCOLl563z1mCxkAuy60lUcBMh/tEbndBf9sQmAVyocUXUwn94SNbGjx1/5kX4ngbZeAC9ucwsGORVXdxMA8VD9Nsd8G3mSjEcknC3/R5CSEOkn96ONwFiHM2RlS4mzV4vfpAIQfRjt/vktMsKPr4J9ZEaA4WjK6XCCXWq34RmJG9ZiXcrqa5vOqou1Yz4TWXvK6347PBXPYpecOp3p8hF99bJJbGMNNo1iFYYHN9qRza5uLs35RgAyuRFYuA/FOByfcr2+E7CqPO/tmB7oBFAB0LDlEBRgMqqUyuECSO1IHh0Z0nsGw3uzwR55+KxqkcQiiAUT/Y3Y/Vd5ALWdAYDlG7mnW8/56MfVdwEdPYmpJzHG3DAPsLJdusQvQSH0/saePTccITvAvOqFD/FXWPKltqwdIUZQdck1yTYj0q7zlZxn9MXFEWSevvljrSyL6y+xfYMAfImLnGv6eBpAgBA0wIoY9WbqH0+jH3PFKp2S/p0Vz4+p6f9btVsDkvpS/8h6GbX2SQBGaXZed2pgamBqYGpgauAda2ASgHdsnCna1MDUwNTA1MDUwCgNTAIwSrPzulMDUwNTA1MDUwPvWAOTALxj40zRpgamBqYGpgamBkZpYBKAUZqd150amBqYGpgamBp4xxqYBOAdG2eKNjUwNTA1MDUwNTBKA5MAjNLsvO7UwNTA1MDUwNTAO9bAhyAAeXiE/+e9q3mwiId5eIb1bFMDUwNTA1MDUwPvTQPdCYAHOHiak6c29Xx85VnFeaKTx0h6IpzjV80DZPSrD46xfvN6hOOop1W9Wsv8+zc14EmAnrjmkdaeDlif9vXNs8+/42lxR54e5olvHlj0kZ7g6OE6ngLIFkj6VqMXceQzHp/7EZt1w5W7HyW9R9f5pT7x9F7wjp483ZF/2Yx9xObplR5pbYQxLSZ1JwAmkfie+PW5JQMD+xAAz3d+1fJ4yqsEIL965hnjPR8d+kr++fdtDQAov5XAJ3QgMaItBdvWPJK/R79+pCaZ50d2kLFXDXlTWfuoBAAmwVVkafQjrV/Zov27p26KJ+N7qXp6PHt+w8FG7CM2/uJ3YjwW3Q8ctY/bfiMAQJCyejgVpmVSrMtkvX7B6ozxyBKgJ9OeRMyBk7w9a/psQzYy96vdzdk59nyODSQjDsC+T9qDvKN2uJICsvfqka0eDRy7GCWg3u2o7QFmfliK74WE9pZr7/VSNaMfO4feTSLLM99jCz/UtNUQaef68Rc27IFVW/Ot/a39sSdxtQdX1q4XW4vRrSaOkVc/DvTk+lsZyW2XzT6Itfi7unlq5zjzumI/TO95+xeGpbeywSHdrju+zV53N/LJwZGBPJGtyvKVE/0Clh9b6LEbAmD59bNRtwDILJEZl5r3dSBDAYJ2bzLnLH4IJL+8J3ljTkcb4IzylTnXZD163Xo+gwrALfBAfPyYiR3WkgPU6/U8DrDlmkAybJy8LYCT7UzzOQDEZvT9KmG1BIBMPRv/id2Ne8ifkml+RtjPBksqCPmdLfYKcIphoD4CzOFCdIT46K9uxZDHZ8iEoPQsM7sWO8G/tkRabaBKIwFHdhghrq7oCPmDTcB6q5HRufRwFwF4tVkIkYs+6OfpRkewIPEkHnu3VK0QnhZ73aJJ3qEXvt2TfOxdC58yP2INT9baVwDUiRZ1JtHVC0tyAkS55RUQ188dOSYvR2Nk8i4Fn2QDJOIE2LO+p4UA+CnOODYC8SoYcm06IFM+a5RkXu1M8/m9owSqZOynSeliqQENIPWd73xn1/cflq5x9j1ASuexT4JijYidLX/TQ9U1MpBktiR7SwB6VwBCcsgk+PeSajETnxO0a3paWlOP99gJmFU7jSIhlQBIfGz2igDmt+vpF8j3jKdU/CTXLQyspJ59bZoQpitNtQipeeWHIQB3VgBsDNcaGyJtiT122SJPa9fp+T6M5k/ih1wSX++NlzWLa9f3c8Et6aGzeotRPD2hFzFFRjlw6/bHWwXArqMHARCYQMyiCTCiCXwsi7yShsBoG8al5GHnm+S9N4EDbNePE1GiAG2ZXjtnXjO2xOdz6X7WsrcT0DUdc/LWCSOL962DTe5moZKHJBa9BWTXZD1LANi/2orttlpLAABXj0YOa1NxYXfJBBjtJZ4hAMiajtSFPPV3rbMPAAAgAElEQVSQL9dwTaSJP9SkS06VKkmN/OKAj41olbRJqvS2BdR0i8jqdAoDquxXZQTa1gwH13aM5mOTxLQkIP7Wzt8rkzjhK/pWk3jY5C4CYBPFlxEic7eNTfhQ9CHutmzYfv7Ma/4YeVr78wlyJv6MYr1nM6dKUYi65FpxXQzJFf6u8yvnj9CLfMZG/K9e37EYj68axfVa+4ohGVFC3btbWbtYvnAHzNeAfu2ze9+v4IF9LzF2C45jHt3FUCxnUtrLNYzWZk2t47Vy+2yV0WeB3KvPtdd59VqFAyBu7RyiB0y1Ouqra1/9e5KsxAwkzU3OraqQ9Zxp/PcKAdjS3155BB0ARDjZm13EwJEEGgIQn0NMrK13Ew+SvB11rg8w4u/WcNYWe2SlK2u1Tslsj45yP9V4NJ7JJFGJybbZfeeWh10bcrGU7HzO++SlJz4ND8T01bjO/JLJVoPN1k5O8bW0nq3P7/2b67JJiKDNy1I1SizHLojTKLyvciNdYl3MtusXL2RmIxvQnvKwsWRLD2Kb75KBD9SW/OfvNp4IwQgSL8fYUIXs1Hi14WIXfqLD3i0ZvvKBLGgpmdYFvjqOAjgQhY1olBoGJsG1pAXAcE5r0pecd49cSZ65Ttjcq0pCCEQ+Z9xzH3iPTPUcYODaW+UdQOUcoH4nAQh45PYE8PTe1i6/OnFd56tjSSxBaa3WvNVCTpyr96gAAIiAYa7L//nq3gZQ6jq8PvL5PfOEqFQZfQ6gpMRuJ9qC655r7z2HrjI/ANuDEyEMYnLLh9ZkWNsoAOn4qp0brFjTOZwht7iDb712lyEA8GWrmV+MAHV4MspGEic9p8xN90uki950yR8e90y4a3qI36h6tn6TvyEsdLpmx7Vrb70P0+20+UvmQQTpKU1sIZD1797Tezd4mng1n3nTkF0kKEQp76+NX1kEIwLCNpmufWjt/dw/BCj6iJadioWTt01sCI0giSFeJew1GbGmXMNoF+26KWmvfc66OWf97AgCkOS+RQBS2iT7WT2srXPtfSBl7QKRLgADsOSUa7sr1zpbShXoNXHyQUGwtt4Qp9hHor3SALH1iaFc0+ut7yEszcevw+hznavx2M7Dd4FnbjNIxvTELpnzLBFr51p7XeOXrbZ2J65Bv4lntj4D7EtALCar30gadNECttd8htyINKKnX90sRT9IB92/IgBw2gZLpYB/jSAAcEvcppIlJ9B3i7Fkz20L8igztwk56+s1JrdEV1WmbDzFoM0fgvbKr/bKBb/4CgyNv9CR2NHTnEdvyJBze82f62ekB5iVeDXaBAVv+Eb+xqdfta9cjDEllC2AfnUhwJFSbKucV5/d+/cKVIxeDUDhHBaTjwLOgEWVxfVyrYwtQEbxAEGQAnHJLucbRxCAJDIyVj1U+ZEDTJ7DapG1ntPrmOOZx3oFAIBik+qQKTn3mtN1Qjiib8zY/HVHQlcpi2Vnk/O3CNQrOSUMfugauZ4YuNJyHeOZ3e7S3PxDgslut14784kbGDDCRmRCyqzHfBK613viM9U8cbWUyJfW++o91wwJAuptTNfPt/4lxrfOr5/dc7y3AiDJAn8Ejj/3JADWJHbhVvTivbUmtuI35BLnLXFa++yR9/liMMV8fEAO4DfmMy/9RWY79F5yuE58L2s1mqPiLXlgsBzq7/Txqgp5RAf13EqeYVyLczZc0RddVZJUr1OPvwJegl9AHtm1Uz5HtFiOk7L82ZJ7Fao95gjZVVO0+x8tWanKURLhGGS80gRBNb5jiUST8HUG1zHh9ty87gXkdS2CkB4AmLkZuzV4TUyInh3lHtCt8+w5ds3KSukfSAKsJB2JuQaOALMjJdOV3UO1e/R9ZHxV0dlav3hp53Jf+UqrlYRexDE7JLIiAr6vwBZ8KOCJqI1scCLkHGCy/xZY8wlxld3/FR/JuqzX9YJV8GurykK+al/ksTdBopfYJXIujWwonvSejR9IFlmnBAfjrJ1/pyO76c6P3+zZZR6Vl0x28W1sVzyHvXAmu3K2bXPC0Xlzfks8xKTerpU+Ui2hv/bvuV6PUYU0NjKKYTk7jT7qZotv72lvBIBBKbAlAAyhA3idYnSgaUJOyUg+H0X0BhLzW3wermIeINYCLceNgshlPT57pUXpAQzXl1RzD5DBOaG+RQB6AXldCxswsh0BAsYeup1BepIvuYEpEOW0vZvABBoJRkDPQdmJfOb3NwEa/+G85Eey2Opsq3aP/TOaMzLlvXa8AhriJUDIR/QalHvXlGRoTBWNnHRaQW/v9ep5YkDSiJz0JenwBX5pHjHFd1Ihaolkvd6ZY2uoX1oyf9a8dj3yiePEFb+50swHm0IAkBBxvEUs2Lf6C3/uqRsyWaM5XLs2dguppz8YA3vEcc9Gr7ViaQdpLn4M/9KDL8bENLlHbPjEJFvRSfQPyxIL9AY7bDrEt7+x41UfiV75RcXO4Ai/TeWFDOYTO4ktukoMRdZc8+pYK1F2/l5HFteWD3M7ic685j/0suXjX1GyRQAbCQ0jTrdgZRBOoQN2XRBxRhPqdrgxVi8jUKBrtbtwLFwnAwAjK2eIo5CjZ5BaH/DK9c+MwKYlV1cdIp8XqAKWk7IjwETIOAlZ/Y38veySeduRkwkAfsRHyFJ1hUEDDj0BY5Q0z5JGZIZu6zxHj7eCo11j+xopzny5JxriCcBr55OAhb1qpzNxlp7rZbxCUMhb40cVRhyLEWPmEEsAhexsQRYAd7VZP/3WUqq5XzWfEdN8mX+Q70qj72wgsmaJNDhnpOf62rHYyfl0x349mzmtzRwSDv2TU0cMkDW9EjjEumer2EkO+ha7lYhGB+3oPNifpNdDLnqvt+n4Dpyv+GXzU0nLlSreksz8pW4cYFdiR94TK2IE1kUnZGY38tMJ/0KW+MyVWIpua7y6tmvWHmxlN10ud15sWslCXfNbBSCLyMmcQK/v12NBbLEAWJBrJnROrx0mcKXoysRcnzEiC6Mk0eU9cvRswIgcuf6ZUZBbz6jGFsBSD1uNA/sbR7yrATGBUW8JrOlMECMLV+QDjmvX3/P+FVCvO0R+qQNsMdB2YC9uEJba2WxLzivysTnA2rp+/kb2yCLx9Wh8XsKq4IVQv2rAtSbfPaRh65qqlPV61hx7OQaewBKJgykhqNGNEc70TjT8PnOEvOf12tjLNtEXAro216v36esqQY0cGcVP5mWLJZ2LiZxj7L3bltMqCalzbR3LVSFtziM/37uyIfVZveZjMSX5W3d65JL8zUuO5Ea5AKlZam/PARCgHBAgtx0DsyvgrCktC2wAh50Qzt8SYD2MwQASuZ1sZaLYqh0NZYTpVMVQgmSLhV1RelUUB7T+KHhrBCTASq/njSYAdI4h1y7x0xECM5J8VF05JovEmEDmhPQCaMiSXmVl76VAb6+99JpPqnBkvqr3HPPN1ib525UdlXXSMR9M0rDegEAdESIxpjsnvfXfyGVEbq4SamApuen0xBaSX+Yxf3qqGAhvj8Y2QLFiylJcsj+AEmdshYjQT2REKq80tn9FSNkl81Vy4D06swu9spNbkp/PpwKQuYPDKgB2kjo8Cw5e8dclGfgXHzEH/fNZ+UBHHule5xPmjrywGMb00om5Eb9qB3ORjc9kJ2ze7GzpzGYj2NIT59jb+m1QxEXsszWykeSr5zx+10OuqhfxIU5qz3zxXfGTOHe81t5+DCgsYmmM4tcuIMjtaChJwhbMV5vkkB0sh6yEw/WxTs6YBWbxGTlEr2auNQJAsebKbo9sHFaPLEYG6+EER9YkaM0d3R357NVz+ZG52XAvcPKjsy2lsNihHf2dTwlGYF5t470rjc2BdL3m0WPxk2DOZ+nuauLLuhLD7CJuMgffXYr5fO7qiOzZSVmL9SEgmmSjI/kIgvioABf5jJIAe15pSWJ8camL73SJN7s/cvOb6O+KDGuflUTZ30aLvmKPNrFGj70rnK1c/Ln2/N0mLxsyNund+EC1e46RRzErTvmKJBsy5JzYinxwt1cLphiDJ9kMZk7z8xEkgX/znXQbVb7T69ZvvZUX3ewZETexttYu/xwwp2UYShFEPRqlAdWt3UJlgVghZZOll8KzDg7AsTg/xxesW44mkSENrXF8RmDd1QL0AOXuxh4CA6NfKz3dLRPdS3iSULXNVQKQdQQwJJgkcyNgpw8ARR8VXJf8IeBGLj7ds7kesLJ+pcnRTTxK7HVHVHXfHpMp7wF+uOIadzQgz0b1lhJbvpdGh3zjCZnYAPbFNkt+20tPYtRtIrbX+Q8sydwZvc9HVCp6Vaz2rMGGKhUBMmwl1z3XO3KOuVOZMYaQRSc2xHBDbtyLu5cJgIRHGA4K6Ho0iR9rF5SAtTYJjdIrkHMaytGXSEP9/NFj8wsA8wF0yt0qV68RAAYZGTjtuhAAZek754wMdikhhL3vEWaOoyO/ARQ1yQgchK5Hyy4RcaX7dKSYv9KD+AhRqGM+a0wwk4s/92rmIwPQMAdiMrqJG2C5RQD8TSUNhtRdDnCngyuVoSPrs3FgH7cLzK3bnb+HxnZu0zxBAOI39MFv7NRHYgqcpHelfb29fcNfkJHcXnMO4nZXg/0SP10Ye1Xp9sjPR61X7BqR1cgSvahAwN+tHFXnukwABLngBfijy1MEl+wxQ6DhHo2k/J6aXRblB8gzApetykGvNUh0QFOAcJK7GwLGGRGmJLa7ZViaT/AImOyAY5deFYClOY+8FwJb5epVAQDYqg/Wr5xqvFpW37M2vgDMkSGxqpsfCQuQIUc1LrJ+/uuzvQn9ktzRj7n5riTUk3wtzXnkveCJHd4dGFtlQ8rEMr2w3V2ELDKYjz2sHZmE/3uTW67RY+Qj4hEhQcT4NFsgSE80OE8euZDfyi9niFA3AoCJ2B2PVIhrA4aABPC4A8iOGFiiYZjImDElrSPXOnMu4FImtNOzG7272fFa8xNzb61VIpH4EjCxS68KwNbcR/6W77Ug1b2SELAA3nZxdg8AdGScLq1X9UEHnFs7yNiFnOS+o9FzvoyJEN4179610Zek80QFIPbgj2xyByGresntAHKoPvDbu32XP4gZpJUciMjTDTFChvLdCfKd2TBcJgAEAaoIgPLDSONIrilFmQ+gjJzvjJEFq15vUcRpsOjRjT3YgZPSz10t67a7MzdbvaeW+5gqRwE143upAERXQJ5c/KdXIkLG+J6YsVPodd3IvGdE1HV2WANxlQBrJyvgv6uChDCrYCot0897wxQEBTG8uwJAL+yR2yGw5U7dwBAbvsSsDd9dPlF9WmJFXJEg+lAVebq59QAjfD/CxltMn4nrywQgtwAYCZiOdBAGsGC7GYH6nhumbDfc3nMeXb5SNrWbARZ3JmFlOoEhyZDhvTXyCd62I6/vqSnj6cC2V2MT6xafd/rEUfmVV8kpzu/4YhdiBEfMaW4+8t4qitHh3d8BCBmzw7ShQPDvahKZBGfeVGbY5onGDyX/4AZieqcultYcYhSZrlRluhIAZeeRyhGkkr8Ec6bcsaTM0e8B8tz/9H2FMyxtr4x0714vx2CLO8FMedC8721HHd0BlARMRuBiV/GlN+u1k7ojqV7RpZ2mCggfGk0i2R0x8kVZsfKeiRGdqorY/Iz+LwAYosMsyZ9e7tYNbEcCbSrh2ZO3E90izPeG+MudVdW1WIJlIUZXN8JdCEBuAUjOIwmA3TRj5Fv/awp6T+8r3wFf95/dQxpZIXHtsFU2uYsAmBdbl2gAx3tsSxUAQVS/gPYe5e4hE7uInSeBdM868q9mQHc0AUCGQgQlm5HEfM/aX53DV5GV0V8ChBk6UpQN3UhMX1o3AiCXID0Iz1O7f7LJNyEACMl7IAAqhPmukFx4pV0mAJyFEO5DSHJ3O8uVxX9pn8XU46x3Bo25kBz9SjlqpD2QFMGrhJegfu874l76SAVgdFK9Ki8yJhkD/dFAiyirNrj3f+bb01fXevTzCJwK4mifpXdz5JbIUTl7nC9WkQCEtdcXYc/IlU2NnT/MeA9+knzr/n+P2xGXCcAZxc7PjNEAAgBAlQpHA2hWgPD5roNbAHeSjsw/x20NsA8CoCLETrP9nwb4K1CX6GabGljSQL5wjnzZ2CAmX1qbBOALsiiwx5oB/R337cxnVwlMjU+y9S/IjN2XYkfNL0Z/AbW74AMviKza6b732yIDVTAv/UID/EPs+L6IW0STALxQ2Pzzx9KAgBAcqg3IwGxTA1MDUwNTA98eDcwKwLfHVlPSqYGpgamBqYGpgW4amASgmyrnhaYGpgamBqYGpga+PRqYBODbY6sp6dTA1MDUwNTA1EA3DUwC0E2V80JTA1MDUwNTA1MD3x4NTALw7bHVlHRqYGpgamBqYGqgmwYmAeimynmhqYFtDfg3Sf81oXucp/+e8GCP99D8mxP5/LZHZDTO9nE1wEd1D2jyb8XzP32+PF+YBODLs+lc0TvVgGcl5PGzni7mASN3PbDplUokf0/0zKOkyelRrBP0X2nuy/07+/tlT7/NgAi816d8frkWGL+yUwQgP8noIRrpnlGNJQI5z7xP92MO8wEx4w05Z3jfGgCggDQEwHPvPT77SQIguXtolO4xzp7B7/nvec64J0pO0H/ffjVKOg/A8dsDfoPAM/D9xgfCymeD9e+lejVKB2euK87lwHR69Njep3Ogyp4fDtI9uM1DjlT4VgkAcGBgC/GBdCCWZ6ljiOmAjZME4DJ6fvUdT6U7Y6w7P4MoeXYzfXhcr371hxyOyG9uQI+YZf46su97/0GUI+ttz+XP/FCA0oXA5MsekasDt54/wZv5U1qXYBMTRgSALe7+MSIJHemw05fsAbxn4lfZHHsOOj3N9rE0IDGIBeSv9Yn6mu/Aso9OAvK7BX4KXV5U2RNT6SHTdz6F0+8oSO4wB1nTVXLEeWIdEYCF3yAAQBJbyHOQq9G3jrGcsB6gpgPUJx3E3JgX1sqpowC/NDV6ZyPZ0olnjfvBkSXdCbaRjZGxeH1p/vY95z/ZOG56D79BsOjYzrZda14DOiSWj4wod1tHfhI6cxolf0F6Jzm2PuuscuQYQAB1xGiEHq76FR0CLDoTW4npHn5yRDbz6QAdidLvBPfIykb0YNOV7sfYrtiPbuMPRslL8oCd9f16/DRmRB/tyEbBEjHWK84kfPkxtreJqvqox0n+ckCvfGNuuCa36OzDBo4RsiT4Kkd7DA8TN4sEgOKUfdoPbr22Y/BrSTohdcn3iV2l4NCBht2OwGCEyG9tvRyiOh7nCEC49ZGyauY1mjs779G/LsU56txrx2H7owlJ1ZVj+koXICGOxqslM/a3HjrAzJfWjuQGPO12ydK78X/xVKtj9K3iYp29gOGV3PTB51swR37sWsgnTpD4EXp4Jd/a3+lP9+x+VTQ2tdsiK5kDZGuf7/F+8CSYAlckS7pEREbdxkls1DVEH+KDzwLzdBgHd874lOvSbY0TcUPn2d2m8mtUwUIY+ct7aLFR9MNGFU+87tHoFhFldx2W22AFQ1MR//73v/91dVFu7OWn5pbwJXudD+iJh2q/pWOVCZsPetK+QQByf59zA4b8Rne9GLbB0QQg57P4p38JjoF1cpC9gr7dTb7MQlF6L4PEqQQkvURPHCEBgwjEYUaBReTISA/IBkZIFnZM0HIcOpKE2DHA2itIIkM7AjR6smMiH8AxvxJ8y1yBzpkGCAKOsYWRLZT89dhi9HrJb818jY5TCeKLd+4ayWDHwu7RCZ/w2m4CqDzdyJgYBtwSLPImViOz0a4KLgFYNj2T7NbWSgbXy87RSD8AvL2Fw5awT8z39iM+bO3wFbjzZ7jBTuas+oC9OjIrjuiF7o40145u67XNl3zQXo+edLI+0SIXUmsjxT70tVTxFG/sdLbxi/hGNpL0bL5gpzFYSv+98wvZrbXaZ88xOSMrP+bPtX2DAOSPlGqxkkQ7URYnQCwWC7orsUW+dsRGgVrKLlXmJDzAMqq17NmccY6eILVXfiyPDgCDWx5JetjjU0HLXxCPapulYwGrvHmm8UMgKUn8v/bulmeapqsa8Ktv8SQIDAkCQ4LAIHBYEiQCgSHBIEkwCBIkBodAYPAIDAl/ggSB5C/wEzA3Oa5kveynzu6enpn6mIurKqn0fPTZtWvvtddeVT3nTK4NF+btPV0yr2gRpeY3M1/MFwEirPiEEFqFgyPfK6L8g6xiY3uEY0WOKFAYe+ZzCB6JZ4cuZF/tgCtdPtnlHLGTSBxmTFg54uC8H4JnDy7GOQTDM01RyPXqMbu6M8XqXbvFyyr2Dp+Yx6t8wh55Ap81DvikLaZ3bX/1PIumGp87j8396jbVqQAAbApQB7LcEkAiIQ4ByHkRBa9O7p2/I1ayuuIURILwJDMlHeIfUYj5gI8UXIVGInI4cspKIv56Z45Xf2tebEBIaYgASBNDSawD8owCmLkDreTTgdEuRFR6PijjCGP8ZuUvnv7+lcbvCkUVALCLFPlpBAbu2hkBYL7iM7PJAbkQ0lBY+Fr+jihid+aGM1K0kKv80WOjIwErj+EnWM4txp6xlBvwRxjxTTobYIkdBIEtb/jkT/aPyG1YDZ/xB0ESn1jtR6Cwly2xx9/p2d69EwPn8Cf+Iq4yjqPnCqy8lceuvaqZk3nCKnt91sH8s0MtNmyFFbsBsK5A62L7Kp+IsVjzAWzwi/x1vdl5w//hzhqno8cWoLAa3j+rz6cCIIH2h5xrhR1QzCggGf/qiBAAQVIQJshf5yh2Z5vo6hrvvoeYQlwKLt/M9I8gAyYb6jbXTBtaHxJBISnEWQEaspJUxEjtPXwn/rBaBQB7PqERJvGFWMHoiAJyNlck2q6YxMmKejS5y1X5Aa/izBaP4w85TJAQRrCRjmhHY7n1i3xSROR2xWdPwXEWoxS2ekuMGMhiBqFHtPX0Cx+4rvGJgRYnCq2dNTsvxMCslrnKF0KefXwhp3V4kfNySeeTnnFS+BXT4BS3EK0rmvkdCQA5zEb+wK/8cdcHDwWAibqY5KWKOWL21kd1NkAAIZAiDFvvQAHAsxu/pNBY3bFFgiKN0Y0fKOEIMwnLD6saUhCXeq8UqSt6CFWs2Du6KWSIW1IkaRWTT2hWLLGJMIJhyTqzIRFFtSV45M4++B3RELi5wwScEOdEAQKXL3KpZ0F7Zg7GzupXPsPpTGEWW+E0BK/ow4hiI2YzFjOxw9x1fsFpcpc9sQ3nyPfReQUXxGlyWeGHkdg3OkY4Fmat+JO3HmeHmTjgA5wz2haxUeNae+DjHX/cEgAGl6hZzQHFqsbZlI4gAAS79BVNggQYQKoAA8ToxDBXflA8sqq0hboyLoAoLgg0RGFXQpyIAgISkY1ukpYf6oelZgiPO/OC1+CFmLazNnM1xUYEqotVbHF0CwbZjhIkdRWFODVj6TPI8yo+cBkBIC7yekWDhcREHonJKEF2d37ZucktCfZZicv30dg19/p5ntkLHEI5XJa45IjXkr/Om4FhODV+FSTv4uO2AEAadatMwkhkZDtLnXJyVry2pGastNtECYEiCoJIt8JF7kSApAWO0TsSkiFgZIsW2xxnNsCsBM8uBX9FI4xgUkzinxV2HI3JT3Cb+5bssxpe1Qhn2NHjK0fk3junswPg+h67R6uABLMrfCBH4YVNttzFxa4MUkXqM1u9HcIefAIv+ozi8miufIVvsxsQn+Eh/urJd0R8+NQ4+opdZ37H6TrRk1u9R6LA++8W40cx8H4WOPGLOvwO398WADHOJDkiBih4Vp+U4ugmGTKuRO0Juru2IwZzZgdVjCzZpSk8sW900lYBYEwkbjfA62Ix0zfmKh6ZuyMf8cfs1XcSpO4A3I3tjPPsDiGz+MqqO/iZMX4dA3FYgVd7YhcM9SQ0hQOR5vo5uhVBDKzwAXwSYLElR3ntVsVMEQAHGb89WvR8Uqufho+t7j33aoQGQabbPSQYVzUCUR7IEVjFc4ouftPhJD6wqzaDd+EyO1bGfmfH+WkBgGArAGxVCZLCMzqJXT/ORiYCM3rMFngIk9rL1jawJuhWvf4NUc9r7d/3em7FUFeS4uC5ZMmng3uNdec6VpN2hPhGjAiSWcKw2pcdgE8VAFa9teCyU06taAQAfxFpbQFSGHvu4pg3zNa4wInnMOu90aK59XFigUtgVbdzBLtyeOatAJ9bCbe1R/Z8UiOc2KTH1p4CAB7trFpoWtQodhZaCh2+Hcn57WpabupsYoMuL9JxnlpANMKy4jw6n82f2AjXEtCvtqcFQAaSsLZ9o+rdl8i9vZzT41hJQXCsJADC5CUrG2YmKsIkdgS6XSHUe7yjBYA5E0AACXhRpUlIyfOOMnw2dtkyJpByfxmJIraZjd8la70lMXP8R2PxD7FU44TUejckAZ/8ny5nz3IFrr2fWydWX0Rlb9vYpIDohGpdQeGP0XlT/Wws3dxxi8d1R6ByT/27Ho/z3zAZQ7zkMmzoSN1qMyLfjgzsfELjK1hhY3DccwdYPGCWIFNcdeNEEFiJGw+/tQX7Vf+IvTnB4DMCQ7Fna75jQ33yfHTjI3jIToC8PsvtK1teFgAuGtAGBI69gGByAIDIrZhyXQmD4L2XcfPe1URHv4fYiCHdh0NmNmDQ+cVqijhyn8oW1YqG3MQGOJHZilbxwSee60iLr3oRx7NzOxIArZB89prt+YShXbmIc7FQzK3yH61O2JLP2fg7hPZOixBJoavX8hoSl78h+VHkKeaubX5HtvALUYLIFV3+GtXkqRWjOV+JdHZaaVpcyWlC/8j2UXZeXVdc4Swc3OuWLO5wXflpjHAbP/GFXBYjOwP6IzxfzaG+Jyb5kPszGGQjjpNvfEHEXcW0jtnjcbgWNgijZ7nkLQFgAhUEHCCJejROzerAytqqu7aqPjlhdUPstsQUf4FY0SSNFQwCy+c0VhS6gJIviLcVrQoAOxFIVLfC7b2qfWZ+yKHeAlAIetuDhJUNcAoAACAASURBVKzgQ86OyA1JI6yrBi/ZBfB3/PhqC4njCCuso+YcHVbeHe/o+nmNjxUO/j+yRaEhdhRl+TNy250N5ipGjxYv3idGEsNH8ct8Rx/FjM/kFtsUoFdWoK2d+QxT+7rnirQYEQFy2bjPFryj63oNRnPNZzBvzvI5AoCNPfxwZmf7uvH4QYdbdeiZ9pIAEHhbJVYYVFgMcOwx+Topq5aqel3fFrOxqWJ9VFLcWb1SoIputoAAqZcqfSaQOZfvxEZcEMyoppickZcVJAHCjrNzRtmV6yKSisv6OKuHFcIxHx6KPfzUWwAgpJCZcezEyKGaR/FTe1QckXnsE8NXm1ywE+V6Zzkhn2E2uw4jYmIhQQBZSLDDvX8inV3peCS+QqK9Y1J9GN/ijDO/5HwLKvYj99E7i+LAN46PGkxl+9l8xO/RXK6uCbNW3grpFU7hEy+LGw7qUW/YZc58nLnc8YG/Sy2ML1bwf8QH24mX3I698nfeuy0AOJ7aqiurADlHZHYVvAz66CioApzrnh3ds7kbqEdjHr1vXETKllZpcnq10Upu5tbPkb1UeXYA2K17bUTjG6BHlFWAib/3EILY9ErQV+aAPJG+ooLw4TO7Smy00p3Z7Fq57424jK/Lpx45U+cBq3X73ypN8Wh30erfwIlYVdv46tkVRb1mVrrGV1hcX4cXHVmGOPlCQRzRFPeQe/zeHuGV2BnJJ5lb/fCcOMGmPIp/HD3ns/rhTHM42r3Idd892mK3aOCvK0xWbMWPRLVi+GqDTzsd8HfUYAm3yWFjyiOv9eS3dtHwaAHIR1n4semReDma19Vr8oNNV3nr7+VS4iCfcN7dWDwUABxsAImBSAWori4yMNAA8hVwriZb3wNyq3yJorBmjHqUDOxpC3O9zruPjWdeCr2xKFzjhWAlAtACL7/MIA+B1ZFE9bXH7GMHv0nkkduYfCPpKXdEhbB0BcN7fMZO2FnV7D4QiYhCEsFn7jWzUfxmNomJ0BGFlTFsEQU9Scx8YAMOsqpWgIkdpAkjLW6CHXHkI76RX3wlpq82BOZahITiIh46jOhiUwXAM1uvz9hkTjou4XPdjoD5pRubYBzJJ7G5ihHzr59zio/kFZ+lwNg58rg3VmKTo/krsHgDhtoGJ14/EgBw/U6u41BxcQzHhVMc8wE9MdTls9d7+oPP+TjxITjki25utRsbhusiUM71tAdvueXx6HM4yTO5JufVzrs4vhQAJszRnAKABkjPqkJiOQdwezZjIyRBiRNylBgmPbpVcgqRKaw6wLsXZd49g341J4Bjk1hIFITOP8SJxyHvxOiZD7NcjXv0nlhknHpE9mxk6yc2/qoCdpSNRCyy5AcYgVfEGl8RTwQBIhnRkJZr1/+GMLZchhVkzxce63UbEb5g6t0Ymj/izn+FZO71yCdIiy+qMOntE3yS4ppjxPwM4V7nwycERxub6pf6WD7BzyisxDaYyLiKmfjzm4KMc8WxrQPEgELpnHcan7gO/tCz0o89jnACp7ByJFDeGb/+bfWDPOV/46YfCSALQQW7Z5OfxpcjyVev6fJTF5f6mR11ma/u2vJFAPhDWx+Ket1+SiAEx+s+aBRl1HPSn3QtBBGHA6geYkTwI7fjjvyQDwMlFkdHKpoqHbGyrDYha0QKK4SGzj9IYzRRVTuefcxuwo2I478RDS74A1FFbMgb4zlawRBQSHM0huSoseTsEXFVDLEVmYjhM/cRH/lQEUFU7FD4dPziNWPNLsCP7J31viLGB/FJe1QQEf/d1dy7dstb8Q9mYcOiohaY4MXrBEHvhRh+Ne90ONHxMPv4bKRQ5EN4ZQeBpqCmqGbujoSQfKq813shqBZnF6+OffXYjtZbOwCcTfEcKTADc4ZJ7zbfA1eBz3u2r6j3WaTBCxFDvRNglIeRS/A9YgyFHUHapUlc6pGQQzCzGizI2XaHqNrkMXHiPvgIgkXc7CAaFX3CZMQ4s3zaaxx+sNPZduSv4M3MKWMpHkcFr8UKYfLoHvmrPpI/6XCjr2j1P83a+Sv+8olYGNXEXy1ux756boePWLrrs287AMAn8CakgFQFmMGsLF1cAu/EHRXy6+tSd4mHOFGoiom4CLikAciRoDyysOdq8ej6vV+z0hq1A5AVt12GunKy6pdfkno2sfMfkQYjxA+8ZEfCY4LRKjz46e1v11Ncav/eMDPCJ0d+qT7yeHYj0qzqr3YbYUUNGFUHgo16nO0H48mZCBF+qX0Wz1ooEO/h/aujWwVqefx2x2f/z8mVqDIAEYDEbNtxxDMXvTPwPud5DyQG7fH5K/24f2H1mQ/5wPrIFjJPvEaO9ey1Y5PjbtsDrQeC3XoMZtpz9/PxHrDwxldu71b+UqftEmQX9llLvgkAhd6HDXT3NnQXdQ/TVk9A8OzF9/nbA5/mAQIg3/gleXbbHtge2B74dA/YlVGf1Wq3Fmud9vke4uyVHZkvHwL8dEds+7YH3vGArTu7WpJo5n34d2zef7s9sD2wPTDCA1sAjPDqvub2wPbA9sD2wPbAh3tgC4APD9A2b3tge2B7YHtge2CEB7YAGOHVfc3tge2B7YHtge2BD/fAFgAfHqBt3vbA9sD2wPbA9sAID2wBMMKr+5rbA9sD2wPbA9sDH+6BlwWAfznwbVW+OTDfHbD6Kz3z5RSv/DtEjzjVb47yTVEr/30yY+//3e0R2bHXyL/2+Hee2c0XAcGqLxHxBUm+pGhVg1lcwh++anx1Yw87wm++yMn/W89u+R/vFWPXua7m12pLeC2+iW31nNmPY4sj7MxsmX+Od8d+WQC0Xx7kq1V9U9KqRnz430jfcObHTWZ/25p/KfN/5b6kwfc3+1czNt39SsZefvNNdEjLD1coKL4W0pdI7PaZHvDNfAqMAqzPbL7K1di+FdH3fsCsbz5b1fJlJ76O+BP+RbP+0hs/jf7BoiO/y+d8bwUb/HbAiub7YIhFNnzCV8FbfOK2+lW5+L/3bxPc9bV/L662WBjPar7bRFxq99qd9pIAUNjaHynwtbSzv4I2E6R6EKlE8ZXFnC9xZjRKz1jGVPzZIUGQmeI/W7Wzxfj+z51Iiz0zfNGOQYRJVGS+KjFbmxQ4sUmfrdRjD8zyjdWuxFVcZpIGOwh2eawjz3wlcGyceeQPAsTPJPta8pU7AHJI55f6vfh2+GY2PoFTwhBGLDBGff/+1bxwmEWVAmeBBbNZgV/93aj3xEYs2CRG+Vpr3D8bN2KE54zri3pShGcKtbrzbCHua5xxy512WwAgSkBA5vmeaIrQKtPW4QqCz/ffWzEAp1+jowoBZFaToIot8fEJyphSR+b5sRvJAZgzG5xIAONKSknBJsmyqil2xFBWMUnU2aRu/nIJecUGBL/KN7b/0+F31Q6AvOUPIhqXzMzhxMQCBnHa6g9O4NdumnjNtIkPiEJ5E5zwzUwb4JTgIMxiQ35Dw3fOz+R8nKLI4hVCNfY44l6v6eya2dRDPJeayD+E2t0V+Lu2qj/VF/CiFt69HX9bAAgAcojzKWOEatXCiBWrf5MUAA4gAlY0808AVt4/NXcJS4zFnhyR2MwCg6SqGmYHQQJDqxpiYEdd0XkuYWY3sUhsHO3UrPJNVgyEvHxaZUfyaLZYTezlTkRixYjiogDOLHZswqnyVjEJVmb7hk+yOxQbciSIZq5ycYo84Y+IkNjCRgJSLZjJc+JkwcWOihnPR9/6zQ5My/d84dZVdwGgwCtwVrtxvBUDp8eYJNOso8kjcKCYHXhzNGY+CyE5V62e2JLVS1b+iRH/WM3MbFZQbZKyYUWMzFvxr4LErki2DWeTKgGt2CY+jnJoRavkYdsdhpD+zIYoFd74BJGvaDDi1zatshMbOI4omukXxa7yLJtgZNaqMv6HVXmsh0fskPCTBdeMHU+CVIfPKob4RKHLji9umckvdkYIIAIxeOGnWbtXMGKs+jkVO3ly6RnxcWsHwGCCnW0OE7bdvrIJgJ9YZQv7ZjfJyAaFhONnbz2180WgtioDRscAEihmNclq3NjBNwrNCnEU8kixj00RrZIHpmc1Ajo25Lgqj5BE7i0jsdnFJT7HK/HFzFhkfEdb7VU4yyX3uVc0mM1uFb9YWc7M38y5xgXPVpFKGCS3cv6oo90Xq9pgxJH4mFns27nJHXa0vKIezGrGsngJ1/oMnh35Z9tDAWBVQAkjcpO2LbWCzDMxYyt0yMs9IUBc0QATENmBLO5uuYywNR8kq0ni8TNK8F27QghWCtUOZKG4rEhYSVGJnV2VPGauGhT/aoudI36ZGSMxFieCOfnMDgVwRVNUghVkOrvhESKwFhi5NHO1386ZCKq7EHhmZnPrQSFJXHD/KpEqP6ovFDyxWRkfuaMGxj/4DsdVgTQ6XmyoO0Rq0KvtoQCw5SNRbPuYtK3clQLA5Nlg1UIAECgrmlUtsgBKSbry/j87fHpaDzAd+WpWiwAITmKHrTtbVbMFAJIgALLKVXwVPfeaQyCOswSkPKo7aPxCNM7GL8Fh3AiA2fdyg0fzVliCEx9cmt3ggwBA4raXxUcuz8Zq5i02Cp5OEOkzttkzviNOxW3Gljs+JDuzuFVbjFsFQG4jrooP2+RxOAV2iUeYmbkDbEeobv0T8a+2SwFgoCQo1aPYzZzo0aRCGhwws8C1ttgWI0KsnhSRFJX2vBnP6woGkYkVu2YmCqzARpJD4rLBimLmZ0TEAZEirmyPwTCR5PWZPhF7Y0ZEs4OYVvxnCY8Wfz60JHf4RgE8ig0fpbd/3+M5sazgwwjsWs3wUZq81p2nj8hzq0t5wg+6nSH4nS3IMmfHuqrz2D3m2APX6fVvej7mZ0U2nL9q5W+e5o0/YgteWbnI4ue6I4H7YddW/Gz+x6nxi+M7H1C9FAAAmIGsGGx11ETtCb471wKMAHR2gWvt4xcEMvO+T2uD5wpMPgvBJqSKPGYnC7VuNZltboVuNGEd+QOJ+WBQVcj8YuW/ovGLlWXEiCLzTsK+MwdEpdAlp8+wa4eAH0cUXvbnk9PsgJl2UYHgnINv9BEfDCR+4gfFxZirW+xxtAqX23JIE7v0UXbyQeWSiI9R411dtxUA+GR1s9JPjNgDuytaKwDeseFSAFSyIACsXNrtf6BkkK2j0YrRqiQffEAQqxpSBwTEbt4rG3JMcWGTLXjkMfuDQ+xwv9AOBHsIxaPVpbjxGTV99P67vlS0FLb8dwafwEyL23fHufv3diJye8ZRvoTU716j13lEYb1Fk8+tsEe8CH73f30ITu7rI3ZM6koXHvgkjQ3eFz9b8zrRz5ZejR/sQITMiUXFdmWD2dhj+z1cyi63ASKGFB3v9cxv8eeTeu8f169q5ixvKk5gclXDHRYQWXyKE75T93R+0884r6fdcjb/Mhu8HPFJzns09qUAqPdfAFDhS7JKXE6gipxHRQOuxGLQkVGPjHn0PmcjMCuGdnViwoAzgrBau1Jc2LJSJbPL1naA4Mg2yTOb0CRAVg9HZM1PXocRwgmxI16Y6tlcDwaNEb/A7oqGOGwVxg4kJm90he6ojxIqdh3gIrbIXY1o06udOceRjb1brg+rNY/5Je/lWAs1W3rgxThwmDGO8NrOWVwyfg8b2uvXHSvxkC84jW2xM0ci2/m9sILTCZDKJbN3EKs/jG2u9X/r+WJFI7bsNqtv/J4YiJFdALvAeQ2niUlqZG971VQ5bOyMWfNT7SMQCRW2OEfNvNq1PxUAVmgZxJETTM6qTdJmJVGDlO1f7yE7jujpDKAH0jQ2CpDJWnUKEFIZDV4rSoR5R5WOEkMIQhwqcYgTQPIB4hCzEUIs/s9RcgYPbKhbupl/3T6ruOr5ISdYq8kRbMIJgWIXq+2jsGIXptpizopO3Q04egxbErYXuYtRPssjR5BDbp+xMbHwHiHv/SrmxK1nQ1DikgVFro3IYovcQnRpES4wrXi/05Ck+Wcs82538Zyje52PCNuIW/d99V6NEDOvjEG460SGeKTowIUeux17CZGIc7yh0OFTGJTTbee7Ktp6+SHXwRcwknn29nfGuXs88ntscxQfNsZ3/OdvRjT8Fs6oeCHu1YG2FrAPB/HnWTsVAJRDBkNcSEHgCQCEb9LVEYq/ifsbTkAkgNxTAACjZEljo+0Q4+mS2Yph9D3WgKKKkdiUYwpfEjrP8/67R0mL2BW0GgcCgA8EHskmBsYf1fibT2JH9T8iDcHk/eDKsacAMA5VnnGyyiMA4EZhqZ3N3hvR+F8OxJYcFb+25z1H9sF1T2EiXzMG0SpnxKUKFPmDxGBaTFLw5H3PBpNIEymZZ1qKvBxGZNkC9z572N9LAFThg7eqHcZLzhIl/BXfOcKMGPVocpKgEQd2iAG+1AmD+tmR3BaptmQX511bkp/ib27myCcwEG5li57/XunNZ5mD6xoj88RlelpuG+aY10cdI0BiT3vkI3UJTpwLv/w0oqm/GT/xgBULLqItq/6c48iuWjNbu74IAGDQo5KBAkizBePoNRcHDskqmRmhK0CUKyKOkm4HffZ5gm3Mup0RoCSBjY+wfMAHofQUH7FZ0UVgSLT9EBXwso8dCjM/pTACsYLQqykQxj8KegVAHiMQq0qx7d34H4GlsNfre48PvM+WADIfwuopALLSzZzhM7envEYQeC3FzWvsgumeK+6aqLHFmPwgl9ou12ITe+C61+pOLLL7IjetalN4CBHjIa6aVwQcgvE+W3s0QkvB4g+ECb8KbXI793vryj/jOtffmUebcznnzhH25WaKOp+bu8Yn7HF9GDEeboNTeZs8y4q8Rx4ZrwpWONDgp4rHuoLjH0VabJzP7nebuRgjY0Y48wF86HwVjHpdoYMn/koM37XD36sZiY9x+F2M5Kc8xe9sJZp0PMxf/NDDF+0cjEe0suWos02BZR9fwIfY1Hxqr/nq8+QIO2BUl6vyKbaJi3glhgR9cHU07hcBwMnIJxegghNgwUnRNaDkyD0IxTYGer2C9mjgZ15D7OwyZhwr6MZQaGtzHocIhHN6N7ZwMh+1q0e21SSR3DoQ+xv292rPCgCkwV8RS73sEPes0MyvXR0Zz2vBE7JRVLIKC3562JNCwY62G18Bhl84lSQ5B5H13OquK+uMYcx2q7nOOTs5Ci9C6SkA4nsED7PygiBlW3xSbVEkQzC9RLSYm5cx8UOafDIejHjvqCX32e7xq01+KuribSw5aVyFA3a8x//e0zN37yFRr+EWvUcjAPgi4xFIOFbs8xo+qWLDY0XP4qKXAFC82gKf8bMCN56uuOU9R8WRf+Krd/1i/tUnsSuirI6dx85XCGGpZ2MLfASbGa8eiRWYdK5dK3UHrlKnetoTgWZ8GFZXWq7xOhzLa+fhfHg5a18EgCSTrFERcaogI2sgcGHJLHE5HiiRm9UWA7ze0wGupXNs7AE4xaVuFZokcouC7LmqiwNdE6HyUSV09lCLIVvJKZF1IgDBt2Il13zlyA/mT4FWQHqcpKmvi6fYRa2+MubR35g3XGQsgEzzXrDkfXFBts7JyqfnDgCMxo72iMhgBTYdraSymuObngIgxZUNCj8fiNUZHmE2K0y2INWKrfjzlaMiE1+wxdz53HiKndi1Y/GNc8Wp16pKbkTk1JjjDzYgePl91PjPHPBMLYZH5169hqgVC3PPbpVcsXJjQ3aL4DRYdT24yi6KfNN7NDkcPjU/9oXXEjNj1TmLpxyGMeTeIz6uCXOJj7HFwvWJEj1cJhbhV+exA9fxUa8WX8cOeRrRFr/UIx+xFW7NpVdzLfg4G5swkNeJD4zHrrzWyxbXqQJA7manPaJMDvFDco3tj0TzFwEg2ADmopSExhGcm8kxBPB0CSypGER19Cz8cZ5rAqBA3GkJxBnh3rnG2TmSVpHnJ8HX+AGBsA+ZsDWJKTEESmCc06tlVwZRJy6OxkrRkaxsUlTqOb1WDuYC6BRmrg8bmqKGVEJwsOFcPnNuQNvTJ2cCwIqNPWkeOxdmFQI4r0Up5716jC8cH13XyoGf8jfiBbe9CCRkCrOIu45VxTO8KkDiAS9yqFds5IwYZI7Vr3LFNmX7eRD2iBMMIzKF5t0W/LU5Y74R6HjOuPE/cYTj5Az74Vnv0ZBzzU1zNi6fxFfGrQ2/8If3e8WH6ICFuprk93BYHd9jr8e+HNnVqxHpuW6O+AIG4FJXo9QdfJdzHNndq8Uf4ao6DlywEw+rj+oBYSkmHo9oVQAQaIQRDmMXMYLH5Ls8JwYssh61QwGAJCRkLiABQiQGM4AuEQSFIYIyouCagESRFCb1qAFzSG6EPRIUSQNgJXdFsCar8wAIsVCoUfeP7L/7PtAh1qraxQbRs8/r/GZszyt4gaYWxLtjHp2XVX69PrxUEvMeLEmOrPSQMDHQyw62VQGAJI3lWEkBecEy3MI4AvY+X/Vq1RcKylEzd/5Q/CSzGEniFJ6jv3nlteQCPyCQ7LywEX4Rt+7WCAJLQYJXGOvRzFUs4pd6TfjRxUNnE5uRO+z6G8TWwy8RzZXLYhPfIPWKRxiVK8QL+xUbOKnn1Lk8+5hfUlwIZI3PvV7tkufGlFdi5G8sKPitR3MdAgAWM674n7W6GMz5bukRsz1aeK1uvYsFO+Vvuuf8BTOxw3kK8LvYrVySazviVdzGBjGBVa+Jixo4slUBUG3yWN6m572rrf/Y+UUAIIMAQRJqnFGTBokEuMhLB6BeAIhxOT6zA4AoiBNOGCEAgA5ZK+414Mi8kj07kIeCjNh62+J6yCj3ehL0eqRQjwRAT9+IubnXcdmFTOtr/IW08hpsmQN/9mo1aRG2Dpvt6qR+jkV8YHeUAKgisc4TSSHNrIwVaL13Sy7AIgLRCR8dQaQrsomNI3LrFRuEKWcy7tEcI2QJa2TKF7GHzT1b5bKMwU94pnJY3ssRnhSnXq0KgOwq4I0qnsMdcoV9saVyzbv2iLMcCFaMcTVPuRs7clQIe+HF2PxRV/euf9aqv/wd37wr0qoIyxwd1b5cm8iQv3ANG3w4siVHqj1Xj18SAIBG/ZkQcuRcK1vKqh3M+8CAPHso9DPnAb6AsOmqSV72AgERM8qmKDEkpdBlZeGI2BXEkB1bApgr2599T7LpEqONy6PnCmCvZGW3+NRkvRofZhRF8ezdEEcdGy4laeIDH+JTd0R6FxdzqolKoBE/6dW+PFbwauHp6RdxzjjyR0EhBiLg854jPLOzd96IgTzIWPFFPWbnwTnsS5dLvZt8rDGKXUdHeOU35/fGrOu5vnGNAQOwaqVf/VHtwsViagXaq7mWXHHtjAUL/JTcEUO1oYoE58p7NYDNvZr58Q0xSMDHppZrY5vzcg58E3hsfbfVsXN9R/PFIZVH4PVq1+RdW/y9GMCJXu2pj+EJdu4KxC87AIJuIiZUL3z0GBhGJGjrLISkswEIjprkocaQKZt6Jkg73tE9qtY//AeIPVeWrR15frUL0NolsUcA1Wr2qKi049sFGNVgV/wzpt0PnTCwC9CuLJ3XUwjVecWGR0d+G92ylX5lC1Eox0bljWJ/Nb73FJPkjFiObITgGcFXOxWXUY1wrmSusOAumKg2eMyOuuM4wiZ5kh2pjA8XVr0RKnnd0a1ft89SiEfYxBdZXBiPf+Qy3+ntwpSgZ1MP/BirzvfoMZvcqhCfUVxS/WpudQeztcnC1yL4ri1fBACVoZ8lrKRRcIC199ZpnWh9rLjrgCAJ2Ieo0j2X0AgeABToUUTGLolirFpsEoisXABCIJw7spkn0mwVaexpj1ZiPdRxOydJCZitGIEXooOvYOpMwLXXe+W5AoasMme26JLG6oYNVbUju7uJ8qw9ttRbMmUXstC9j9z4YyRW2Q2L8Ul7tGKCCfkzUgBYkbRk3doit5MzbBnZrFhhgm9SYFp7YIlfRhU4QryKM7sM7MGtrS0wzDcjGx4VA7uKVpEEPR/AB16rAh9uvKcIj/KPueIV/GZsxZZ/LCLObl3hILHtkdd83sahfS5+7GHn6DzmDwtKO6iteMUn8ktNhiv18k77IgDyR8DgYlRQ7QhL0EcnaOyoR4Ud8HQgFWwdQCXPLEHCpihQga/+YeNoAVJ9kseAkW0z/lHootolD1IBnBGrfzaEBPilbiWKDVLpvX2aebdH40vII3GW5E0RHuULNskf16/Y8Fic9NHCsPpFrrZ25LnPTfRYLdXxjh4jZD7JuEfHo7+b8Zp4tHnMvtEcp2AQRvI12MxRsSNeiWa8NrvJ1/ZzIWxjF+EKvzNwk3mLj7Hjn3pUDNlEKPS0yRztcusWlnobK0UXfnoIjsz10dFY5hpbHOWW/mw7FQDPXmjW+UgVONs+YlU7a049x6H8ADcCJceeifHIXsSWBAXUu2r00XXvvG9snQ+sFiSvgk+pS1adiFX4dtseWO0BZI67FJHKafIWRkeLkKv5sysLmtjGrpn5XO2zso8d9cim5H09v8fjFFZHnKK3Y+PW2T6BG7aIj+Or7bsTAK9OdP/dXA8gD32mMm5naGw9SYxMVxJqa99+vj2wPbA9sNIDWwCs9P4ee3tge2B7YHtge2CRB7YAWOT4Pez2wPbA9sD2wPbASg9sAbDS+3vs7YHtge2B7YHtgUUe2AJgkeP3sNsD2wPbA9sD2wMrPbAFwErv77G3B7YHtge2B7YHFnlgC4BFjt/Dbg9sD2wPbA9sD6z0wBYAK72/x94e2B7YHtge2B5Y5IEtABY5fg+7PbA9sD2wPbA9sNIDWwCs9P4ee3tge2B7YHtge2CRB7YAWOT4Pez2wPbA9sD2wPbASg9sAbDS+3vs7YHtge2B7YHtgUUe2AJgkeP3sNsD2wPbA9sDn+sBP9DkJ4HT/Rxzfhxp1I8PzfbGFgCzPb7H2x7YHtge2B74eA/4Sejf//3f//ZT835uXvcz47/927/97efo87PIHz+RCwO3ALhwzn5re2B7YHtge+DH9ICf/fVz4n/5l3/5rftJ8fzMueNv1FySXwAAIABJREFU/uZvfvsZ5+/ZOy8LgH/4h3/4Wfd77xz0R3/0Rz//7u/+7rf+PTuktT0/Keu3uW0B6X//939/2v307Ozfhm5tNr6tKuAFWrEZZVO2x46Of/d3f/fzX/zFX3xTzHBCUa/8eeDWT5/y/F/+5V++rTTkz1/91V/9/N///d/f+jP2+U3y3/md3/nW//RP//Tnv/7rv37Yk6+OVjdipf/rv/7rM0P/nzpX/srvv/3bv/3mk/hIDuGAH739+7//+89WvvxidSyv4YXf/q+1bPPXo9sCciVC4I//+I9//qd/+qef5d8nNT/Fjv/tWOgwfdQuBUCIyNEFBVrRrw6II9qjhBndqn0K3H/8x3/8Un+32CDUdl53n3M+m0YV3upbsfmbv/mbb0LsyD7z6NX+67/+62dd4h+Ndee1P//zP//298hkJHEEH2JgrD/7sz/72dgKJHxWW//wD//w5//8z//s5abD6/Cb/BGrOnZ9/Itf/OLnkMrhRU5eJCJ+/dd//Wd/r9dr5rHXf/VXf/X/dyTub/Rf+7Vf+9Z/5Vd+5dvf/uM//uPP//zP/3wy2vsvJzY5EosWErE1R7Hy+r/927+9P2hzBdfU+c44tnYz7tGR+J/ZauEhDPU/+ZM/+SbyEmPP4bpXw6FZ+fJJ+iMuVAR7tWACN8ChfKldfhzFx2ve8zc4cWQjgipe+Ul+z27xlfnCsvknh6uPzjByKgCQZr1A+/i3fuu3Tt8HzjsCgKJ+RVVLDIQO/JJWR2KtjZzxTkOQ5qlnnKyyzo6xwfsE0yvzu2MzsElWBS1jOlJ7xIfOJ3/wB3/QlSCsLH/v937vl8as4z/72LXMY0TLDsRRQrR28tUIgidCJaeV9RFGWzvghh2v4sZYCDw7dDkq5neuKe+t7KyAEemIZrXk+i12W1+0z3vZwr/ypL1+nsMLQSR38tpv/MZvDBEhR3MSA75XVKoNsaUebUPr7zTCl0/kyx2MEpHVBo/hrEeDXXaYu1xox7n7HE/x48iGg8MtYjBadNS5mBuBRIjc8QnxeNS+CAAX1m0hA0NWDHUQhdfAVEW6YplzJI9zHjUTeGYF6FzFIp/OtGpLIbYr8dNPP33rsQORvdOiOq1273b28JmjLW9CpWcDOkCzarHtTmghpyh1yUONIxCihQhSfHo1idUmJvC71fCoJy458hPcwFqvVm/ZUOj8wj8Z8+xoDsindzM3xZcdxjgbP6/zLXy/uhshR2DOXGq3OrhDUESC4gjv8NurJS7BruKPI+4UnPgm3PSuTfJDbuS6juwwbzbl9kkVKPjl1Zjcsdeihu/FDmbwq9zGYdXO9jG79FebeMAn3pAvLUY91wl1fKvjRf6qscNFrzZxNW/dVrViFW5v53v3Of+57sgG04kPX9wR2O/aQzzrMKIGWOg98gmR4tyj9kUAUIICHGWTi0sOxcSAKdocbNKIQuLkXM973kdkvGsiUUDM9henAyfQcAjbACd2mMPsZnwFB5ErwkDdqyEJyZoENHcx4esQbMYiFBRkySS5ezXkafVWBV/mquAkkY+OSILtiU+OrmdurzZ/q8OuaxE87S6FXRyE7n1x0SvBex+G3m0pwOIEl66beTrylY7c+aJd4cF45vOuLa/8Pb+wkwDw+J2GGwgPuDBXBUaxqv44eiyvW/5xHkzr7zax4f9085RDbA23GYMPYt/ZPdRXbTGWLiesno2FY+W0BVTGJZJxazrs5D1H3Og6rza5Uq8XTmWLeMkpXT4TCzrex3E6fOO8d3LHtdt5xSYFVpwsNNmKf456zs9RvN7hlLv+ZEvGhKtRjc9hlB9wfsVIxvca/OS5o3zDc2ftiwAARsGvF/FYEBQSYKhNkgNnLQiM1Xs1E27t8dyYekiBSADanKsAzm7xnbHtVlRCedcWgDZH6lbh0M+23qoAQC69WkigLVzAnzhcjWUVlfjk2MM+eKviL9fOkSCQQOxPQ555HwG9Q2K5JjKrhSPXzzFxk0uwIZZ5z1GhXNki0CKUXrUFVhVWq+kWK3W+R48VFYWvfe9VW9q/g0H+N9crcZxFjaL4rhiqNsQ3Yu/a7Tzrc+/Dk/EVNTxc33+XXzLHXJPvdZx7lg81h/GdhRfcv9oIGGPGhnqMaFdo5e9Zy99EOJ6teM/+/tXX1cOMfcbFr167/p1Vfxv7jJsjrLQLHxi7wvgvCQCrSAW0Jh9iVHSAoV1lMpAAoDKi4BjQu1UB4PomxCYFNttynrMhdnAK0MxuCYAj+wSuZ5PwegrxWdFVkPkgyr2XDfnQSeIe8FHnSKoW2KMxvZ+/yfHd1ZW/R+ZHqtgYSI4/IkrZwC8RDPAO93n/yO5Hr4mza1LoVQxnjmwjCuFVl08SOoLRrpb+yH+P7Hj1fUVJftsxYjNSTm69ck24jEC/ugWDsHUxlMO6gseP8Z2jnZFezVyTR0cFNBhXlMRNnN4tKAqFOerEFVGEI7KbmbmGxHOu20F8qcMYP+Rc1zjL/7u+kscKl26OwafjWT7ARmzAzZ6/Y4d55ZaMHBF/42cBJUZHtSdzJDJjD8zBzjuCJNe9czR3cRS37N7d+bu75yT2RJYxMs8cI9bgS+7Ej3mfD6845ZcEAIVVAeliZyoQOJzfrnZ6KuU4yTgmJ6hJzrznKEkyYUfFwLkSfWYDhmzBAAUbeguAu/NBMnwBQGeJfPdaZ+dJSgCDgRQwPrhqNVnZpzi4xjst22K2C+FEsYfbJE/FAZuJlaw4kDubr5Lkjm3mgEAjnolUXWLCARKrcWgx+0ip37HhnXMUAiSDQBWW6rNXrgv3NScJLP6QF/KTOOeb1i/G5ccWJ++IkWftx2EZny/45kgo3L0u2xXKcEP1Sx6LP5/AiN7yHHzCWK4BZ+x8N05351DPi0i8qg/1/DuPU+Ad77T4qe748uXIVfiRXWKCdxRnMewdD9whT8zNYkGHSbeOjB2/EYzBbDB1VrvrPH5JAACZLZco90pY9Y88bh1vUKQ2syF6ZJIJU+uc0DsId+eEuLIKVVjYoQuigLVdAEe1CICrGI4a++y68JUtOn5SDK629c6u8+rrfCEGwcs7H546s+GRAFJIxD028INYrcJs5qGYxCZ59W7ja8QVkrp7Pf4J0cUeOT2z1d0HPPdu48/sgrg2v+AKnX/uiAs+qPfr8d4KzAQnCh6OW8Uvag1BmRWvIwE72ydiC6d4jVAc1a4EcGLCDnyi+9zNnfZLAuDOHzjHxZOcOQL2O9tAd8fOeYoJJZTxiRZ2XTkqf9vzqLin3/mAE3upeKpxhGCSAAiFkLPK/aRmzokXXyFAcZzRxChjZ5W+grzgNKTFjh7F9l3/ydt6L/iRiHl3vKu/rzktXnhlJqnLneSx+MBNj+Y6xO4rO4L+Bm7whi1yOwWzeS4+yMLP+KtsgFfFPvnsmJVw7JxxhMvsgMvpWVxW55bdAT4gQtjDjrs585IAqIqDskXsBp5FqACg2FtBBgQUMgX2SoJVh549Njfjun4KvqMt5/Ra4NiVbXGJSy3rgJv7eyMSiI3sQuj6pzT+q+TufplCw94ZzXZYsOLeP9/Mwmvmh6TyORVHmB0hAjPenSMfVDHNrpErmSub+EeBEye8wha7IzPjZO6xgYDuRequ8yre/Z0Cwyc4BJZH8dxZfIxnXLcyrDA9n21DbMOb9XNhROIKAWBMCy14tWu1wh9qT27bwytxSMQOFQASM2SK1N136ZUoCfLZERlQ0q0CHF1IgM645mrO1Fa2s+OLs6PzBYZoGQ0SduZeq+3uT2nII/cv+W32tm4VrQTYisILA8EI4mjv866IlYJXVxHiMrPg1jlXOxRhW96z4yRnktcE/Sc095aDGyvwFbjBe7FhxK2zu35W3PBwdvHYtEqw4vL4hCBh26ymwOt1505cnq0vT+8AuGcVIjf5KNJZk1dErR7r6h+h31U8zwbIdQFM4lGa5lvnHwC0R/foEJqOxPhHH02u4qO4sFGifEpDIPmiJoWQIJjVxC/buo52SEYLxnZuYp/VAqwQsJ/QFDyCMfi1oljRxER+scNKV9GD5VlxkufGymdn2OHDbqsbQY9zEh/xWiEA4CI24LRVDQ/X/4RQAK3EZzcLXrwen8z+TIaxcaqdBzYQy/L42Tr4tACoCWLQmYBU/HP/1KTZMvoeKnAppAm0lQkAskVXyNJTZKwgVoBSEgCG+4W26ZDH6qb4EmjZVuW7WU2S6vyhw6pCs6LVFZQCt8qOdu6EYvxDlMxeTSm6YpQih9AU/mdXMu28nn0uX41bdxYR6qpmocAv+cQ9cWR35lmC72E/TCR/2bGiZWETHsa1bJmN18zd2DDLL3J7JtfKmYpT4gxeXllc3hYAJqjY5j6uo6SZUegyubrytuUyiySMQ2zoAHeWhElWAmBVIwDcovEp3Vn+OZorH1npxydJ3JkfMLPizu2q2bcc4hOrJauUCFei8VOKfz7AJDZWVojlDNuZT++jWzPJa9u6s3YS23koMDgleOGTlQ1G2BPc+MDszF2zzN1OTC02q7AbgSgu8LLCF/GJHI4ds3dZ8UnNWxz3Ts4+FAAKnnthNTFmk2lEB6dLCsFfRRQBwdExxW6lAEAU/LRaACBUNujs0dk2uiliRIaClnFn7jrU+RHH9V+3YPeTWnJa4V2x9Y9Icy9XzqywQTwQaL0NAjsK36pmsZXCD8OjdznP5lm3uC1+7Ei8U2zOxjl73QKGeA6H8AkBwo5VLbziA3ezd0PspIbT8q+y7+6APBQAiNw2R8iCATO3xgDOdk8+6YhQ2YToP61FALB1VbPNLUa2dVeKJEXYVrce0M64d2jOxqn328VldoNPyVlXTyvsuJp3clqMZoizagtyV9hC7vA624bYg2MUuOBU8Ue2qxp+qwIAnlfc989iIpw/m0/4gWgOh/jvHeJo1c4mQR9eIUxgZmar33ljR0QtfFcMPRQA9f53EmSmChRw5GBsSbEq+HcCbWeEnat2ACpAZ38opfUPEg1eHCnmGQRCeNgxyraysd9NknZud54Tzblvmvl/kmhF7hHVBPaMW3nxmxz2Id4IEP6ZTaaxxREua6ysfGdgtdqQx8auH7jzWZ5VtoiLrgDPEO/xgfoiV+rnZnCqHaOVLbtEbJktyHLbQTxgotctkEsBgBQy6YDBimamAEDeIQq3ImYS1bNgA1ikumoHAFHkXpn7RDPj1PqKcg9mHG2XvfIhlfa6j5773AHB6D8OjEklz8aMOGSLLj5Y9WnlM3/l3yJnb2XCgDyR04iM+BCjXoR2Nt+r1xWbepuRiJyB1SOb4Lfe45VHs/HLLiINdi26YPfdreajuZ69luJfd8/cxlu1+GMPYQanfOI2wGwBUMWQmMBoj3YpAKhySWrSFDJCtSKf2RQxW4UISxA+udUtsxXFl1jKdplbAataXcFYiSuGhOToDxCZf/49FFYRxgryRFYp/LYMrZ5m582j2IfMkKyCM6vV4qboriy2mTPBlh0j8VqBGbZU4ShniPnZq17FTt4o+jCsBsz8DALhlVupxrerivtX7OLxA0HGB+FVdVCcZjU26IR6PquDT3oJ1FMBIAmA0GpWokpcBbjXwLMcOHMcgQJWfUWTJNnWnU0cdb4pfo5Ai1x1yTSiEVvw6raDcRBnL4X8rL11q85OxGjR86x9CB5O8kuIVnb66LxWRHCI7VMkyk/u8X5Cg5VgduWtM7wRO3AuPOOUmc3CgXhmh5UuXIzGRp1fbqMaX/7M3Hmodsjb7DwnJnhldj77LIpdMjbYBejdTgVAtv4RhUSdDcTeE511vdlbQ5kXoCAvShFQV5JrEqYeiclRGEISxGkU8kzCiv8JED3JSuys3NaOXe3R6gU2suUNK2we+Ql8O2PIlDj9lG/Xq34Rp4pVJC+Ws1v9kJedGSKJYJvZ8H5WuzNXukS8bmwcZv4zP3dw5GPz18VAn80rPn+XD8mO+lDqqQCw7SEp3IOyYliREEdB2a8de8BqwbYuoqXgVyln1lUyzWPEP4rMEHZW3orNihYBYJ7mjLxmrxbuzDsCIEIF4eojVhchdeLCzozVP8HxaY14DE4dPR+F1au519sjcpkds3mXABArfpg5dnYaYNHK306A+f/IzW5MbsGPuqV7KgCyLfaJJPYjg+Js7hQzseb+84qVQ7Wrkik1b7U58h6e3QVK2fwVnRVNwTBH5GmLW1tly9X8ES0RkFsACIZgHNFwBzKHBzsiK3elruYnbsGsPFpR/K/sm/keAZDvZpgpAGAlOzFuPfzIzU4pH1jM4fKRPHIqAHxoiQr9tA8v/cjAuJq7VVY+f4BoZ29XVduAN922JlJRdEY0+FR0dSuokclyZb+ioZtv7Fhly5Wd2amwpWiVlQ9ZXf3Nq+9ZtSAxq36ruZEi8FUb/Z24Ba/yaGXu5Bai44pm29luog9DzsQvfOiEGBH2Izd4zGdmRnP5qQD4kQOw5/79eIBCtn2t2MwkrO/HQ2ssVUQjSPciYk0MvqdRLRAIRIuF2V+v+z35qbetWwD09ui+3vbA9sD2wPbA9sB34IEtAL6DIG0Ttwe2B7YHtge2B3p7YAuA3h7d19se2B7YHtge2B74DjywBcB3EKRt4vbA9sD2wPbA9kBvD2wB0NujB9fLJ69n/lvNgRn7pe2B79IDPhW98pP536XTOhhd/yPBh/RqD6d1GOb2JXzIlw2bR2+77OGJ3QWAL6DxP52OAdBDK148wf9LGidj+rSx7tOk+uxPhSOp2k3Lv3H48Qb/dz36d+nN13jpfLEiUV8MZ/c/y9zh8ai3n053/qhvK8zkkhOJUY6KnD6jxQbH+KgdN3nlOKv45pPgyV/H/BrpjC944gs2ZO4wAw9en8ElxgmHVbzGHkf2zWh877sb8u+i+Z6EHH23h3/vFBc+moERthjfvyjOGK/1s/iIQY0NP60WqLAZjIRP4OgOZrsLgHzDmB9lSfK0juzxXDB8W6Evf/HFK4Dh6Ecs/C+2/28eTeZ1HkAQ5zsmUQXGt8PlG53q3/R+DIz+79oXeTjyjS/XANgfsZl7CkiIqx5hJU2y+JdC/4Y0uhC7fvKEPb7IyL/MjfqthMzR0Tx1Nui+sdD/X7dkgdzZpY8sPLGHbXyP3GuHYz5KPtW59HzMF/mXUjxCtBvXdzrA0QwuEQeY1MMXbPBlWmzSFcEIuJ7zb6+V3wMw/lXnJ9+hMINj8qVSxlshAOAgX6Edn8CqvMW9q5qx1dv8EBrsyN87OfOyAKgkInkEJIbkKz+9NipQiqxEAQoJkkRBWFbbAjXj6yQRgy9tQF5+xSpdovKRb1Rkiy+qUZhHNr4miggOfjFuyNT/yc8gjswvhIpUdV+wwic6n2T1DaR5L3/b6+i6+UrrJKwjfPiyEQnDFo0dvgCFaIptvezIdVzXdxYoKsEse2DD7pB+J2lzvVeOinm+ZIRQ5geEyi5EpgjBEQKBIUVH/EYQHIyIkdzRjQm7tee70Ed/L7w5yhXxzxdLiQ2bfCEaX42ITQQQoSoWBE96/JBFjlgozArRCFvgCT5c39g1ZzyGWbaFz/jJ7zvII5ga3dQVXxUsf2Y2HE+gyxNzrn5JTHAHLDsXrkc3Y+ATvK7OKfqtaDzyE6Emvmm3BIBJ+aOQlwsDK2CmZ9UtSFQhMgu4M1jPI7KqgQDEJG6O3gfkEY3ziRDzzFdnVnv4QJIKENscU2x62yOoCFJHVpKELeKEWPgKOMSsBr+3HbkeMuUXPkivviHSrIAlFILNe73xYr4KCP/zBfzykbgocvyEvIJn9iCyngnMF0SIuLSrfq/pWdnwAyIZ1cxLkWtJLP5P7sKMvHGeWPGJwtCr8T9CRVwZ++qYwkjAjlhQiBGcXtngPYWvZ+E1F5iUK/JTcZfLOsFVO/+nOOeIf3o3Al3M4ws4ECd8l64e5LGi51y298ybzAtnwh/c8tEZjzpPbrslYXe4V8Odalv8gStSRNmV13PMrV7+GdnMU+2NQBYjdubLtzzX02AmItuc0h4KAM4ECkmYSeaIvLPtoAimEGY1kUFGHE00diB4oGSrnsQRDOcgNEmuwPRoANAWtijBqGTJKQCCxIbeyWqlJqCuH8HjyBfxC1sARc9r/mZEi++rADEmfCA4OyOOsaMeJTbM9GxAnuTgq6Pdj5b0a2K8a4tryZvYYL5WT2KBqJB/OuKEH+cQA+ztSSBwz/91Wxc2Umwc+d/44oXUIxI87y0AiJzEX1HFLXzFD3LGe7gFVuWN2Hl8FMN34+Tvq1+MW3fNYmeOiLRX4/eIv7v8ZHw5T0zCSe+mwBGC5guDj0S593GvOOmwrcPQu831cLi6Io88xu2tCIOZ/IgQgdCzxdf8AavmWpt4JI9qjfR4ZDNPOcwuNiROyRHc4rFYyF84y0LIuWm3BABQ2G5PEuSI0AERgdfCI/iK7sgW5ckWY9dJhVhTfJ2LeOs579gm8eKDHPkBcXC0DqRAkFUfMPdsAnu0JRV7cgQUPUltNTqi8TkClyQZ21FhIwpgyLG+l8eSG0h7NgUlmDwjbQU5NjjCSK+moKaYZQwrqxBlO078RpTInTOb27+78xzuK5GxxzjIVMz0rGbYIV8iAGC5twCoOFBwiZOILzhhH3vhlm2axyG3O3N+5pzKbR6Lm64oJ3Y59sxjPBISv3tdK12xgV2Fp3fj/yzk5PSdBl+wxB7YhZcePGOu2Y3gJ5g4EgCJnzpk7J44qXkDq8Fj/GLhQxR4HY6DE+eObPIlC5jWpjqu8yLu2YYXa3soALKKzsQUNVsNaYIv8DWp897IY90BEPg09iALxThb4bEdsfVoIUfXrUBX9CWQFU4tLnzYKsd37EBMSVKEbb4RPWLBN+Ikedineyxukqp3M3aNv/kSKJKjtpogiYki3SsudaxafOtqWrLUFV/s4J+evsl1Jalt1CtxgdRCdATTEcnVuT372PzhMV182tgQHGKIIGKLOcBz7xZCYk/1eUQI0cwO+SSfRzd4IHTMvwovWEkcHXHKFdk+a6c4h1+N3cakXs97bGOH+IxaYPE73mTPncYu4kWh4cP46+7fH41hnhaXrpfe+gYudIXWmPIdD/Zsbfzx6BUexTNFebQAMNeIx3bebOSvynNwpi7VfOOrhwJAIDk4K8gMZhAgBBiJbBWnMEbJ9wzE0bUUjYDN0XOKOiuI+l625wWoRwvo+IRTJQCyojxbxWULtZLKu+Mr8Hwu+OZ1RUjGRRbOVfx7KuM6D58rqKKoTVbnEi1VkPGdPqLAGA82YxMSIcD4QxJXbFD4hMlVga5zvfs4xJWtSf4/EoHyqIoVxbF3g09YYRMiMF6bCyHy5LucJi5HtLqDhqRgADERtZ7PbrASTBDO4iRXsnvnPSKu9VkPO83b7Q3XV/SItRYnctwqF++ID665uzp/1kaxsYCoi7z2GsbHQ3rFLsx4fob19jpHz+VDXSjgOtzBLzpf6Pg+u2b8NqJVnMKAebHvrIllOEeejWz4yhhyRg+385V8ghWvwzN/ntWJhwKAKrfC1jkBiSALIBBwvSbPyEnXa9cdgIx/dkSqPQkeEDKWFSzxwx4A5Z+85ygheiarIpYVlOsb86zVYmdFPqpJlKhRNtUmYYAPyWVL3jl8RhyNtKsKtZCFsWu/u/Va53TnMWFoxVjHiniuf5/inPPk1YimcBA7GQdR1Ia8vJcYub10VQTq3z77uCVW4wY/8mV2k0PxC54j4uOPvE5AjcKK+cKGseAUdmqTO7GjJ4/VMfIY/ggdheys4Z+ffvrpW49d8rlH7HClwpbrEtA6riDIjC0+NbdawXRm97Ov467Y4YhPr7hcDLNQxj0jW4RjdhyMJXa1/ngM21f+eSgADAT8KfQCTflxRoLDOVaaI8m8dWa7A1ADlccIjIB55IT22o+eK8LUFV8YC2lQocaLAuQbSqy3TwDQNQM06k6M2oasJFIU4KjCYlz+qKulWui8R8XX4sN2z81jxKoqvuCb2AW/YhZsOCqKxGzUc/6ux9HczLuOJxZIJd3OiXP4g61yynsjmlVuFYRsIczgCUEo+Cn+SIVtowpexotA4yO5JEa4ZXZjTwSIWNiF4I8au95Cvp2jPMAfYpBbRuwiluRx8OG1kQ0mdDxWc7Ni1m4EO3V+k8tw3AMvxoHT8GhigE/hEs/qalJwc7Tj2MNHbIHLYIPoOBtLHsFI7O0hhq7moKbJ6fhBPUxNjg14mF36WXsoABQOZAGUuXBdTXGO51bAsxqbFNfYU48cYuII7Gri79qq6CJ5yrSO77FCY4U1orCw27zMjxIWF+JL8M0bMLyepATYM9C+64P69yl4EtX84UGcHGEkggVpeM35o5tiwk9tfJApwhrtF9eHU0o8O2hWd+le5y8iBbGPxCtft0INoSl2WXGJEducN7qZq9VscCFGcDw6JmfzkjstTjzHbXJKURzd+ASpW+XCBYFEFHnuvdH4qPODC/iQw+YvZ72WFac8xn0EinN6Cle+Nqb8xWWKG0FWBWNidbVTUefz6mNiI/mBx9qdM9eFWfipC8IZeDF26xNc8szC86EAMBGBr0U/zncUAEaM3pqqAUSWVwIAcHoCso6dx5KRHVlhxicSAxCqes7f9DwmMQNOyUh1UuGO4nIE1p421GspGoo64uIL5MEHyAuJpQB6D8kd7VrU6/V4LD56YpOjLdVZvpEXCn12H+SRmCVubCLWZhQ+mJHL8UPIPM8dEf2spngEL8ZmzyzibOd4dFuCTbhtZjP/VrSybXazOwar8geftjsifEOwwdTIhleMj++DXRxrfJ2AHNmMmSJrXNzVtgj92OQ4qxEodVxcgnPu5tFDAZDJ5V8t6mBWn1YM1NoMdaqoKyiCXlcObBIoxQ9gZzX2mH/1CZUoMWa23A6piSFhRougOsfsdgBf/FHtyWuzhCI8WunXQsuGrOiq7SMfs0My2kWLD+qRPaPFYp2fAk8sRpDEFniZ2eQpWzKzQGs8AAAgAElEQVR+jnayVrS26MaemYIo8+abuuO6QgCwBUbS4w9HYkBdmCFa4xNH4xGMVTSyh0AY1fi+vZWHVyrfEa5Z/VsEzVjcWMBY6Kk3iY3d72dvwzwUAJyLMKziMpAjpTGrcajeknnsEaDZjRJM4WUH/+hJmBnbqHXORIdiEiCKz0wxVG2xbZfY1KPPY4xuRI+OpPhEUtRiQ5Qg+5niyJwJgUrqsMLGZxP2Hf+xwe6HfK47MnaxZpK53DB/5MUWi4ssMOxcyasZJFp9mX9BrHidLYrYYzFFJMtfNmXlDSczhSJbsvLlE3Gy2pTbqxpMsAV2+QVOFF+2jWxyIwW35k3FCl6ZsavIFqIEr+WDmI52GV/53MFDAdCqrUx6lgBA3og84x4dj7ZlRgJCkrZ2WCnoWVmN+gT10byyNQYUxkWu7LONt6K1t0XYQpwoQKMb8kRUMOO+XD5roOgkNoh9BWYkaXDDR8gUlmY0W7V8UVcMscXRztqsVldUdUcouGWPVZaCNwMzR/nMhhW7EeIjV4JbMYFnBYaAnNXkTi128skCbNWiwrwVenFhR/JGHfLarIZTjXfURy9wLFqMITcyPsHsMW7x+rPtUgBQXFlRZsAQCAIb3SS/REAMdTuZDSFzdlUSGW2T69cVLtuoUavKKgC8lm2ikTZRhGIhQW0zU6HsQCJJ2JmruzPBRpyMJnMJYu6IUheTEIViQighEbFx3ozGJrcAYCbJCrPiYwUT+0bbEnyG1Pmhinu3stg5emfE9evtkCrEqtCfKQDqTl54zpFPZjYYFRMFHy7CH4qx18Vs9I6R/DW21WRus+JesdFn4fXI78GHPM5nD2YJgKy85W3FSK2PeGVk/lj5yws7Mzp86tkB6CoAbP1TFQiDk60sFdrcgx+9AwDoQFhXTVnhmmjdTp0pAIiikKikROwpbBI1SSNAXs97R4B+57WQAwAAJIKv98IIAQUHKGfsRlhhE2vZjSBKFFmKmWATx9FCxPxDEu1tIXGgnn04kW1IdmSyJrbiYMwI55AHIoGXGYSqwBmPb+SNGMFxXc0oyvw3OkbmHB/gkLqtnRWe9+FaMRoZI4SKO2JPe5x9Gw8mYdNtmrbhQjhyq0ScUgDb8155zsf4Vn7EBr6ISIUfPOK1mTtFdS5ZjPID0Rj+y23hem7Px/xsbOMGn458lY7r84FaeB6BWTyRMYwX3sD7QwQAJws4hSMZc39D0lh9I4yRzXi5x5HEFGyvI/fcM/TeTAFQv5TD6r8qcomSnQmJjExHEWqbAFZvehryBFSg4bfRTfEnzCKOotL5hB18NcoXmVswCxN1C9X7xoYTJMof7JvRasELjh1nCgDiK8IUwSNxJFW34vkFeY0SrPF1FR0eV0wQ+PERzkG+I8g0thDGKWwZtx5z3qyjBQV75EzbLDTETR4R1j3FiZjDKQzU+eNY4+ASNnlvNO+3885zWFWL8D+b4AJ28Cy7RjX8zjfyJzlkzPCvnBGzYHdUDlVuqyv97EZbYNTX7/rjyy0AwTZpBMWxSDPFxTEJI0FHNYCkuIxv+ylbucanfAAzK73YOMqWXFdgFZUoTjawsTZJklsVoxOFH4AifmBHS5bsIUgQSwRctbfX48Qkq1xAzAqFz5DWaAFg7hE8VpZVmJknspAs4iKGjq2/evnDdfgEbkMMdmP4IgJxlgAg2OWIbvVvNZN5B8veUwxDaj390F6LDVlUtCJN/OSP2FhdjW7EUN1JjJ/c+591i6jOUf4o8vK6bTgRNxNz+tE57d/cfQ4jOEKPDxRcOJE3dhyCY5gZLRKP7BYr/mELP8gvtYkv2D2qwSE8xC/Zmarj8UcWhjAtx3o3nGZBbPyaNxHxXj8Sjo/s+CIAOBWBG4zSSeN4gwUII7eC2BCHO9aVLfWX91JsAXh0U0CBP/dx2VjHlSiCxCbnjE4SxYUAQaatEIkvJLDkYBMV27u5Ph8oHomJHYfM3VHRtSsgefloVIMRNsDoUSEj4NiA8FtxMMImxUyPXyStnucEAHJh14iGJHXCi+jgl1YERuSLWcXyCHtgQTd/edQ2vvDerJ2ZLDCMaWXHT4lNz9V1O8+r53gDibdxyt/IN/5hJ47ukU94JPN29AFZr8Glootf9JwzcuGXeR4dYQZO5a7FBT9lt3GkTcZKPVL75NRRy04fIfBKIT66ptfEITWv8rwY4V0+ERsNPp5tpwJA0XCvwUVNjioPCKoweHbAO+dT3xkLCFNQiBBAyHseK7ozGhAAXESHJNX5hkKMMFJg+G10AwDAR15VEdZxgVXyjhIAAWbi4Rix5qgAhlj5JHGsNvZ4rHgQpGe+YEvio+hZPYxsCCA+gY34pL4+krTMTUEnvvhEYYHVWtjgmcgnimz9jm7ik+IFC0SalZJ4sDH+GrmwqHPEG8aUH9nV9FyujBJldfyjx7iDXcTaWUsxwovZZTs7987rEV7xf3xQn3sMJ1bbZwXwzljvnBMBIHflUUSJeI1seDare/E587mY8VNvAaDmyV3Xzr+lEn4Vs+/UwC8CACBcnGMlKsWFxHLPHQgoj5EtDjdpBMEJkhKh5Z6P99xDjFNG2uPaEk8ShKwQlW58/spqjzLnr9ENMI0lTmerNwQbe/mudwswxcL8xSbFTrGpAkCRGSUAxAEmxYdf0iSKHlsIOEL2LInzd+8eYYJPdIUeaepw4TUx67lKOLIXJohTq38CQPz5xtzlEp+xxS0keTS6yekUXWJMTrNPfosbW+xWnYnZ3vbFFv4Jt7EB5wXDvcd8dD1xUGSu+CMikpjqgeO6K2X++CLF1fP03PLsMeYjPxy9TwDAMXvlV2x8p/gdjdO+ZrwUd7ht52+BrKdmiU/P2zNyVp6IAy7BofhM/PMZuXdq4BcBoNApaBIjRc3gnO95z8m1zvacM+v2nLERgx4wOkqU0Su5ah/CqiRWbfEYEAV/VJGrtngMBGJlhW1cz3WCTfeeggy0SG2Er0KiCpoCTDyygTAwJr/AjNUK/41qRClCsB1m98j4kgaOdXaygX0j/NDOK6LL/BEXQnf0nK88Ht0QF7waT4cFfjB2Cq7X4KSKplF2Ialggh/SxY09BCKbZzQYqNzGFnlCUM/Ax9kcFRe2EEUEm5yJeCToklfeh+8ezZi4NPGoR3gRNzm1alckc8Rx8kodIuThGGbagpzzex3Vuwh3NahdbPGL9+USLItXzxpAqEegijsREC7hh3eKPx99EQBRWJXEAkpkOgMIwF+BePRY8HvcA7sLFKsCCcnh1Z4oUQCd2YCMTUDBHiDUkZiee0P85PURLQIAgRNtlLKesdllxS2JRsWKYEwMalzaxzPjQzy349fnCuHoxuctVqsNHoc8+HB0U7yO8hp2FKCWWEfag8NaAQDLhNCq1X/mS9CnJ3fEEukTKfwlbkR+r6aotNjwfGbOPJqLwlprEh/g49HYhdvsAPBJ++FQNhAGbJPXPYs/n2Qh08aHENItuN5pXwQAR7uo7SiDInPbDQyROKMdbjLGyf3CduIKnpXNjFVLdazA6vyDrHTBTx+tRKstHueDbuKSOImVriDq/MSX+ogWJarg5X/M62rCYwkzmlStYrOlXfFCCBE/sDIzPvxe7fCYWofp4GVEPOo14VS381FtkT9EIXL3/qxGAIpBcsftKT07VqME4tn8atETGwuf2TYc2QYf8GxXS1FR9NPlm10s+dyz0Lhe4lKP4hWeObJ15mvqTjDjCLsz4mUM/MH3eE5ciA+8pocD5dgIwSQGdqXaeojbeiysvgiABDXFjgNmODrj5pjxQ2Q5KiafAsrYuvoY37TH0XZRx7W45DGwShox7ElUZ/MJHtr5I40ZgrW1y5itLZ7P8EVrS5tH8meFHa1dq5+3flltTzv+EX5GC+nWhv38fz3A97qCXHuN00iuafHaK4dPBcD/Tn0/2h4490CKbz2en73f2R7YHtge2B74FA9sAfApkdh2bA9sD2wPbA9sD0z0wBYAE529h9oe2B7YHtge2B74FA9sAfApkdh2bA9sD2wPbA9sD0z0wBYAE529h9oe2B7YHtge2B74FA9sAfApkdh2bA9sD2wPbA9sD0z0wBYAE529h9oe2B7YHtge2B74FA9sAfApkdh2bA9sD2wPbA9sD0z0wBYAE529h/rxPODLQfJlWiu+UOvH8/jzM/btd+1XA+dLrXzbmxiO/JKX5y3ef7E90McDWwD08eO+yvbAFw8oGr6KOMXEd4b7Bq9e3+L1ZcD9wlMeEAff6pb4OPr63XzPuse+UtvvXBAJu20P/F/zwBYAnSPqdxR8n7fvFk//EVd+5uzrgPX4IcfOLv/Iy5l/vsM7Pw7kO+d977qis9t6D8jTfJ21H9nxYy71R62IN7+t4XcD4PhHbPn+/eTuqN8V+RF9+wlzvi0AqGXfe0wJ54cQHP04RX7QQzLNBAiClcTVHr84toJgjckOP7ai+wlHRwTCplnNqtN3VhMi1S+JFSIbvZ1pfD8PXFdW9bEfzYCVWa31g/H1CBT+6O0TMa+rf4XFD4f4IR6+mdnkrbn68ZDqi6sYxCeI31zkfW8fVR/gl2pfYjRq5W0u4uFHrGBTfPipztFjvxLIB7N+JljusKP6osbMYz8WhPdGNjzuR2/cGsFhyV8iCdelj7ShvbY6A4s6/0SU9PxlxHbMs+cZG07ZI5dmLvRg03jGrfiIbwi3OzuNtwUAYHI08rJFFkAAiF8/4wg/F8wxsxoQ+BU4W3WxR0KvAISE9DOe7LDVyy4rB78TzT+VWEb6xzjIim9qnNjFN2waDVTjxxeJSz36Ra2ZRdDKu46fx37xkh380dsnir9in7EUYGN57tfd7iRnL5wgAwUuvysem8z/rMGR7tcE4cZ8evuojo1f2l8uZOconBiv/oy0n3xtm/mLoXM9ntEUXvGqvzKXeDniOgsLpD+yKSx13PoYv+qzRFHm6ZdP7dTgD8JMbHSvz25yJ3hlj+eE26wWzjJujQ1biDT1506+PhQAgA8MilhWtAZM8gAkhYgkFByDj2zsATxBR6QmXB3gsV+jU+gk7uhGCbPFmH7+VvJafRvb6oUdgjG6iZGi7zfEz/xiK1oCieWoAmT+9SeBYcZPVyqAVi7iI3lH+0QySg5jtfjIc3glVAhXO1k9m4JpfPhUeBG7ORvbuOI1o4k1kS7uVSjHB4QrvLZNzGA6ea4gjSB8hUT+8FFulcS2+Kp3bMxVrmQ8GDjbaYBZOW5lZUV8h1RbX9557rpskjt6/F59kcfeY7Pi19seeWqe8jbjwXAVJN5LHxGb6i95QuzIJ3aImc4H8ig57DzcM6PJKYs8nY/kFTtwzSherfMSczESE+MmTuqw137xi198q8l47VF7KABC2hmE8yWsieoSB8HEGUA5sgmySddVnUmzSeIASYhu9O0IYiQKTPCrAuQboPW6xB7ZEiPzFge7DoSHxKl+SgyJtFHiyNjGzJyBVbczZFzv57URPjEOZQ4Hma+EYI946Xar4NTrzhEjr/VsEhQ2iDFH/o4AQF5iNqoZy/hZocQP7FDM+F/htSuQX3GstsROfxcy6ekfeQKfrX2eK0Deh93YLT69m4Ke+MPlGXHjEHyTgtxbBIkDW3Bo5ptjyJ2oV+AU27yXY+Wcd33ElireibLwfHKHLRnb8Wjn5F07/L158Uu9/VDHxTE1x9Wl0bVH7hij2lFt8DrcjhRF/KLWxQY5I0ZtHsvtO3lzKQAUsAwEjCZbVwuIwkA5x7F3glQwIa6MBQDVlgqanDMyEJxu9WQsarhdQXgeO1IM61x6Pk7SWhUg0NpsoVKCscURaPiyZzNHq8affvrpW8HLtQEWecEKwkUgo1rikbkidiQmcdPMu5KY99vkybnvHLMDQAAgDTakqPGDx6NaBCE/EALPzI/AhqP4kH96NuIk13ZUQOSxAqOJIaGSFacCUOPXyxZ2pMAqHuwwTuwwjhy3s1ntbTnnXXvEio8j1OXy1W0PRTH2iFMP38gJRaUWN4uJo5bbWGzgN/b0brXAZa7wYEdK3tTbzGKUxedIbjFHK3/2wERtMJNaCUej6o654jRiUd1tuZ5N8ge/w9GdWnwqAIAihYP6NbDn9aLAUEFjm7GnIq1O9phNWd0Df5uMxrZSCWhGFl5EKXnZYTVDPdcGxIqhrgCObNmuY0tAEcUuZgARnziyF5h6Nr6ABcXNMU3MYIYAaMVBzul1rIWPWFX89EqSMIJws/qTSPFVLztcJwIAWSAuPghJiAEyGdUQUOYHh5mf41mDB6vdYDp4gZ+eDUGxTSeO5CjfxLbs4ETUOqfGr5ctcJlVPU6RE3JHHhMHOltHCwAFFLcqpnzuMZxEtOWI6/RagNnGzneba8gTeZG444zaxKfWBOcRUPDSu7ElduRocaG4wofFVfACOxFPlXd62pS58z2s4Iw0PoloZavcG8X34mQHVU7wkXHjh9hjbHF0Dt88al8EgGTzhykaBjSpttgiixQ4R8k0suCaSE1a9oUYkJeCLJkEh83AcMcBjxx09L5ACPaRAo7/AlzBGCmK2Ge+xpOQCgsiU3CRmtd0hEsp80v8djS3V18Te77nE1tPfM9Pjkg1q+4RGDEf+IRDIojP6yrBnMSAX/gksXFshdur82//TiISo/G/+SNsK1pxgF8281HvVkVwuzNVxzK2+eu1sPCLAqwY9cYKsWqhIFdbTmGb1X+ND6Ib1VwbZpEl/gqfZe4RKsSk92Gr521F1+LjjAsbuBZ2cZ3ij9vg1vgRCfzDJjneFoBXfGXM+Jw9sNouEMRLXme17Xx4PorhKzbkb+rOqbEUfoKozZPkfMXLqB0Ac5Sv4RZcot7oLZ/0zpf4xVEM4nfFvzY8y3epBXYJWp/V8/P4iwAIkQO/wQTgqLXbNAYeOXk2SIqoPYHPBCWSACEWSaII9gZm9QEfJRAtIVDElYCBd3RL0NmUnp2SPJdMyHeEYjc/sZAYiMlYVo6IC8ki1MStJZYevlHAFFxztdoWn2Aj1/cabFQSdX6bSDm/xxEGCYAaAwTLHzoCHyFSa25e4U98FECiMDbmSBBYcfVuSBQOzxr/xAbHUasp48MinMBqu9KPDXBLULIbx7S4OpvHndfDIxnLNrfrKyzmje/wy5Ft+K/XwgIGYoN8bcUzm44wMkIAVCEqR87miMfYRBjFds9HNByB12BBPVSIjQUXGduRgBvBb5lTFlFw0tYdNUeuxx5i7Q5WvwgASU8Ru5AAHwUAcSVROcXE3ZvpoUYz2aOjhMgE2Uh9AaxgUDwecwSbRwYiIFV428aW3L/0PrCMbog8fjk7EkcS/WpF+I6d2arM3CWMBEH22YFg2wiMIMuoY8SoqNZxEBq8ZqXlGD/B1KgGg4hKvugIX5IiESJJQRkRD/hHAOYoL4x51I0vx48KDLtGiGjC9GxRwT9VMLEftkc1CwWdv2AIf+CUdLHzOj/gxZ47AMiZUIMD/vfYXOERfo2L5I0dPuYP/iFy2VYx/qqPXANnJR/sBtSFHFvkD47POTnK8d4YqUVMLlce9zi5Dt/8Vhc6o3YACAB5JFbmjONgocWqWjiST5LTYgEvWfjAcBYVic1d8f5FAEjOXAQATchgkkNAYkTOUeQU/1aRvArIq7+TNBm3PXIKhxwJlqtrvvIeMAAbn9SG5GNXFPpIQNSxJaoOrJJSQVT0Y4+4sqUHadRx28fGkMQZW4JKHHbwyYiGECNIkRnC0rO6lajIwspKsiRxEeuMFnHkCMPiE+Liq0pyveyRB8ZBDMFAexQjpKXX9xSXUc048kdskFRiRVRXO8RGLEfxCrEhXypfyI3aqw+yTd6j4Im3ueOQ7Erxw1GTz7X4Em0KdC/MuE6NvRxJY6M4wIkux9gZe9SC3i2LKzbBrgWdMfGX8XBJOjuyU+29lo972cZHsCJXxUvNEzsYxifxH+E4shHlGUuumD8eqbsg4oVn7+L0iwAwiQwi6PXieb1uo3LCzAb8VCCSEojYNKq4tHPjWGOm4Cp47LGN6HW+4bfRhba1K8+BFWmKC3soVYq1F2FknEfHFL2szNkyKkGsnOAhK/yQqjF1RBIhxp7gd+Tq8so/sJE8g+FahK7+7tX34MFcazemGMEugR9fIdI7W4ev2hLxlfFqzBS3vI5sE7NXxzr7O0VVXhjj7n9j8JNic5dYz8bO63is3ipE6HCqACpkuh20ujvjnBHirPod34tR4uTo/SrErILFiX29W4RWcOCYfPUYt/ITEZni73WxlNujW3gtYj4LD7FRE0Y3Y2QnEXZzuyj+4odn2hcB4AIJfi7qCBicn60QrwnMKFI/mwTypIT0bDezReLMaHYZjOeoSwygTRLxkQRZ1ZAmu7KtZwveCnlVqwk9SqFLAkkhLkfd/AkgXbELcSgEKxoMyzO2ik8l1xH2KOjBa44prkRBFQBwk/dG2ELwZEfI/K1gUvzEyWviAyujRCu8WD3hLiu4O42f8F0vAcDHVRybN5ssZKx2ddiovuKns52CO3M4OydcwYa2s4Et9bZARMkIAUDgtDbU54q/omulW1+3W4FrZjZ5FTtw/ug8Njdjqn2KP18RBDARX9zFc/z0RQAYwOoAEBU1wTeYBPCepEzhtcqc7fQYzpYUXZP3fEaTuACIuLL9UkURVT9Cpd+Zm8JifEmCOEJYM4DZ2ocwFLnEiKgcRehiYjzgN146UtC12GOFa/Wn89eqJnGRBmEtoVc081cE7V7BCmKX56ObuYuVLleMKT5iQ0Ar/iPt4G94NI58udMIp/iHrT0a/+NWBTiFJETuyBc4xmNYwbu9xq728wfxocOBjj/gIiveej5b2IRnRvCumkJcmC9u1eW0RR4uI8Kyw8kOwsjrM3mOiKxiZcbuQ41BfYzL8AhxDafPtC8C4NEfS17JY+tOAo9QpI9s8D4QACAA6CMS48wOgecDiUAgIStJLFlHJMSZHe3rCmFV8+5TsWdU4W3Hr8+rKhWfFOJ6zszHVvvBCgFntblSACArIltRsXuxotUYWekpiPJ7RcsttBm7VdmVMn9EfqchVvnu/J75BIPytt4OgFOCQJFLsX1GrNyZTz0HRxAiuCxCQME9y4/YBLvPFpw67qPHckSs7FDVxq4qAHDe7IZPPkEAqIPwIl6vcOzTAkDAFT8qUTL02hJ7NoCIKjsRHDBTABgbaesAyvHUl4Lbkxye8QkSEZusJKhiAJUsZ4n8zPWfPdfYub/r6PnKVpPVqrclldm2VQFwdxXa20ZFJaIIgVgJrhKwxBBbfJB2dHM/X35kG/XOeHxD4BMNPT+zkfzMqpYfFDddYbO64xfjsmFEw1m4w/Xlic5HZy0CwHEk/+M012/HwPW5XcQ3KwSAxS8eMb5bVqtFPAENz8+2pwWAAYBSAgHOioIHGBxOrQqAZFnV2GG7zDbVSDX8aH7UOwHCH/qqosJOCZrdGcJIoswUaK2vkGyEEbtWxim2EQCIC24k74o8Sozgl5Bd0ZC7HFJM7ELMEKsKHQ7je7tB+OSsEfu2np0nr3rvANRx2SFP+IQQCL/J5aOt+Pq3Mx9b+fMFH97dQelpXz7EGa4bebvoyG65SwzqFqFyp6coPBqzfQ1WjEm4W2B5/IoNTwsAk3dvapUAQN6KCvCZvES5SuDWcT2fS1a7IasLrkKSZKCMKfhVKzn+rStLSnkGqV/FFWbjn9wWuTp/xntsgl1FaMXOERJV+BUZ469ocOFzIrhEfOB2RpMbKejG9dmDo9U1Qq0rTUJ2tFBTTORM8Gr8Vfx2Fov4RAGcvdDgf4Ix/pklGqsvrLQz/qwPn9fxPbZDY9Enh/ng1fa0AFCAFb1VAoDijPMBceXqnwCILbPI6yjQUeRsUVSQ+0rSEJP4ZcaW7pFP6mtWcbFHsVu5GxG7qgAg4EYXloybo1UTAiekYWZVq1i52nbuaZ/cqLcPLWgUlbYRAMg12JmBZWNka9m4K7DR+qF9zqbc3pvhkzo+0UgkJSaE3OwFhjlnfAJ2RZMruEwO2918tT0tANyLUvxXCADKHWFxviMSXdUEwH1kzndcZUuSQTxs6Sr+KxtyFR9bupTyanv4wk6RROEf+J3V4FVxDVl4nK1cogSRZgdgFokpamKS7f9n7oP38pu5yhn+WFVILGRg1Aoq8XEvlyAhDoiCvO4chWZ0jtd/C/QpeKvrlTt5Z/HOBzb555UPnp1d99HrRLKiV3dvZuZz7IMbc4eR2bcf2OAWUYSp3fB32tMCwOrJtqEPAQrIzJUL0khSIo+VyRHisg2zookDEguRS8SjVcxs27I9aBtzdeMjHWYQqsIzq9CauyJPIMIKgcYO5GnVYMsZkWULflYescluFeHBHhjSZzZ5m3834w95vWLHyrwReDjl6IjkxWvG7gSRGhvkzyxMPBv76jMiVo7NsNUYBACBFl/Nxq7cgV274LhuRYNFolR/d+f5aQEgCFbfnCBpZyRuVk2KrXEBwMplBuiOAgzwSB15I6/Yd3TuqNcUED6gRtmh+B/dxxw1fnvdYMH9VCS2Qpm3NiEqCcIeds0WAHCieOhWlkSAoo/EEDxxAM8+MzFLmFj928LMKsaOgD6zwSlfIHFzH/nBuqt5WdFbTeEVKyk5nf9wghnxETu55byRzfUjEsUGya/it0fzZGuECmEtnjMWYxEAckje6ATtzGbHFW7Fys7i7Jb8hVeL4Hd3WJ8WACace1RIjENGA1UxyfYY8kRYo8e8Cmy2wAiRFQ3oswUkEflmhQipc4cDgEyxre/Nfgwbikr9bMSKHYnEJEekLnGz+uYrKn7mKoYNiAuBESWzG+zmNh5fzCbws/myg1jkHwUfnt8l17Ox6utEovgnn4mR2R+sq/bcfUwc6fCLB2csPiIAjGfnUy2YITziEyI93G/HdfaX/6h7vvDH3GG0x+L7JQEAtJQyxQy4Pgk5isSoTURhK87ER9+HS7CvjgoLIMy8/3BoJH0AAAF7SURBVMUec0faVDcS5XtEtbpJDMSloFHHM8jgbM6wmSLHHt1W3UrBWG1VaHQ26qPypo5ZHxsvO0d2RRS9mfcxgxO7VrM/QFb98AmP5Y0dkNzGU1Cyk/YJ9l3ZALu4Rxz1GRiKAIBbGJ4tHs1ZHbJDI3b6zCZ39J7C4yUBYNKUX1YwCjTnjGiuS/UYa9WKu50XeySu7f+ZDXmnqFlFSgQFb3WjwomS2LbSJipZgsBK7Fmx0l0dk7Pxs9LNLoRdm5lCNjhRNL6Hle6ZH3u8rthn1wxWZxe0d+bAVkVfHZj1YbgIABgiXGcXYLwiThaAK5pFt5zp+d0LLwsAJC8QIdreal5RUfBs8+hW3CsLSw14tnQdZzYFn9iiAj+NLKKIZydl6/8IAPcJJQyxttqm1saVz+UV7MCQ3OUvfVZz+wGG2fEpuzKz5t6O49ZmRKrjp/Bba+fV8+T91Tm93oMXu3luQY/+TEa12RzFRs7YeV3Bveqfz6Ok9lT73nn8P9jljnM/XtacAAAAAElFTkSuQmCC)\n"
      ],
      "metadata": {
        "id": "WiSXVtfFFfqk"
      }
    },
    {
      "cell_type": "code",
      "source": [
        "#Torchvision offers diverse simple dataset such as MNIST, CIFAR-10.\n",
        "#It also offers famous models such as resnet and simple transfroms for preprocessing \n",
        "import torchvision.datasets as dataset\n",
        "import torchvision.transforms as transforms\n",
        "from torchvision import utils"
      ],
      "metadata": {
        "id": "sgR-Tl79HQT-"
      },
      "execution_count": 3,
      "outputs": []
    },
    {
      "cell_type": "code",
      "source": [
        "mnist_train = dataset.MNIST(root='MNIST/',\n",
        "                            train=True,\n",
        "                            transform=transforms.ToTensor(),\n",
        "                            download=True)\n",
        "\n",
        "mnist_test = dataset.MNIST(root='MNIST/',\n",
        "                            train=False,\n",
        "                            transform=transforms.ToTensor(),\n",
        "                            download=True)"
      ],
      "metadata": {
        "id": "ua50kbHjHvb8",
        "colab": {
          "base_uri": "https://localhost:8080/",
          "height": 439,
          "referenced_widgets": [
            "76c9d867f41245aa90b4aa27fdf7fc3f",
            "58c8ca3f4f4e41409f33d69466d725e4",
            "6685b16c2e934b8c9c508aa0ba0e9149",
            "704ef6b105174e13be79719cece3eac0",
            "62331c7d294f4e3b88761323ddc37d2f",
            "ad2048f82d69473caf432d86389f05e8",
            "89abe11f27174ba0bf237305478258a4",
            "a1a49474dccd417f941abf0d9121eae9",
            "ccd5784c4c73459b85145ce5d35abd27",
            "66a3a75b2c5041aba92030eff4981c24",
            "b8454e903b5d49c886e4a808da559f71",
            "fee53ccb4e1943dc910ba7b31bfebbf5",
            "688e8ec6dfe54803b7fcf66e3ad4fe08",
            "242f9a9d8324433fada103221e8b2d50",
            "cd0b752f92b64f2e94dfc5e2483ef451",
            "03dd588300124253bbce8dbb49ae0915",
            "c04ec783aa5a4139a83cd173b0b4c2f5",
            "cd55b79338734811a87fe3fcacbbbc7b",
            "840ec264e87b4b45b42fecaf6f673002",
            "e929654a4fb8404b9022cd989d80ab83",
            "b875f630faf04442af5f0b13ca08c30f",
            "ed11087f1c3d410995e19e78075a7a70",
            "ce79b1c8aaf3493daa9219013736b6a7",
            "606e8774755a4d5ea5665e68663a2065",
            "ecc266d806a94b8cafcada357407c021",
            "710a08b0a58346f0a7817ed8acc676ab",
            "37c89738e0224ac09fea06861873ec23",
            "74db70dc8c6d4d49a5aa7f53361056eb",
            "894d083cc03c4bf7b682774b73690184",
            "e55bb164518f4e39b71e84bd98e82679",
            "d14589fc661a447dbd11be58a685474f",
            "1fa06f80b48040b4af45623587e88375",
            "3613a9a9ab394e33bc36ee9bae598f80",
            "de181ac3416044faa60449a4e4b39b4c",
            "66135b3511114e3a9ad787b871f1d885",
            "9ce5ad8c4c37415f907deb8c73e60663",
            "46557efd62f34560a1c8b8e3c15e5020",
            "638edfe7a44e4c62b687eb79e632a1c3",
            "62134b25807948b0af084763803e5b37",
            "73c896e561394461b699e689e1d919d7",
            "a47b457768994f8ba5b6353615a66816",
            "2382b25811e34b25a567013c61faf2de",
            "7df41ad5e1464189b981e92306d855b1",
            "e076fa2ff266428f90183756cb513853"
          ]
        },
        "outputId": "d941dcf1-4c85-4d8a-f9b2-a0c9973f0c55"
      },
      "execution_count": 4,
      "outputs": [
        {
          "output_type": "stream",
          "name": "stdout",
          "text": [
            "Downloading http://yann.lecun.com/exdb/mnist/train-images-idx3-ubyte.gz\n",
            "Downloading http://yann.lecun.com/exdb/mnist/train-images-idx3-ubyte.gz to MNIST/MNIST/raw/train-images-idx3-ubyte.gz\n"
          ]
        },
        {
          "output_type": "display_data",
          "data": {
            "text/plain": [
              "  0%|          | 0/9912422 [00:00<?, ?it/s]"
            ],
            "application/vnd.jupyter.widget-view+json": {
              "version_major": 2,
              "version_minor": 0,
              "model_id": "76c9d867f41245aa90b4aa27fdf7fc3f"
            }
          },
          "metadata": {}
        },
        {
          "output_type": "stream",
          "name": "stdout",
          "text": [
            "Extracting MNIST/MNIST/raw/train-images-idx3-ubyte.gz to MNIST/MNIST/raw\n",
            "\n",
            "Downloading http://yann.lecun.com/exdb/mnist/train-labels-idx1-ubyte.gz\n",
            "Downloading http://yann.lecun.com/exdb/mnist/train-labels-idx1-ubyte.gz to MNIST/MNIST/raw/train-labels-idx1-ubyte.gz\n"
          ]
        },
        {
          "output_type": "display_data",
          "data": {
            "text/plain": [
              "  0%|          | 0/28881 [00:00<?, ?it/s]"
            ],
            "application/vnd.jupyter.widget-view+json": {
              "version_major": 2,
              "version_minor": 0,
              "model_id": "fee53ccb4e1943dc910ba7b31bfebbf5"
            }
          },
          "metadata": {}
        },
        {
          "output_type": "stream",
          "name": "stdout",
          "text": [
            "Extracting MNIST/MNIST/raw/train-labels-idx1-ubyte.gz to MNIST/MNIST/raw\n",
            "\n",
            "Downloading http://yann.lecun.com/exdb/mnist/t10k-images-idx3-ubyte.gz\n",
            "Downloading http://yann.lecun.com/exdb/mnist/t10k-images-idx3-ubyte.gz to MNIST/MNIST/raw/t10k-images-idx3-ubyte.gz\n"
          ]
        },
        {
          "output_type": "display_data",
          "data": {
            "text/plain": [
              "  0%|          | 0/1648877 [00:00<?, ?it/s]"
            ],
            "application/vnd.jupyter.widget-view+json": {
              "version_major": 2,
              "version_minor": 0,
              "model_id": "ce79b1c8aaf3493daa9219013736b6a7"
            }
          },
          "metadata": {}
        },
        {
          "output_type": "stream",
          "name": "stdout",
          "text": [
            "Extracting MNIST/MNIST/raw/t10k-images-idx3-ubyte.gz to MNIST/MNIST/raw\n",
            "\n",
            "Downloading http://yann.lecun.com/exdb/mnist/t10k-labels-idx1-ubyte.gz\n",
            "Downloading http://yann.lecun.com/exdb/mnist/t10k-labels-idx1-ubyte.gz to MNIST/MNIST/raw/t10k-labels-idx1-ubyte.gz\n"
          ]
        },
        {
          "output_type": "display_data",
          "data": {
            "text/plain": [
              "  0%|          | 0/4542 [00:00<?, ?it/s]"
            ],
            "application/vnd.jupyter.widget-view+json": {
              "version_major": 2,
              "version_minor": 0,
              "model_id": "de181ac3416044faa60449a4e4b39b4c"
            }
          },
          "metadata": {}
        },
        {
          "output_type": "stream",
          "name": "stdout",
          "text": [
            "Extracting MNIST/MNIST/raw/t10k-labels-idx1-ubyte.gz to MNIST/MNIST/raw\n",
            "\n"
          ]
        }
      ]
    },
    {
      "cell_type": "code",
      "source": [
        "#The data type of torchvision.dataset is equal to Dataset of torch.utils.data used in previous lecture.\n",
        "mnist_train"
      ],
      "metadata": {
        "colab": {
          "base_uri": "https://localhost:8080/"
        },
        "id": "BfLenkVUJuTl",
        "outputId": "4d36424a-7546-4dce-ab31-46a998efcc45"
      },
      "execution_count": 5,
      "outputs": [
        {
          "output_type": "execute_result",
          "data": {
            "text/plain": [
              "Dataset MNIST\n",
              "    Number of datapoints: 60000\n",
              "    Root location: MNIST/\n",
              "    Split: Train\n",
              "    StandardTransform\n",
              "Transform: ToTensor()"
            ]
          },
          "metadata": {},
          "execution_count": 5
        }
      ]
    },
    {
      "cell_type": "code",
      "source": [
        "#Observing the MNIST data set\n",
        "plt.imshow(mnist_train.train_data[0, :, :], cmap='Greys')\n",
        "print(f'\\n\\nTrain data set: {len(mnist_train)} Test data set: {len(mnist_test)}')\n",
        "print(f'Shape of train data: {mnist_train.train_data.shape}\\n')\n"
      ],
      "metadata": {
        "colab": {
          "base_uri": "https://localhost:8080/",
          "height": 394
        },
        "id": "xTsXbF7gJ4Hr",
        "outputId": "e6158a58-cbe4-4ef7-80a1-a9acd10fe8bb"
      },
      "execution_count": 6,
      "outputs": [
        {
          "output_type": "stream",
          "name": "stderr",
          "text": [
            "/usr/local/lib/python3.7/dist-packages/torchvision/datasets/mnist.py:62: UserWarning: train_data has been renamed data\n",
            "  warnings.warn(\"train_data has been renamed data\")\n"
          ]
        },
        {
          "output_type": "stream",
          "name": "stdout",
          "text": [
            "\n",
            "\n",
            "Train data set: 60000 Test data set: 10000\n",
            "Shape of train data: torch.Size([60000, 28, 28])\n",
            "\n"
          ]
        },
        {
          "output_type": "display_data",
          "data": {
            "text/plain": [
              "<Figure size 432x288 with 1 Axes>"
            ],
            "image/png": "[encoded data removed]"
          },
          "metadata": {
            "needs_background": "light"
          }
        }
      ]
    },
    {
      "cell_type": "code",
      "source": [
        "#Make data loader of train\n",
        "batch_size = 124\n",
        "train_loader = torch.utils.data.DataLoader(dataset=mnist_test,\n",
        "                                          batch_size=batch_size,\n",
        "                                          shuffle=True,\n",
        "                                          drop_last=True)"
      ],
      "metadata": {
        "id": "iBR7efNOL8Su"
      },
      "execution_count": 7,
      "outputs": []
    },
    {
      "cell_type": "code",
      "source": [
        "#We are not using for test data set.\n",
        "x_test = mnist_test.test_data.view(len(mnist_test), 1, 28, 28).float()\n",
        "y_test = mnist_test.test_labels"
      ],
      "metadata": {
        "colab": {
          "base_uri": "https://localhost:8080/"
        },
        "id": "F4sh9MkTBjDH",
        "outputId": "b1b6b625-231f-44fe-c678-dfe15cdc94f2"
      },
      "execution_count": 8,
      "outputs": [
        {
          "output_type": "stream",
          "name": "stderr",
          "text": [
            "/usr/local/lib/python3.7/dist-packages/torchvision/datasets/mnist.py:67: UserWarning: test_data has been renamed data\n",
            "  warnings.warn(\"test_data has been renamed data\")\n",
            "/usr/local/lib/python3.7/dist-packages/torchvision/datasets/mnist.py:57: UserWarning: test_labels has been renamed targets\n",
            "  warnings.warn(\"test_labels has been renamed targets\")\n"
          ]
        }
      ]
    },
    {
      "cell_type": "markdown",
      "source": [
        "## 2. Make the CNN structure using pytorch.\n",
        "\n",
        "![image.png](data:image/png;base64,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)\n"
      ],
      "metadata": {
        "id": "UeojwTYmB8fz"
      }
    },
    {
      "cell_type": "code",
      "source": [
        "#Convolution layer and max pooling layer are made by lower code in pytorch\n",
        "\n",
        "#torch.nn.Conv2d(in_channel= , out_channel=, kernel_size=, stride=, padding=)\n",
        "#torch.nn.MaxPool2d(kernel_size =, stride =)\n",
        "\n",
        "#Using sequential function, you can make the layer contained conlvoultion and pooling layer as shown in the following example.\n",
        "# sefl.layer1 = torch.nn.Sequential(torch.nn.Conv2d(in_channel= , out_channel=, kernel_size=, stride=, padding=), \n",
        "#               torch.ReLU(),\n",
        "#               torch.nn.MaxPool2d(kernel_size =, stride =))"
      ],
      "metadata": {
        "id": "bkpouTpFBtsj"
      },
      "execution_count": 9,
      "outputs": []
    },
    {
      "cell_type": "markdown",
      "source": [
        "###Problem 1(10pt)\n",
        "\n",
        "#### Fill in the blanks of the code to complete, considering the output shape from the previous layer.\n",
        "\n",
        "*Input data is assumed to be image data with one channel of 28x28 size, such as mnist.\n",
        "\n",
        "![image.png](data:image/png;base64,iVBORw0KGgoAAAANSUhEUgAAAewAAADYCAIAAACm1Ec4AAAcqklEQVR4nO2dP5qruNLG7e/eDdDhhPQS6HBCvAR7CXgJODwhLAEnk5sloHQyswTIJ0HRPM/J+gvqObp1ZJAF5p/w+4vabpAxLl6KUlVp//39vQMAAOAm/7f0AQAAABgORBwAABwGIg4AAA4DEQcAAIeBiAMAgMNAxAEAwGEg4gAA4DAQcQAAcBiIOAAAOAxEHAAAHAYiDgAADgMRBwAAh4GIAwCAw0DEAQDAYSDiAADgMBBxAABwGIg4cBIpZZqmh8Ph4+Njv9/v9/vD4ZCmaV3XSx8aALOyx8o+G0AIcT6fDRtIKYMgKIqCv/n19VXXted5XbtUVdX132VJ0zRNUyll63/jOE6SxHIQ8xeUUvq+7/t+EARhGAZBMPCIp8fm65g5Ho/qvL2bRbnNN9gKVVVlWab9vr7vZ1nWNE3rLk3TPOpdGIZFUXTtsjhRFD216jAMbYZqmqYoCt/3td2Px2Mcx3Ech2GoDXu/36f+goNpmqaqqsfz4/v+8XfohqTp6e120wZ8E4tyHYj41uCS5HleVVV9d1nzxaYEIoqiLMuKoiiKIkkSTW13u12SJH3HJLIs4/9tmuZ4PPINiqKY4JuNxv1+50cbBIHhB73f7+rUdZnKti1qA0DEtwZ3r6IostmFX3KWuyxCVVUkCq3u8P1+59/dXjviOOaq17oXv0msXJU0Ebe5mXme53me4b9btahtgInNTVHXNY8UP/qnrbvwyUCbXSxJfzHigLvd7na7tcamKUSrFEdKmee5zbBlWfJBWoO23FuXUl6v115HPif86+zsftAgCLrC/auyKNAKRHxTCCH4S5vrZ8Aullx+MdaAeZ5HUWQ4wiAIeETYMlOFb6ZFTvjIXNy1k7Yq+LHRlOzTXTzP6zqrq7Io0ApEfFPw66fLqTTsEobhapMHhBBSyqdpJ1wyNJ+0lbIsLd1GHiLoSoxZA9oParMLpZo8HW1jFrUZ/rv0AYAxGXABc6Vbs9NUlmUURU8Voe9X4GfM87zHTBW3KMuyb/Rjt9tpmYKcDVvUZoCIb4cBF7C9H7o42vSjDTaRBB43N7uN/EStVustQxlSShsHedsWtRkQTtkOmlNpI2ED4qcO8VRqpZSWbqMmZ12h88WxCWXUdf319WUTEYJFOQFEfDsMCF9yP3Qb15vNLKXCfgqOp6NQ7czQA5wQKaVN9ONyuQyIbr+tRa0fiPhGsLyAtV22F75U38gmgM4Vh8rrWzcTQnARt6npXwSbe9L1es3z3OYmBItyBcTEN4KWiREEwdMEO22XdXqXfVG6YxND52eg6+sLIU6nk3oZRdFqT5QW/fA8j2xASimlrOs6z3MhhCGhkAOLcoalq43AOAyY9+MEQTD6Ic1vY03TkPcdx/HTjbXKRt45hJqQ3G43TezsS/kXwXK69Xg82oy2QosCrcAT3wg8MkBe2NNdtpdFcL1eqe+gjQBpwYfT6aTOm+Zykusax/Gag7xaWsjxeCRNV864mpu1dJBhUa4AEd8CWqFzlmVPL9SyLL++vtTLDVxydV2ruvwBs3YULiCZo0k8yscg1l+xot2TsizTjllK+fn5KaUcUDr/nhblDEs/CoAR0PqF2rRn4rNzAzo6jTu5N0qYglRD60HYRdM0ox/AsnDR7AplUFd0m9HmtygwGGSnbIEXa6Od8DTNpGkqhEiSxKbb+G76/h51Xe9foG+DLctMEimlZSwFFuUQEHHn0S7gibLH1owQ4nK5RFFkPxe3sZoUm7QQylEZYB5vaFFugZi48wxoFjqgW6kGLXxj3ma/39Mf31MuAViW5el0ojUi7PfamOLY3JM8z7OcLVjEosBgIOLOo1Ws9G0Y4rQfWpbl4XA4Ho+9FHyG/h6+709669KwrJO0/KbvbFEugnCK82ixyL67uOs0kYL7vt93lnVjDa9HX4ThbS3KUWb1xKlmrCxLbS2VMAyPxyNmQgYwoNB5GwuvSCnP57Pv+3w1n1bqutaqYDY2BTfuPeltLcoSWtcpTVMtwWlJ5kmC4UtqUekELbmtrh/P855W2dHC5AZoZG0vukoNuzidC3W73fiv2TcVzHKXYUxnY03TUPr204OnhYC1ffnX30ByIZ94fL1Ocs0WtThZlimHYOlj+R+THwpfTtv3/SzL+G/cNA2PZoZh+NQCqqp6DIA+jsxpmubxiTsMw6IoXDc4nlFneQHbJBSPwkQiTgpuc/elLbXMcW0BhNY1lx1CdRogbPoNmFmzRS0Il+/3EnGutoZFr/l1ZVmMwE+o53lVVfXdxXX5JvpewJof+vo1b2AKcydd3u12SZIURpIkoSctbQQuUoYl3l1BuycVRfHigGu2qEUg+Q7DcLUiPmFM/Hw+q5qFJEkMGWlhGEZRRBtT28+nJRtah/6+K61sIwSf5zk/DzbfSFt73q2TIKU8HA4UsbVcf1mzOimllkcx7hHOj1YW9OIP+m4W9RQytvv97nme6luw9EE9MNHNgatw35Zyvu+b3eSqqvhX4P3nRtxlzTRN85jzS7N8XaeuqqrH+2gQBNPFlEa3MctqTA5/ROORPUWSJDaPcSukNUh4PB6rqhrwgzphUQaSX0z6Kdx+Jv2gXuy/J8hm5T748XjUpkq6+Pz8VHPcRVGYl1k5n8/qpRYWHGuX1XK9Xi+XS9fxSym1ShwhBP/urbv4vq+1Zn2dcYt90jS19L4VNO2x2+2klLw30yOkVi8d37ycz+c8zw023Kt+1RWLMjBPZdnhcFC5QJN+UD9Gvy3wOPhTn5rDM1INAfTvQdPxfBfLsDt4kelsDACNeYxtnZ74yDHxsiz5LTpJkmEOr1bFqzGgsgCrRs3PapcxA2BLjCziXMEpGXzYOIbZA23dccvGDu9TjLAeXlwaBgBgw5hl92macoe37zXMpdkg4tpCgjZlwRtrWQcAAIrRRFxKyZONqJi+1+7cWaa2ma1bDqiZtmwPBAAAzjGaiNPyhurlK274brejMo3WzfoGxAf0ggAAAFcYJyZOTWHUS8/z+kbDzTOZXZvRuoi9dhkWpuepRa9jTqDkqMQpADbM93rS9RxkHBEXQmgrbQ8Ygb/sKqXTNjscDr0+ZQMt6wAAgDOOiPOg825QyMKynSb/IFqP/OnITuelwEMBAJgZR8RfXJxJ60fcNYK2WZZlT13+six5qd5gEXernA8A8D6MMLGpaWvXnKQBzZHvygIc0Px+QD4iAGBVpGm6f4ba+OmWWseuDTCOiPOXA4RSE/GuPkcDkgs3toYLAABojC/ifdt7CiF4NMbzvFYR15ILbeZOB+Qjgjcnz/PT6fT5+fn5+fnx8fH19XW5XJR9UjNSzecAYFlGiIlrKd59vV2tIXIcx60j1HU9oNqev4SIAwNlWZ5OJ/JIKPJGLaTzPE/TlIKEZIQb6ELuFloPxVbm6WK4TkYQcc2me4l4WZZaOWXXr6X18rcJ2gzYBbwnQgiVrhpFkda4Lc/z8/msnjgh4mBVjBBO0VS718oXWofox8UzFVp022bwEWMph8Ph6YSJPSPWDYHXkVKqxm1RFGVZppk074mPmRWwNkYQ8cEebp7nXM6yLOsaakDpvJYzg1gK6OJ6vSpT6ZpUD8OQjBPPc2BtjOOJc8t+WgdPSCm5G54kiWHxLc11tZnVfL3+CLwJylTMSahkQhBxsDbGaYDF9dcyVqAmkXYWExeLJxe+vog4B3eU9cAf8sxGAk8crJPRRFzN9tR1/VTHeT8pWt7UvD13qy07FyK5ENjAp3C0DKhWMKsJ1sZorWj5nOT5fO66GOq6VgpOq9M+TR7K85yPZuNTa0VZmIkCXWi2YcgBpwQn2NLbos3M9crgmJYRowRcx4MguN/v/L9N0/DMrTiOn66h3DTN7XbTLhuS/q59q6p6vCsEQWDYBbw5PEJiXtobJrRaphA0TlVV2lRcFEUrsYf996i58UIIXuGmsrPruqY3qdV4HMdPH0uv1+vlculyfKSUWiRdCMFX+Gzdxff9+/3e6xuBzZOmKZ9jD8MQ/c6cY7pin8PhoPngHArVJkmy4GTJyCJOCCHyPKfliUmFSc0pTwsPpGBVSCm/vr54VhVliy94SKAv71yxOYmIA+AWvGKTSJKk7xKDYEHUNNgb/moQcQB2u4egyg46DhzhPz9+/Fj6GABYnj///PPnz59///23ekcI8ccffyAxHKwceOIA/I/T6aRlGdqvag3AIkDEAfgNXom22+08z7vf76jxAatltGIfALbB7Xbjks17HAKwQiDiAPyG53lFUfBEWCEEugeD1QIRB0DH930tT1xbfwqA9QARB+8IVaIZNjgej7zMuqtgD4DFgYiDd4Q3h+iCN1jW1hgBYD1AxME7YqPIyBAHTgARB2+HlNLGs/Y8T6Wp8L8BWBUQcfB2UCfop+EUKaXqGQ2vHKwWiDh4O0i+hRDmvv58oR+bZV0BWASIOHg7KJCiLdX9iEor9H0fIg5WC0QcvB0qGn69XrsSwIUQ6l98RSoA1gZEHLwdfErzfD6fz2f+jpQyTVPVXjzLMrjhYM2gARZ4Oz4+PihCIqUUQlCIPAgC3/fpHdqM6jbRwhCsHIg4eC+klKfTia+iWZYldUchf9zzPFpKEA44cAKIOAAAOAxi4gAA4DAQcQAAcBiIOAAAOAxEHAAAHAYiDgAADgMRBwAAh4GIAwCAw0DEAQDAYSDiAADgMBBxAABwGIg4AAA4DEQcAAAcBiIOAAAOAxEHAACHgYgDAIDDQMQBAMBhIOIAAOAwEHEAAHAYiDgAADgMRBwAABwGIg4AAA4DEQcAAIeBiAMAgMNAxAEAwGEg4gAA4DAQcQAAcBiIOAAAOAxEHAAAHAYiDgAADgMRBwAAh4GIAwCAw0DEAQDAYSDiAADgMBBxAABwGIg42DhSyjRND4fDx8fHfr/f7/eHwyFN07qulz40AEZg//39vfQxgJc4nU55nnf91/O8pmno74+PDymlYagoirIs095M0/RyubRuXxRFGIY9j3dW0jRN07TrW8dxnCSJ5SCe5xm2kVL6vu/7fhAEYRgGQTDwiGfB5hsZ+Oeff/7999+u/765yS3AN3CfpmmiKNJ+2SRJWreM41jbMgzDqqrMH1FVlRImz/OyLGuaZppvMxqP5+SRMAxthmqapigK3/e13Y/HYxzHcRxryhKG4f1+n/oLvkLTNFVVPZ4i3/ePv0P3JE3x//rrL5jcSoCIbwfN+yuKomtLTXEMW3KUx2S5/bIoF5t8vaIoiqJIkuTRj2uVHvOYRJZl/L9N0xyPxwEndkHu9zs/4CAIDEJ5v9/V2SMJhsmtAYj4diiKwlKb7LfkkIQFQTDeIU9FVVXkvrW6w/f7nfuV9PhvM6zmUbbuxdXKfuSl0ETcxhI8z/M8j/6Gya0BTGxuBy0UK4Sw3NIQUufQTKBNjKIv6S9GHHC3291ut9bYdBAERVEoHZdSWp6Bsiz5IK0xZe6tSymv12uvI58Z/o12u51NuDkIAnVW3TW5TbH0XQSMifa8bwg7alvaBHApIjyFazm6NXqeF0WReRvuVsdxbDMsj4kbfEku7pYx96Xg8R/f9y134d/dUZPbEvDEN4Xmsxj8HfstCSFEXddRFA1OaZgNIYSU8mnaCfc6NYe0lbIseVaiwWnlWm/OzVgc7jtbZn1IKblPDZNbHIj4pvA8j/tWhmd5+y0JuuScyO4qy9Lmyu/7XbjeeZ73mKniHGVZ8nuM5QnRkvxgcosDEd8a3OjrujaEKbk/9TR6m+e5dhGuljiOH1OPzdikdXPPMQxDw02CO+xr1nrNNrrk8unDBExuWSDiW+N4PHJ9MTy0ajEEw5bX61VKueH5padSK6Xkp8vgHmru7Zo1SIultN6W6rr++voy6zhMbmGWDsqD8dFMv3VeSNXUcbpmpUiJpqteWcQaKQ3RcIo4t9vN5kR9/37yLacKF0EzgK55Wqr3eTqacya3JeCJbxDNT2z1d+hJVtuy9fG2rus8z6mgfNTDXBjlFdoE0Pk5pPL61s2EEPwc2tT0L4VNLOV6veZ5bvMwAZNbkqXvImASuCq11krQ5XG73Z56jqRE9mWNA1jEGtUXf1r//f17cmFXPiLPPd/tdk9zHJeF/+6e51W/uN/vRVFkWUZqa1+v5JbJbQmI+DbRags1naI6Paq70wIFt9tNG4r0y0bpBjO/iDdNQ6JjkyGulTXyU0QdSG63m+Zgrl+ALGdcbWIphFsmtyUg4ttE0x1Nquh6U64iv561i5bGmbpiZX4RJ1/P930bN/MxKkIpho86SNkU64/kauah2nipjlfKrX5UWMsxV25yWwIivln4daKaXfB/qaZChqI7uva0Tk+jM7OIV1VFImWpttzLDoIgiiIqIifCMKQixqIoXKkt1H7xx8NWTyq9vpFDJrclIOKbRbtOlEtFD7M8FsnzNHa/hwIGXMnmw3iRUcIUJMqWMmGZxeEW2m2pdRu6P/UadiUm924gO2WzaEkFKmGA0hK0phn8qlYJA3meSym1LGDXSdNUCJEkiWUOsmVFzGDqut6/wIAGW1JKm2p7+ul7jQyTW4al7yJgQrSLqmka9ZiszRppJY702Eu7v/hguypPnBqi9sobmTrvW/NJ+zLg19G6wrbGlMhOBrjDazC5dwMivmW06yRJEnqn9QlaS49TYYQZHmzV5076KdRGvG/mH4/zTpE1OL+I8zQSw21p2DoMrpjcloCIbxktnksrb+06/FktvEAetH2G2SvMIOLDFNyQXOguhsyQ13HF5LYERHzjtEZ+Wz0dTbCIeR5spxZxUnDz2mOtPM3icA7N8Z/i93XC5LbErBObdV2naXo6nT4Zp9OJmt3MeSTvw+O0VdesURAErQsBT3VkcyGlPJ/Pvu9rFZWP8O6DBJ8A7FrKxy2mnqdtHfPdTM6MlDJN04+Pj9FGnOdewRfK8jyPUmt5TYHneYbaOfqxW/E8Tz2phWFo2EzLl2qaht5/3HJjpWLa9WPwdDTHc7YH2+mssWkayuZ+6kTTKsDavvxsbCO5kEvkdGtXrt/kliLLMnXfGmvMyUWcr5Dt+36WZfxyapqGz4SEYdh1sVVVpd2iybfStm+a5tHhSpKka1hthfLj8bgxBf9+6JJhkLMZnrVbmUjEScFtsixoS+372mRxuIVKFCEsF6UbwPpNbn64fLsk4lygDXNK/Gox1BcYCgQ0eq0cqAJzW6305ZHHpzN7/Fl4thDwFCJOukx2UhhJkoSewLQRNCUa8diWQrstDcs/sWH9JjcnJN8UJ3BMxPk18PRRlG9suBtbrlTLn9Geiriy7O354Ap13p7mV6j77pwPtqObtVJwezS3VHNap4s8zIn2LDvps8XKTW427ve7Cj9oRjXWR0wl4lyU+zaKM7Ql4jdtw7C8TdpTH4oOdeWNQ1+EUoNtalVUIHjOB9vRzXrAijD8Fs5jgIokSdy9zTdN81h1RcHDiZzflZvcI8kvJv0UbldjjTmJiPNLyP7uyr3srgc9XqdgGFlLXTJce3RvHFac5hB0QixjoPTzzXlCxjXrATWiKpJG090GXIy50aoXhi81hXKt3OQeGV1bW3FDxHkc3OBTP8Kff7v8Yn59Gi4nTcQNj410V5huhmc9+L5v+fh8u91mfrCd5/oBM7Nmk3vEXRH/b1+fxUxZlufzWb1MkmRYaq22oKqCe+uPWb0KrStQVxI6rbdN2Y0DDtIt7Mu7qan0pAejseZlzMBg1mxyW2JkEecKTsngw8bpkl0u4l3b1HVtKeJpmkopB99pwFi8w00UgIkYs2IzTVPuQfe9MrnUWop4qzP+2JyzdTPSeuqn0es4AQBgPYwm4lRLql5SR/leu3OplVK26jhNQvLNHse5Xq/aQ0DrUOSGx3EMNxwA4C6jibjW/+QVN3y321HxReuWZhFvleZHT5zccN/34YYDAJxmHBEn/1e9pOVie43QNZP5iGFukw6DHgLM0XN6aKDUq17HSRwOh1dWY9HQehIBAIA940xsCiG4ng6Yz9SEzH/obdb6L02dlRu++91h17ReueHOzaft9/ulDwGANfLNcgTfjXE8cbWYHjGgv6V9h8wuT1y54XQLMdwGLpfLDhkRAIBNMI4nrgVD+op4Xdeas2wYocvF5m747kHr67qmd8qyzPP8xWi41khoNt7Z3QAAtDKCJ65JsGFOsgvNkfd939C9qDWcornhBigaDjccgPchTdOnU1Nq46db8jS8NTCOiPOXfbvH7R5E3Owjt4q45obTZo+Bl1HccAAAWA/ji7ghGN2KEIJHY55W32jhlLquyQ33fy3J2rolyT1Fw1HkDV4kz3O1yuDHx8fX19flclFmLKX8/PzUXBMAJmKEmLiWItI3lqIVWD6tvqF6H/6hlKL+KM2a3AshhBA2IRcAuijL8nQ6keNCiy+TNeZ5nqYpxRLJsejrzYDpiOP4aQRVRVScm3kaQcQ1Y+0l4hTfUC+DILCJVvu+r7yesizp4nn037XAC6Lh4EWEEIfDgf6OokjrupPn+fl8Vg+mEHEwDyOEUzTV7rVuPcU3FLyNrQF+eTxGw1s3Izf8lZ5cHBT7vCFSStXfLYqiLMs0yz8ej2o1EvLQ5z5E8JaMIOIDZjKJPM+5fmVZZjkUV+eyLLsmKvlVRJ473HAwmOv1qrzsrmmbMAzJhgdfFAD0ZRxPnJusoc03R0rJ3fAkSewzRjQfp0uatefZMAwHVCEBQKi4n2bwGmRjEHEwG+NUbHL9tQwOqNmhnd20A4ersyFfUBPxEd3wcZcJx61l/Ugp1TSMOU4CTxzMzGgirhST8kDM2x8OB7UNLU7a6+O4Olv678fjEVoJBsNneij5xLw9ZjXBfIzlTvJKdMPSmlVVKTH1fX+YS6uWfXq6lra6lizX+gOgFbUiO2FYl/1+vwdBMOexgVEYXRIfoWXZ1QeNtTD0mEfMc0uCINB0s2kanpIVx/Er34HGebpKNz3VLr4GK9gAPEJiXgF82VXbwTCmFvGqqrTUuCiKRjGVkY+4KArN1mkJVPUmFWRWVfXiBwVB8NQN//4Vbn794wDQgn5hGC59RGBMphNxlbPUCiVcvBIq2H9PUJ4khMjzvCzLuq7JZaaeVvRlRsmfPZ1ONpVBl8tFSmmZfg6AASnl19cXT76ibPEFDwmMiLsVm5OIOACbhFdsEkmSoPhgG6jehM79oBBxAHqQpqlWZgwdB8vynx8/fix9DAA4w59//vnz58+///5bvSOE+OOPP5AYDpYCnjgAvTmdTlqn2aIoUIgAFgEiDsAQeMHabrfzPO9+v6PGB8zPOBWbALwbt9tN63WsehwCMCcQcQCG4HleURQ8X5baHS94SOA9gYgDMBDf97U8cW2ZKgBmACIOQCdUsGbYgAqS+fbTHxQAvwERB6ATvvxxF7yPJq3cPfFBAfAbEHEAOrFRZGSIg2WBiAPQjpTSxrP2PE+lqfC/AZgHiDgA7dDKD0/DKVJKtUYEvHIwPxBxANoh+RZCmNfx4Qv9aA2jAZgBiDgA7VAgRVvR+xGVVkjd8+c4MgAYEHEA2lHR8Ov12pUALoRQ/+ILVwEwGxBxANrhU5rn8/l8PvN3pJRpmqr24lmWwQ0Hi4AGWAC08/HxQRESKaUQgkLktC4gvUObUd0mWhiCpYCIA9CClPJ0OhVFod4py5K6o5A/7nkerTgIBxwsC0QcAAAcBjFxAABwGIg4AAA4DEQcAAAcBiIOAAAOAxEHAACHgYgDAIDDQMQBAMBhIOIAAOAwEHEAAHAYiDgAADgMRBwAABwGIg4AAA4DEQcAAIeBiAMAgMNAxAEAwGEg4gAA4DAQcQAAcJj/Bz9yhdP1lt9vAAAAAElFTkSuQmCC)\n",
        "\n",
        "(H, W) = (input height, input width)\n",
        "\n",
        "(FH, FW) = (filter height, filter width)\n",
        "\n",
        "(OH, OW) = (output height, output width)\n",
        "\n",
        "P: padding,   S: stride"
      ],
      "metadata": {
        "id": "IIon7IbObPmW"
      }
    },
    {
      "cell_type": "markdown",
      "source": [
        "![image.png](data:image/png;base64,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)"
      ],
      "metadata": {
        "id": "CWgqFIRWLC_n"
      }
    },
    {
      "cell_type": "code",
      "source": [
        "class CNN(torch.nn.Module):\n",
        "  def __init__(self):\n",
        "    super(CNN, self).__init__()\n",
        "    self.layer1 = torch.nn.Sequential(\n",
        "        torch.nn.Conv2d(1, 32, kernel_size=5, stride=1, padding=0),\n",
        "        torch.nn.ReLU(),\n",
        "        torch.nn.MaxPool2d(kernel_size=2, stride=2))\n",
        "        \n",
        "    self.layer2 = torch.nn.Sequential(\n",
        "          torch.nn.Conv2d(32, 64, kernel_size=5, stride=1, padding=0),\n",
        "          torch.nn.ReLU(),\n",
        "          torch.nn.MaxPool2d(kernel_size=2, stride=2))\n",
        "\n",
        "    self.layer3 = torch.nn.Sequential(\n",
        "            torch.nn.Linear(1024, 625, bias=True),\n",
        "            torch.nn.ReLU())\n",
        "\n",
        "    self.fc = torch.nn.Linear(625, 10, bias=True)\n",
        "  \n",
        "  def forward(self, x):\n",
        "    y = self.layer1(x)\n",
        "    y = self.layer2(y)\n",
        "    y = y.view(y.size(0), -1)   # Flatten them for FC\n",
        "    y = self.layer3(y)\n",
        "    y = self.fc(y)\n",
        "    return y"
      ],
      "metadata": {
        "id": "vDuhipRmbT1_"
      },
      "execution_count": 10,
      "outputs": []
    },
    {
      "cell_type": "markdown",
      "source": [
        "###Problem 2(10pt)\n",
        "\n",
        "How many parameters has to be trained in convolution layers? \\\\\n",
        "(Hint1: # of out channel * # of parameters in the kernel) \\\\\n",
        "(Hint2: you should consider the bias of convolution layer)\n",
        "\n",
        "1. number of parameters in first conv2 layers: 832\n",
        "2. number of parameters in second conv2 layers: 51264\n",
        "3. number of parameters in third conv2 layers: 640625\n"
      ],
      "metadata": {
        "id": "cd6lMfulgiAv"
      }
    },
    {
      "cell_type": "markdown",
      "source": [
        "###Problem 3(10pt)\n",
        "\n",
        "###Using the upper code, implement your CNN model\n",
        "\n",
        "*Using the torch.nn.Sequential layer, Make three or more convolution, pooling layer.\n",
        "\n",
        "*One sequential layer must contain a convolution and pooling layer."
      ],
      "metadata": {
        "id": "T1rokXXPDXZN"
      }
    },
    {
      "cell_type": "code",
      "source": [
        "class CNN(torch.nn.Module):\n",
        "  def __init__(self):\n",
        "    super(CNN, self).__init__()\n",
        "    self.layer1 = torch.nn.Sequential(\n",
        "        torch.nn.Conv2d(1, 32, kernel_size=(3, 3), stride=(1, 1), padding=(1, 1)),\n",
        "        torch.nn.ReLU(),\n",
        "        torch.nn.MaxPool2d(kernel_size=2, stride=2, padding=1))\n",
        "        \n",
        "    self.layer2 = torch.nn.Sequential(\n",
        "          torch.nn.Conv2d(32, 64, kernel_size=(3, 3), stride=(1, 1), padding=(1, 1)),\n",
        "          torch.nn.ReLU(),\n",
        "          torch.nn.MaxPool2d(kernel_size=2, stride=2, padding=1))\n",
        "\n",
        "    self.layer3 = torch.nn.Sequential(\n",
        "          torch.nn.Conv2d(64, 128, kernel_size=(3, 3), stride=(1, 1), padding=(1, 1)),\n",
        "          torch.nn.ReLU(),\n",
        "          torch.nn.MaxPool2d(kernel_size=2, stride=2, padding=1))\n",
        "    \n",
        "    self.layer4 = torch.nn.Sequential(\n",
        "          torch.nn.Linear(3200, 625, bias=True),\n",
        "          torch.nn.ReLU())\n",
        "\n",
        "    self.fc = torch.nn.Linear(625, 10, bias=True)\n",
        " \n",
        "\n",
        "  def forward(self, x):\n",
        "    y = self.layer1(x)\n",
        "    y = self.layer2(y)\n",
        "    y = self.layer3(y)\n",
        "    y = y.view(y.size(0), -1)   # Flatten them for FC\n",
        "    y = self.layer4(y)\n",
        "    y = self.fc(y)\n",
        "    return y"
      ],
      "metadata": {
        "id": "iPIKlLYVDSk4"
      },
      "execution_count": 11,
      "outputs": []
    },
    {
      "cell_type": "code",
      "source": [
        "model = CNN()"
      ],
      "metadata": {
        "id": "zX1BFl3Gd5Vn"
      },
      "execution_count": 12,
      "outputs": []
    },
    {
      "cell_type": "code",
      "source": [
        "#We can see the information of our model.\n",
        "model.parameters"
      ],
      "metadata": {
        "colab": {
          "base_uri": "https://localhost:8080/"
        },
        "id": "RznBQk0QcgFj",
        "outputId": "69003bfc-9d13-46d5-be10-0095f9bab89e"
      },
      "execution_count": 13,
      "outputs": [
        {
          "output_type": "execute_result",
          "data": {
            "text/plain": [
              "<bound method Module.parameters of CNN(\n",
              "  (layer1): Sequential(\n",
              "    (0): Conv2d(1, 32, kernel_size=(3, 3), stride=(1, 1), padding=(1, 1))\n",
              "    (1): ReLU()\n",
              "    (2): MaxPool2d(kernel_size=2, stride=2, padding=1, dilation=1, ceil_mode=False)\n",
              "  )\n",
              "  (layer2): Sequential(\n",
              "    (0): Conv2d(32, 64, kernel_size=(3, 3), stride=(1, 1), padding=(1, 1))\n",
              "    (1): ReLU()\n",
              "    (2): MaxPool2d(kernel_size=2, stride=2, padding=1, dilation=1, ceil_mode=False)\n",
              "  )\n",
              "  (layer3): Sequential(\n",
              "    (0): Conv2d(64, 128, kernel_size=(3, 3), stride=(1, 1), padding=(1, 1))\n",
              "    (1): ReLU()\n",
              "    (2): MaxPool2d(kernel_size=2, stride=2, padding=1, dilation=1, ceil_mode=False)\n",
              "  )\n",
              "  (layer4): Sequential(\n",
              "    (0): Linear(in_features=3200, out_features=625, bias=True)\n",
              "    (1): ReLU()\n",
              "  )\n",
              "  (fc): Linear(in_features=625, out_features=10, bias=True)\n",
              ")>"
            ]
          },
          "metadata": {},
          "execution_count": 13
        }
      ]
    },
    {
      "cell_type": "markdown",
      "source": [
        "##3. Visualize a filter(kernel)"
      ],
      "metadata": {
        "id": "Hqfa-E1vb9hH"
      }
    },
    {
      "cell_type": "code",
      "source": [
        "#extract the filter map of the convolution layer\n",
        "filter_map = []\n",
        "for param in list(model.parameters()):\n",
        "  if param.dim() == 4:\n",
        "    print(param.shape)\n",
        "    filter_map.append(param)"
      ],
      "metadata": {
        "colab": {
          "base_uri": "https://localhost:8080/"
        },
        "id": "1QjAx4SVS_XS",
        "outputId": "f02e2b15-1ef7-4485-f22f-026f6b9a6461"
      },
      "execution_count": 14,
      "outputs": [
        {
          "output_type": "stream",
          "name": "stdout",
          "text": [
            "torch.Size([32, 1, 3, 3])\n",
            "torch.Size([64, 32, 3, 3])\n",
            "torch.Size([128, 64, 3, 3])\n"
          ]
        }
      ]
    },
    {
      "cell_type": "code",
      "source": [
        "#Make the function for feature map visualization\n",
        "#tensor = (input filter), ch = (channel of filter you want to see)\n",
        "def visTensor(tensor, ch=0, allkernels=False, nrow=8, padding=1): \n",
        "  n,c,w,h = tensor.shape\n",
        "\n",
        "  if allkernels: \n",
        "    tensor = tensor.view(n*c, -1, w, h)\n",
        "  elif c != 3: \n",
        "    tensor = tensor[:,ch,:,:].unsqueeze(dim=1)\n",
        "    \n",
        "  rows = np.min((tensor.shape[0] // nrow + 1, 64))    \n",
        "  grid = utils.make_grid(tensor, nrow=nrow, normalize=True, padding=padding)\n",
        "  plt.figure( figsize=(nrow,rows) )\n",
        "  plt.imshow(grid.numpy().transpose((1, 2, 0)))"
      ],
      "metadata": {
        "id": "F2N6pVSPWl3M"
      },
      "execution_count": 15,
      "outputs": []
    },
    {
      "cell_type": "code",
      "source": [
        "for n, weight in enumerate(filter_map):\n",
        "  ch = 0\n",
        "  visTensor(weight, ch=0, allkernels=False)\n",
        "  plt.title(f'{n+1}\\'th convolution layer {ch+1}\\'th channel filter')"
      ],
      "metadata": {
        "colab": {
          "base_uri": "https://localhost:8080/",
          "height": 1000
        },
        "id": "EO2i88GZWwGA",
        "outputId": "831d64e5-56c9-4118-ab36-08c7da1b93d5"
      },
      "execution_count": 16,
      "outputs": [
        {
          "output_type": "display_data",
          "data": {
            "text/plain": [
              "<Figure size 576x360 with 1 Axes>"
            ],
            "image/png": "[encoded data removed]"
          },
          "metadata": {
            "needs_background": "light"
          }
        },
        {
          "output_type": "display_data",
          "data": {
            "text/plain": [
              "<Figure size 576x648 with 1 Axes>"
            ],
            "image/png": "[encoded data removed]"
          },
          "metadata": {
            "needs_background": "light"
          }
        },
        {
          "output_type": "display_data",
          "data": {
            "text/plain": [
              "<Figure size 576x1224 with 1 Axes>"
            ],
            "image/png": "[encoded data removed]"
          },
          "metadata": {
            "needs_background": "light"
          }
        }
      ]
    },
    {
      "cell_type": "markdown",
      "source": [
        "##4. Learning the mnist data using the CNN"
      ],
      "metadata": {
        "id": "Fy5Zb8w2HAy6"
      }
    },
    {
      "cell_type": "code",
      "source": [
        "#hyper-parameter allocation\n",
        "\n",
        "learning_rate = 0.001\n",
        "epochs = 15\n",
        "batch_size = train_loader.batch_size"
      ],
      "metadata": {
        "id": "BjJF7Fn_FtRm"
      },
      "execution_count": 17,
      "outputs": []
    },
    {
      "cell_type": "code",
      "source": [
        "model = CNN()\n",
        "loss_f = torch.nn.CrossEntropyLoss()\n",
        "optimizer = torch.optim.Adam(model.parameters(), lr = learning_rate)\n",
        "len_trainloader = len(train_loader)"
      ],
      "metadata": {
        "id": "HyOY_szAGjGc"
      },
      "execution_count": 18,
      "outputs": []
    },
    {
      "cell_type": "code",
      "source": [
        "#Training\n",
        "for epoch in range(epochs):\n",
        "  avg_loss = 0\n",
        "  for x, y in train_loader: \n",
        "    optimizer.zero_grad()\n",
        "    hypothesis = model(x)\n",
        "    loss = loss_f(hypothesis, y)\n",
        "    loss.backward()\n",
        "    optimizer.step()\n",
        "    avg_loss += loss / len_trainloader\n",
        "\n",
        "  print(f'epoch: {epoch+1}, loss: {avg_loss}')"
      ],
      "metadata": {
        "colab": {
          "base_uri": "https://localhost:8080/"
        },
        "id": "9SYBbsg5G-xS",
        "outputId": "cbe218f2-f72b-4c64-ce16-d5c5526d4522"
      },
      "execution_count": 19,
      "outputs": [
        {
          "output_type": "stream",
          "name": "stdout",
          "text": [
            "epoch: 1, loss: 0.7062960267066956\n",
            "epoch: 2, loss: 0.12323198467493057\n",
            "epoch: 3, loss: 0.06908109784126282\n",
            "epoch: 4, loss: 0.051703885197639465\n",
            "epoch: 5, loss: 0.034052666276693344\n",
            "epoch: 6, loss: 0.027314897626638412\n",
            "epoch: 7, loss: 0.022220605984330177\n",
            "epoch: 8, loss: 0.017047254368662834\n",
            "epoch: 9, loss: 0.014639339409768581\n",
            "epoch: 10, loss: 0.007653836626559496\n",
            "epoch: 11, loss: 0.007921931333839893\n",
            "epoch: 12, loss: 0.004702388308942318\n",
            "epoch: 13, loss: 0.01168017741292715\n",
            "epoch: 14, loss: 0.0042951893992722034\n",
            "epoch: 15, loss: 0.002320780884474516\n"
          ]
        }
      ]
    },
    {
      "cell_type": "code",
      "source": [
        "#Test\n",
        "with torch.no_grad():\n",
        "  prediction = model(x_test)\n",
        "  correct_prediction = torch.argmax(prediction, 1) == y_test\n",
        "  accuracy = correct_prediction.float().mean()\n",
        "  print('Accuracy:', accuracy.item())"
      ],
      "metadata": {
        "colab": {
          "base_uri": "https://localhost:8080/"
        },
        "id": "FuXYo_UFID80",
        "outputId": "c68e6cdb-5e15-46c8-de43-0804a540765f"
      },
      "execution_count": 20,
      "outputs": [
        {
          "output_type": "stream",
          "name": "stdout",
          "text": [
            "Accuracy: 0.9984999895095825\n"
          ]
        }
      ]
    },
    {
      "cell_type": "markdown",
      "source": [
        "###Problem 4(10pt)\n",
        "\n",
        "###Visualize the filters of the learned cnn model\n",
        "\n",
        "*Through comparison with filters visualized before learning, you can check whether the cnn model has been properly learned."
      ],
      "metadata": {
        "id": "INj7V4oHhRvy"
      }
    },
    {
      "cell_type": "code",
      "source": [
        "#Please write your code!\n",
        "filter_map = []\n",
        "for param in list(model.parameters()):\n",
        "  if param.dim() == 4:\n",
        "    print(param.shape)\n",
        "    filter_map.append(param)\n",
        "\n",
        "def visTensor(tensor, ch=0, allkernels=False, nrow=8, padding=1): \n",
        "  n,c,w,h = tensor.shape\n",
        "\n",
        "  if allkernels: \n",
        "    tensor = tensor.view(n*c, -1, w, h)\n",
        "  elif c != 3: \n",
        "    tensor = tensor[:,ch,:,:].unsqueeze(dim=1)\n",
        "    \n",
        "  rows = np.min((tensor.shape[0] // nrow + 1, 64))    \n",
        "  grid = utils.make_grid(tensor, nrow=nrow, normalize=True, padding=padding)\n",
        "  plt.figure( figsize=(nrow,rows) )\n",
        "  plt.imshow(grid.numpy().transpose((1, 2, 0)))\n",
        "\n",
        "for n, weight in enumerate(filter_map):\n",
        "  ch = 0\n",
        "  visTensor(weight, ch=0, allkernels=False)\n",
        "  plt.title(f'{n+1}\\'th convolution layer {ch+1}\\'th channel filter')"
      ],
      "metadata": {
        "id": "27jSb9WPhQzH",
        "colab": {
          "base_uri": "https://localhost:8080/",
          "height": 1000
        },
        "outputId": "dd62a237-9562-4c07-d44c-432553787576"
      },
      "execution_count": 24,
      "outputs": [
        {
          "output_type": "stream",
          "name": "stdout",
          "text": [
            "torch.Size([32, 1, 3, 3])\n",
            "torch.Size([64, 32, 3, 3])\n",
            "torch.Size([128, 64, 3, 3])\n"
          ]
        },
        {
          "output_type": "display_data",
          "data": {
            "text/plain": [
              "<Figure size 576x360 with 1 Axes>"
            ],
            "image/png": "[encoded data removed]"
          },
          "metadata": {
            "needs_background": "light"
          }
        },
        {
          "output_type": "display_data",
          "data": {
            "text/plain": [
              "<Figure size 576x648 with 1 Axes>"
            ],
            "image/png": "[encoded data removed]"
          },
          "metadata": {
            "needs_background": "light"
          }
        },
        {
          "output_type": "display_data",
          "data": {
            "text/plain": [
              "<Figure size 576x1224 with 1 Axes>"
            ],
            "image/png": "[encoded data removed]"
          },
          "metadata": {
            "needs_background": "light"
          }
        }
      ]
    }
  ]
}